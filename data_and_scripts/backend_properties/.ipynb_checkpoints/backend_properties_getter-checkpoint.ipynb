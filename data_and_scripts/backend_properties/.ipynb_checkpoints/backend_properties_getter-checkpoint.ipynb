{
 "cells": [
  {
   "cell_type": "markdown",
   "metadata": {},
   "source": [
    "SENT TO ME BY YAEL B.H."
   ]
  },
  {
   "cell_type": "code",
   "execution_count": 1,
   "metadata": {},
   "outputs": [],
   "source": [
    "from qiskit import IBMQ\n",
    "import os\n",
    "import csv\n",
    "import datetime\n",
    "IBMQ.load_account()\n",
    "provider = IBMQ.get_provider(hub= 'ibm-q')\n",
    "log_time = datetime.datetime.now()\n",
    "import time\n",
    "import pandas as pd\n",
    "import numpy as np\n",
    "import matplotlib.pyplot as plt\n",
    "\n",
    "backends = list(map( lambda x: x.name(), provider.backends()))[1:]\n"
   ]
  },
  {
   "cell_type": "markdown",
   "metadata": {},
   "source": [
    "https://qiskit.org/documentation/stubs/qiskit.providers.ibmq.IBMQBackend.properties.html?highlight=backend%20properties#qiskit.providers.ibmq.IBMQBackend.properties\n",
    "\n",
    "https://qiskit.org/documentation/stubs/qiskit.providers.models.BackendProperties.html"
   ]
  },
  {
   "cell_type": "code",
   "execution_count": null,
   "metadata": {},
   "outputs": [],
   "source": [
    "#avoid qasm_simulator\n",
    "\n",
    "\n",
    "def write_log_to_file(csv_writer):\n",
    "    for backend in backends:\n",
    "        try:\n",
    "            \"\"\"\n",
    "            Class representing name-date-unit-value\n",
    "            Attributes:\n",
    "                date: date (datetime.datetime)\n",
    "                name: name. (str)\n",
    "                unit: unit. (str)\n",
    "                value: value. (float)\n",
    "            qubit_idx is a single digit integer; \n",
    "            qubit_prop is a list of Nduv\n",
    "            \"\"\"\n",
    "            for qubit_idx, qubit_prop in enumerate(backend.properties(refresh=True).qubits):\n",
    "                for prop in qubit_prop:\n",
    "                    csv_writer.writerow([backend.name(), qubit_idx, prop.date.isoformat(), prop.name, prop.unit, prop.value, log_time.isoformat()])\n",
    "                id_gate = [i for i in backend.properties().gates if i.gate =='id' and qubit_idx in i.qubits][0]\n",
    "                id_gate_length = [p for p in id_gate.parameters if p.name=='gate_length'][0]\n",
    "                csv_writer.writerow([backend.name(), qubit_idx, id_gate_length.date.isoformat(), 'id_length',\n",
    "                                     id_gate_length.unit, id_gate_length.value, log_time.isoformat()])\n",
    "        except Exception as e:\n",
    "            print(\"Cannot add backend\", backend.name(), e)\n"
   ]
  },
  {
   "cell_type": "code",
   "execution_count": null,
   "metadata": {},
   "outputs": [],
   "source": [
    "while True:\n",
    "    absolute_path = 'C:\\\\Users\\\\Annanay\\\\OneDrive\\\\Documents\\\\Work\\\\project\\\\data_and_scripts\\\\' + log_time.strftime(\"%d\") + '_' + log_time.strftime('%m') + '.csv'\n",
    "    if not os.path.isfile(absolute_path):\n",
    "        with open(absolute_path, \"w\") as f:\n",
    "            csv_writer = csv.writer(f)\n",
    "            csv_writer.writerow([\"backend\",\"qubit\",\"datetime\",\"name\",\"units\",\"value\",\"log_datetime\"])\n",
    "            write_log_to_file(csv_writer)\n",
    "    else :\n",
    "        with open(absolute_path, \"a\") as f:\n",
    "            write_log_to_file(csv.writer(f))\n",
    "    time.sleep(3600)"
   ]
  },
  {
   "cell_type": "code",
   "execution_count": 2,
   "metadata": {},
   "outputs": [],
   "source": [
    "\"\"\"\n",
    "Get update schedules for each backend for last 1 month. Heirarchy:\n",
    "Backend --- qubits --- all qubit properties\n",
    "                  --- gates --- gate_error, gate_length\n",
    "                  \n",
    "Could definitely be made more efficient by ensuring no duplicates are added\n",
    "(rather than just dropping them at the end)\n",
    "\"\"\"\n",
    "current_time = datetime.datetime.now()\n",
    "prev_time = datetime.datetime(2020,5,20,12,0,0)\n",
    "results = pd.DataFrame({}, columns=['backend','qubit', 'gate','prop_name', 'prop_time'])\n",
    "\n",
    "while current_time > prev_time: \n",
    "    for backend in map(lambda x: provider.get_backend(x),backends):\n",
    "        try:\n",
    "                \"\"\"\n",
    "                Class representing name-date-unit-value\n",
    "                Attributes:\n",
    "                    date: date (datetime.datetime)\n",
    "                    name: name. (str)\n",
    "                    unit: unit. (str)\n",
    "                    value: value. (float)\n",
    "                qubit_idx is a single digit integer; \n",
    "                qubit_prop is a list of Nduv\n",
    "                \"\"\"\n",
    "                PROPS = backend.properties(refresh=True, datetime = current_time)\n",
    "                for qubit_idx, qubit_prop in enumerate(PROPS.qubits):\n",
    "                    #qubit properties first\n",
    "                    results = results.append(pd.DataFrame({\n",
    "                        'backend': [backend.name() for i in qubit_prop],\n",
    "                        'qubit': [qubit_idx for i in qubit_prop],\n",
    "                        'gate': [None for i in qubit_prop],\n",
    "                        'prop_name': [prop.name for prop in qubit_prop],\n",
    "                        'prop_time': [prop.date for prop in qubit_prop]\n",
    "                    }, columns=['backend','qubit', 'gate','prop_name', 'prop_time']))\n",
    "\n",
    "                    #then gate properties. Note that 2-qubit gates get a repeat entry\n",
    "                    #(one for each qubit they act on)\n",
    "                    for gate in [i for i in PROPS.gates if qubit_idx in i.qubits]:\n",
    "                        results = results.append(pd.DataFrame({\n",
    "                            'backend': [backend.name() for i in gate.parameters],\n",
    "                            'qubit': [qubit_idx for i in gate.parameters],\n",
    "                            'gate': [gate.gate for i in gate.parameters],\n",
    "                            'prop_name': [i.name for i in gate.parameters],\n",
    "                            'prop_time': [i.date for i in gate.parameters]\n",
    "                        }, columns=['backend','qubit', 'gate','prop_name', 'prop_time']))\n",
    "\n",
    "        except Exception as e:\n",
    "            print(\"Cannot add backend\", backend.name(), current_time, e)\n",
    "\n",
    "\n",
    "        current_time -= datetime.timedelta(seconds = 1800)\n",
    "\n",
    "results.drop_duplicates(inplace=True)\n",
    "results.to_csv('update_schedule.csv',index=False)"
   ]
  },
  {
   "cell_type": "code",
   "execution_count": 3,
   "metadata": {},
   "outputs": [],
   "source": [
    "def convert_to_datetime(bad_str):\n",
    "    \"\"\"\n",
    "    Converts the muddled time data strings from CSV to datetime objects\n",
    "    \"\"\"\n",
    "    try:\n",
    "        try:\n",
    "            return (datetime.datetime.strptime(str(bad_str)[:str(bad_str).index('+')], '%Y-%m-%dT%H:%M:%S'))\n",
    "        except:\n",
    "            return (datetime.datetime.strptime(str(bad_str)[:str(bad_str).index('+')], '%Y-%m-%d %H:%M:%S'))\n",
    "    except Exception as e:\n",
    "        print('ERROR ERROR', bad_str, e)\n",
    "\n",
    "results = pd.read_csv('update_schedule.csv')\n",
    "results['prop_time']= results['prop_time'].apply(convert_to_datetime)"
   ]
  },
  {
   "cell_type": "code",
   "execution_count": 34,
   "metadata": {},
   "outputs": [],
   "source": [
    "    \"\"\"\n",
    "    CHANGE PROPERTIES HERE\n",
    "    \"\"\"\n",
    "plot = results[(results['backend'] == 'ibmqx2') & (results['prop_name'] == 'gate_length') & (results['qubit'] == 4)].reset_index(drop=True).iloc[::-1]\n",
    "plot['timestamp'] = plot['prop_time'].apply(lambda x: datetime.datetime.timestamp(x))\n",
    "del plot['prop_name']\n",
    "del plot ['prop_time']\n",
    "plot.to_csv('plot1.csv', index=False)"
   ]
  },
  {
   "cell_type": "code",
   "execution_count": 35,
   "metadata": {
    "scrolled": true
   },
   "outputs": [
    {
     "data": {
      "image/png": "[encoded data removed]",
      "text/plain": [
       "<Figure size 1008x288 with 1 Axes>"
      ]
     },
     "metadata": {
      "needs_background": "light"
     },
     "output_type": "display_data"
    }
   ],
   "source": [
    "from operator import itemgetter\n",
    "from collections import defaultdict\n",
    "\n",
    "\n",
    "def plot_timeline(dataset, **kwargs):\n",
    "    \"\"\"\n",
    "    Plots a timeline of events from different sources to visualize a relative\n",
    "    sequence or density of events. Expects data in the form of:\n",
    "        (timestamp, source, category {colour})\n",
    "    Though this can be easily modified if needed. Expects sorted input.\n",
    "    Taken from https://bbengfort.github.io/snippets/2016/01/29/timeline-visualization.html\n",
    "    \"\"\"\n",
    "    outpath = kwargs.pop('savefig', None)  # Save the figure as an SVG\n",
    "    colors  = kwargs.pop('colors', {})     # Plot the colors for the series.\n",
    "    series  = set([])                      # Figure out the unique series\n",
    "\n",
    "    # Bring the data into memory and sort\n",
    "    dataset = list(dataset)\n",
    "\n",
    "    # Make a first pass over the data to determine number of series, etc.\n",
    "    for _, source, category in dataset:\n",
    "        series.add(source)\n",
    "        if category not in colors:\n",
    "            colors[category] = 'k'\n",
    "\n",
    "    # Sort and index the series\n",
    "    series  = sorted(list(series))\n",
    "\n",
    "    # Create the visualization\n",
    "    x = []  # Scatterplot X values\n",
    "    y = []  # Scatterplot Y Values\n",
    "    c = []  # Scatterplot color values\n",
    "\n",
    "    # Loop over the data a second time\n",
    "    for timestamp, source, category in dataset:\n",
    "        x.append(datetime.datetime.fromtimestamp(timestamp))\n",
    "        y.append(series.index(source))\n",
    "        c.append(colors[category])\n",
    "\n",
    "    plt.figure(figsize=(14,4))\n",
    "    \"\"\"\n",
    "    CHANGE TITLE HERE\n",
    "    \"\"\"\n",
    "    plt.title(kwargs.get('title', \"Qubit 4 Gate Length Update Schedule\"))\n",
    "    #plt.ylim((-1,len(series)))\n",
    "    #plt.xlim((-1000, dataset[-1][0]+1000))\n",
    "    plt.yticks(range(len(series)), series)\n",
    "    plt.scatter(x, y, color=c, alpha=0.85, s=10)\n",
    "\n",
    "    if outpath:\n",
    "        return plt.savefig(outpath, format='svg', dpi=1200)\n",
    "\n",
    "    return plt\n",
    "\n",
    "\n",
    "colors = {'ibmqx2': 'r'}\n",
    "with open('plot1.csv', 'r') as f:\n",
    "    reader = csv.reader(f)\n",
    "    plt = plot_timeline([\n",
    "        (float(row[0]), row[1], row[2])\n",
    "        for row in reader\n",
    "    ], colors=colors)\n",
    "plt.gca().xaxis.grid(True)\n",
    "plt.show()\n"
   ]
  },
  {
   "cell_type": "code",
   "execution_count": null,
   "metadata": {},
   "outputs": [],
   "source": []
  }
 ],
 "metadata": {
  "kernelspec": {
   "display_name": "Python 3",
   "language": "python",
   "name": "python3"
  },
  "language_info": {
   "codemirror_mode": {
    "name": "ipython",
    "version": 3
   },
   "file_extension": ".py",
   "mimetype": "text/x-python",
   "name": "python",
   "nbconvert_exporter": "python",
   "pygments_lexer": "ipython3",
   "version": "3.8.2"
  }
 },
 "nbformat": 4,
 "nbformat_minor": 4
}
