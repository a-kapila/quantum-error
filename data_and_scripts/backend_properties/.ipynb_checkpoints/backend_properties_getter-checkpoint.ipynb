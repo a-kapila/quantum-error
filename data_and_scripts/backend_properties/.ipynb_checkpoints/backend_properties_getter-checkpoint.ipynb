{
 "cells": [
  {
   "cell_type": "markdown",
   "metadata": {},
   "source": [
    "SENT TO ME BY YAEL B.H."
   ]
  },
  {
   "cell_type": "code",
   "execution_count": 2,
   "metadata": {},
   "outputs": [
    {
     "name": "stderr",
     "output_type": "stream",
     "text": [
      "ibmqfactory.load_account:WARNING:2020-06-18 16:59:15,872: Credentials are already in use. The existing account in the session will be replaced.\n"
     ]
    }
   ],
   "source": [
    "from qiskit import IBMQ\n",
    "import os\n",
    "import csv\n",
    "import datetime\n",
    "IBMQ.load_account()\n",
    "provider = IBMQ.get_provider(hub= 'ibm-q')\n",
    "log_time = datetime.datetime.now()\n"
   ]
  },
  {
   "cell_type": "code",
   "execution_count": 3,
   "metadata": {},
   "outputs": [],
   "source": [
    "def write_log_to_file(csv_writer):\n",
    "    for backend in provider.backends():\n",
    "        try :\n",
    "            for qubit_idx, qubit_prop in enumerate(backend.properties().qubits):\n",
    "                for prop in qubit_prop:\n",
    "                    csv_writer.writerow([backend.name(), qubit_idx, prop.date.isoformat(), prop.name, prop.unit, prop.value, log_time.isoformat()])\n",
    "                id_gate = [i for i in backend.properties().gates if i.gate =='id' and qubit_idx in i.qubits][0]\n",
    "                id_gate_length = [p for p in id_gate.parameters if p.name=='gate_length'][0]\n",
    "                csv_writer.writerow([backend.name(), qubit_idx, id_gate_length.date.isoformat(), 'id_length',\n",
    "                                     id_gate_length.unit, id_gate_length.value, log_time.isoformat()])\n",
    "        except Exception as e:\n",
    "            print(\"Cannot add backend\", backend.name(), e)\n"
   ]
  },
  {
   "cell_type": "code",
   "execution_count": 4,
   "metadata": {},
   "outputs": [
    {
     "name": "stdout",
     "output_type": "stream",
     "text": [
      "Cannot add backend ibmq_qasm_simulator 'NoneType' object has no attribute 'qubits'\n"
     ]
    }
   ],
   "source": [
    "absolute_path = 'C:\\\\Users\\\\Annanay\\\\OneDrive\\\\Documents\\\\Work\\\\project\\\\data_and_scripts\\\\backend_properties\\\\backend_properties_log2.csv'\n",
    "if not os.path.isfile(absolute_path):\n",
    "    with open(absolute_path, \"w\") as f:\n",
    "        csv_writer = csv.writer(f)\n",
    "        csv_writer.writerow([\"backend\",\"qubit\",\"datetime\",\"name\",\"units\",\"value\",\"log_datetime\"])\n",
    "        write_log_to_file(csv_writer)\n",
    "else :\n",
    "    with open(absolute_path, \"a\") as f:\n",
    "        write_log_to_file(csv.writer(f))"
   ]
  }
 ],
 "metadata": {
  "kernelspec": {
   "display_name": "Python 3",
   "language": "python",
   "name": "python3"
  },
  "language_info": {
   "codemirror_mode": {
    "name": "ipython",
    "version": 3
   },
   "file_extension": ".py",
   "mimetype": "text/x-python",
   "name": "python",
   "nbconvert_exporter": "python",
   "pygments_lexer": "ipython3",
   "version": "3.8.2"
  }
 },
 "nbformat": 4,
 "nbformat_minor": 4
}
