{
 "cells": [
  {
   "cell_type": "code",
   "execution_count": 1,
   "metadata": {},
   "outputs": [
    {
     "name": "stderr",
     "output_type": "stream",
     "text": [
      "C:\\Users\\Annanay\\Anaconda3\\envs\\project\\lib\\site-packages\\qiskit\\providers\\ibmq\\ibmqfactory.py:192: UserWarning: Timestamps in IBMQ backend properties, jobs, and job results are all now in local time instead of UTC.\n",
      "  warnings.warn('Timestamps in IBMQ backend properties, jobs, and job results '\n"
     ]
    }
   ],
   "source": [
    "from qiskit import *\n",
    "import pandas as pd\n",
    "import numpy as np\n",
    "import matplotlib.pyplot as plt\n",
    "import datetime\n",
    "from qiskit import *\n",
    "IBMQ.load_account()\n",
    "provider = IBMQ.get_provider(hub='ibm-q', group='open', project='main')"
   ]
  },
  {
   "cell_type": "code",
   "execution_count": 15,
   "metadata": {},
   "outputs": [
    {
     "data": {
      "text/plain": [
       "<qiskit.circuit.instructionset.InstructionSet at 0x194385f4cd0>"
      ]
     },
     "execution_count": 15,
     "metadata": {},
     "output_type": "execute_result"
    }
   ],
   "source": [
    "circ = QuantumCircuit(1,1)\n",
    "circ.u3(6.283185307179585,-np.pi/2,np.pi/2,0)\n",
    "circ.measure(0,0)"
   ]
  },
  {
   "cell_type": "code",
   "execution_count": 16,
   "metadata": {},
   "outputs": [
    {
     "data": {
      "text/plain": [
       "<qiskit.providers.ibmq.job.ibmqjob.IBMQJob at 0x19438371c40>"
      ]
     },
     "execution_count": 16,
     "metadata": {},
     "output_type": "execute_result"
    }
   ],
   "source": [
    "qiskit.execute(circ, shots=1, backend=provider.get_backend('ibmq_ourense'))"
   ]
  },
  {
   "cell_type": "code",
   "execution_count": 12,
   "metadata": {},
   "outputs": [],
   "source": [
    "backend_name = 'ibmq_ourense'\n",
    "backend = provider.get_backend(backend_name)\n",
    "results1 = backend.jobs(job_name='sigma_x_1')[0].result().get_counts() + backend.jobs(job_name='sigma_x_2')[0].result().get_counts()\n",
    "results1 = list(map(lambda x: x['0'], results1))\n",
    "results2 = backend.jobs(job_name='x_2pi_1')[0].result().get_counts() + backend.jobs(job_name='x_2pi_2')[0].result().get_counts()\n",
    "results2 = list(map(lambda x: x['0'], results2))\n",
    "#results3 = backend.jobs(job_name='ampcal_1')[0].result().get_counts() + backend.jobs(job_name='ampcal_2')[0].result().get_counts() + backend.jobs(job_name='ampcal_3')[0].result().get_counts() + backend.jobs(job_name='ampcal_4')[0].result().get_counts()\n",
    "#results3 = list(map(lambda x: x['0'], results3))\n",
    "\n",
    "columns = ['xgate u3(pi,0,pi)', 'rx(2pi) u3(2pi,-pi/2,pi/2)']\n",
    "pd.DataFrame(dict(zip(columns,[results1, results2])), columns=columns).to_csv(backend_name+'.csv')\n"
   ]
  },
  {
   "cell_type": "code",
   "execution_count": 33,
   "metadata": {},
   "outputs": [],
   "source": [
    "from ipywidgets import interact, interactive, fixed, interact_manual\n",
    "import ipywidgets as widgets"
   ]
  },
  {
   "cell_type": "code",
   "execution_count": 87,
   "metadata": {},
   "outputs": [],
   "source": [
    "result1 = provider.get_backend('ibmq_armonk').jobs(job_name='x_180_1')[0].result().get_counts()\n",
    "result2 = provider.get_backend('ibmq_armonk').jobs(job_name='x_180_2')[0].result().get_counts()\n",
    "result = [*result1,*result2][::2]"
   ]
  },
  {
   "cell_type": "code",
   "execution_count": 88,
   "metadata": {},
   "outputs": [],
   "source": [
    "result = list(map(lambda x: x['0']/8192, result))"
   ]
  },
  {
   "cell_type": "code",
   "execution_count": 152,
   "metadata": {},
   "outputs": [
    {
     "data": {
      "text/plain": [
       "0.9842875459860466"
      ]
     },
     "execution_count": 152,
     "metadata": {},
     "output_type": "execute_result"
    }
   ],
   "source": [
    "poly1[3](x)"
   ]
  },
  {
   "cell_type": "code",
   "execution_count": null,
   "metadata": {},
   "outputs": [],
   "source": []
  },
  {
   "cell_type": "code",
   "execution_count": 179,
   "metadata": {},
   "outputs": [
    {
     "data": {
      "application/vnd.jupyter.widget-view+json": {
       "model_id": "1aa5cc14b9cf4e46a1cea80134b52e2f",
       "version_major": 2,
       "version_minor": 0
      },
      "text/plain": [
       "interactive(children=(FloatSlider(value=0.0, description='dth', max=1.0, step=0.01), FloatSlider(value=0.0, de…"
      ]
     },
     "metadata": {},
     "output_type": "display_data"
    },
    {
     "data": {
      "text/plain": [
       "<function __main__.f(dth, domega, dg)>"
      ]
     },
     "execution_count": 179,
     "metadata": {},
     "output_type": "execute_result"
    }
   ],
   "source": [
    "def f(dth, domega, dg):\n",
    "    maxi = 60\n",
    "    gamma = 0\n",
    "    alpha = np.array([(np.pi/2 + dth)*np.cos(gamma+dg),(np.pi/2 + dth)*np.sin(gamma+dg),domega])\n",
    "    maxi = len(result)\n",
    "    a = 2*np.linalg.norm(alpha)\n",
    "    x = (np.cos(a/2))**2 - (np.sin(a/2))**2 * (domega**2-(np.pi/2 + dth**2))/(domega**2+(np.pi/2 + dth**2))\n",
    "    y = [(poly1[n](x))**2 +(domega*np.sin(a)*poly2[n-1](x)/a)**2 for n in range(1,maxi+1)]\n",
    "    plt.scatter(np.linspace(1,maxi, maxi), y)\n",
    "interact(f, dth=(0,1,0.01), domega=(0,1,0.01), dg=(0,1,0.01))"
   ]
  },
  {
   "cell_type": "code",
   "execution_count": 174,
   "metadata": {},
   "outputs": [
    {
     "name": "stdout",
     "output_type": "stream",
     "text": [
      "0.0\n"
     ]
    }
   ],
   "source": [
    "from scipy.optimize import curve_fit\n",
    "fits, _ = curve_fit(f, np.array(range(1,len(result)+1)), np.array(result), p0=np.array([0,0]))\n",
    "print(fits[0])"
   ]
  },
  {
   "cell_type": "code",
   "execution_count": 5,
   "metadata": {},
   "outputs": [],
   "source": [
    "def calc_poly1 (n):\n",
    "    #Chebyshev Polynomial of the first kind T_n\n",
    "    cheb = np.polynomial.chebyshev.Chebyshev([0 for i in range(n)]+[1])\n",
    "    return(np.polynomial.Polynomial(np.polynomial.chebyshev.cheb2poly(cheb.coef)))\n",
    "def calc_poly2 (n): \n",
    "    #Chebyshev Polynomial of the second kind U_n\n",
    "    if n%2 == 0:\n",
    "        return(2*sum([ poly1[2*j] for j in range(int(0.5*n+1))])-1)\n",
    "    else:\n",
    "        return (2*sum([ poly1[2*j+1] for j in range(int(0.5*n+1))]))"
   ]
  },
  {
   "cell_type": "code",
   "execution_count": 178,
   "metadata": {},
   "outputs": [],
   "source": [
    "poly1 = [calc_poly1(n) for n in range(201)]\n",
    "poly2 = [calc_poly2(n) for n in range(201)]"
   ]
  },
  {
   "cell_type": "code",
   "execution_count": 23,
   "metadata": {},
   "outputs": [],
   "source": []
  },
  {
   "cell_type": "code",
   "execution_count": 32,
   "metadata": {},
   "outputs": [
    {
     "data": {
      "text/plain": [
       "<matplotlib.collections.PathCollection at 0x1362153f280>"
      ]
     },
     "execution_count": 32,
     "metadata": {},
     "output_type": "execute_result"
    },
    {
     "data": {
      "image/png": "[encoded data removed]",
      "text/plain": [
       "<Figure size 432x288 with 1 Axes>"
      ]
     },
     "metadata": {
      "needs_background": "light"
     },
     "output_type": "display_data"
    }
   ],
   "source": []
  },
  {
   "cell_type": "code",
   "execution_count": 30,
   "metadata": {},
   "outputs": [
    {
     "data": {
      "text/latex": [
       "$x \\mapsto \\text{-1.0}\\color{LightGray}{ + \\text{0.0}\\,x} + \\text{4050.0}\\,x^{2}\\color{LightGray}{ + \\text{0.0}\\,x^{3}} - \\text{2732400.0}\\,x^{4}\\color{LightGray}{ + \\text{0.0}\\,x^{5}} + \\text{736290720.0}\\,x^{6}\\color{LightGray}{ + \\text{0.0}\\,x^{7}} - \\text{106025863680.0}\\,x^{8}\\color{LightGray}{ + \\text{0.0}\\,x^{9}} + \\text{9466931561472.0}\\,x^{10}\\color{LightGray}{ + \\text{0.0}\\,x^{11}} - \\text{573753427968000.0}\\,x^{12}\\color{LightGray}{ + \\text{0.0}\\,x^{13}} + \\text{2.5081221279744e+16}\\,x^{14}\\color{LightGray}{ + \\text{0.0}\\,x^{15}} - \\text{8.260082208129024e+17}\\,x^{16}\\color{LightGray}{ + \\text{0.0}\\,x^{17}} + \\text{2.1173883934824858e+19}\\,x^{18}\\color{LightGray}{ + \\text{0.0}\\,x^{19}} - \\text{4.332845302031529e+20}\\,x^{20}\\color{LightGray}{ + \\text{0.0}\\,x^{21}} + \\text{7.221408836719215e+21}\\,x^{22}\\color{LightGray}{ + \\text{0.0}\\,x^{23}} - \\text{9.963451032690858e+22}\\,x^{24}\\color{LightGray}{ + \\text{0.0}\\,x^{25}} + \\text{1.1533077779994772e+24}\\,x^{26}\\color{LightGray}{ + \\text{0.0}\\,x^{27}} - \\text{1.1325604423105977e+25}\\,x^{28}\\color{LightGray}{ + \\text{0.0}\\,x^{29}} + \\text{9.52392206430383e+25}\\,x^{30}\\color{LightGray}{ + \\text{0.0}\\,x^{31}} - \\text{6.9125240789302e+26}\\,x^{32}\\color{LightGray}{ + \\text{0.0}\\,x^{33}} + \\text{4.359449231952772e+27}\\,x^{34}\\color{LightGray}{ + \\text{0.0}\\,x^{35}} - \\text{2.402540910053972e+28}\\,x^{36}\\color{LightGray}{ + \\text{0.0}\\,x^{37}} + \\text{1.1626520876249803e+29}\\,x^{38}\\color{LightGray}{ + \\text{0.0}\\,x^{39}} - \\text{4.9606489071999165e+29}\\,x^{40}\\color{LightGray}{ + \\text{0.0}\\,x^{41}} + \\text{1.8724865213007815e+30}\\,x^{42}\\color{LightGray}{ + \\text{0.0}\\,x^{43}} - \\text{6.270652536449127e+30}\\,x^{44}\\color{LightGray}{ + \\text{0.0}\\,x^{45}} + \\text{1.867260977520407e+31}\\,x^{46}\\color{LightGray}{ + \\text{0.0}\\,x^{47}} - \\text{4.95287663540874e+31}\\,x^{48}\\color{LightGray}{ + \\text{0.0}\\,x^{49}} + \\text{1.1717091011766962e+32}\\,x^{50}\\color{LightGray}{ + \\text{0.0}\\,x^{51}} - \\text{2.4741971970548637e+32}\\,x^{52}\\color{LightGray}{ + \\text{0.0}\\,x^{53}} + \\text{4.664838600736563e+32}\\,x^{54}\\color{LightGray}{ + \\text{0.0}\\,x^{55}} - \\text{7.851468605915046e+32}\\,x^{56}\\color{LightGray}{ + \\text{0.0}\\,x^{57}} + \\text{1.1789077483291679e+33}\\,x^{58}\\color{LightGray}{ + \\text{0.0}\\,x^{59}} - \\text{1.5772053943748415e+33}\\,x^{60}\\color{LightGray}{ + \\text{0.0}\\,x^{61}} + \\text{1.8766325422228416e+33}\\,x^{62}\\color{LightGray}{ + \\text{0.0}\\,x^{63}} - \\text{1.980889905679666e+33}\\,x^{64}\\color{LightGray}{ + \\text{0.0}\\,x^{65}} + \\text{1.848830578634355e+33}\\,x^{66}\\color{LightGray}{ + \\text{0.0}\\,x^{67}} - \\text{1.5193199487284955e+33}\\,x^{68}\\color{LightGray}{ + \\text{0.0}\\,x^{69}} + \\text{1.0934070686915632e+33}\\,x^{70}\\color{LightGray}{ + \\text{0.0}\\,x^{71}} - \\text{6.844488692904934e+32}\\,x^{72}\\color{LightGray}{ + \\text{0.0}\\,x^{73}} + \\text{3.694655503241538e+32}\\,x^{74}\\color{LightGray}{ + \\text{0.0}\\,x^{75}} - \\text{1.700837901843122e+32}\\,x^{76}\\color{LightGray}{ + \\text{0.0}\\,x^{77}} + \\text{6.581330808996696e+31}\\,x^{78}\\color{LightGray}{ + \\text{0.0}\\,x^{79}} - \\text{2.099361220085022e+31}\\,x^{80}\\color{LightGray}{ + \\text{0.0}\\,x^{81}} + \\text{5.373252144150162e+30}\\,x^{82}\\color{LightGray}{ + \\text{0.0}\\,x^{83}} - \\text{1.0604697289659527e+30}\\,x^{84}\\color{LightGray}{ + \\text{0.0}\\,x^{85}} + \\text{1.5145422668132074e+29}\\,x^{86}\\color{LightGray}{ + \\text{0.0}\\,x^{87}} - \\text{1.3926825441960528e+28}\\,x^{88}\\color{LightGray}{ + \\text{0.0}\\,x^{89}} + \\text{6.189700196426902e+26}\\,x^{90}$"
      ],
      "text/plain": [
       "Polynomial([-1.00000000e+00,  0.00000000e+00,  4.05000000e+03,  0.00000000e+00,\n",
       "       -2.73240000e+06,  0.00000000e+00,  7.36290720e+08,  0.00000000e+00,\n",
       "       -1.06025864e+11,  0.00000000e+00,  9.46693156e+12,  0.00000000e+00,\n",
       "       -5.73753428e+14,  0.00000000e+00,  2.50812213e+16,  0.00000000e+00,\n",
       "       -8.26008221e+17,  0.00000000e+00,  2.11738839e+19,  0.00000000e+00,\n",
       "       -4.33284530e+20,  0.00000000e+00,  7.22140884e+21,  0.00000000e+00,\n",
       "       -9.96345103e+22,  0.00000000e+00,  1.15330778e+24,  0.00000000e+00,\n",
       "       -1.13256044e+25,  0.00000000e+00,  9.52392206e+25,  0.00000000e+00,\n",
       "       -6.91252408e+26,  0.00000000e+00,  4.35944923e+27,  0.00000000e+00,\n",
       "       -2.40254091e+28,  0.00000000e+00,  1.16265209e+29,  0.00000000e+00,\n",
       "       -4.96064891e+29,  0.00000000e+00,  1.87248652e+30,  0.00000000e+00,\n",
       "       -6.27065254e+30,  0.00000000e+00,  1.86726098e+31,  0.00000000e+00,\n",
       "       -4.95287664e+31,  0.00000000e+00,  1.17170910e+32,  0.00000000e+00,\n",
       "       -2.47419720e+32,  0.00000000e+00,  4.66483860e+32,  0.00000000e+00,\n",
       "       -7.85146861e+32,  0.00000000e+00,  1.17890775e+33,  0.00000000e+00,\n",
       "       -1.57720539e+33,  0.00000000e+00,  1.87663254e+33,  0.00000000e+00,\n",
       "       -1.98088991e+33,  0.00000000e+00,  1.84883058e+33,  0.00000000e+00,\n",
       "       -1.51931995e+33,  0.00000000e+00,  1.09340707e+33,  0.00000000e+00,\n",
       "       -6.84448869e+32,  0.00000000e+00,  3.69465550e+32,  0.00000000e+00,\n",
       "       -1.70083790e+32,  0.00000000e+00,  6.58133081e+31,  0.00000000e+00,\n",
       "       -2.09936122e+31,  0.00000000e+00,  5.37325214e+30,  0.00000000e+00,\n",
       "       -1.06046973e+30,  0.00000000e+00,  1.51454227e+29,  0.00000000e+00,\n",
       "       -1.39268254e+28,  0.00000000e+00,  6.18970020e+26], domain=[-1,  1], window=[-1,  1])"
      ]
     },
     "execution_count": 30,
     "metadata": {},
     "output_type": "execute_result"
    }
   ],
   "source": [
    "poly1[90]"
   ]
  },
  {
   "cell_type": "code",
   "execution_count": 28,
   "metadata": {},
   "outputs": [
    {
     "data": {
      "text/plain": [
       "Text(0, 0.5, 'phi')"
      ]
     },
     "execution_count": 28,
     "metadata": {},
     "output_type": "execute_result"
    },
    {
     "data": {
      "image/png": "[encoded data removed]",
      "text/plain": [
       "<Figure size 432x288 with 1 Axes>"
      ]
     },
     "metadata": {
      "needs_background": "light"
     },
     "output_type": "display_data"
    }
   ],
   "source": [
    "theta = np.pi/2\n",
    "domega = 0.001\n",
    "dtheta = np.pi/180\n",
    "delta = np.sqrt((theta + dtheta)**2 + domega**2)\n",
    "x = np.linspace(0,2*np.pi, 1000)\n",
    "k = ((theta + dtheta)*np.sin(delta/2)/delta)**2\n",
    "y1= (domega*np.sin(delta)/delta - k * np.sin(x) )**2 + (np.cos(delta) + 2*k * np.cos(x/2)**2)**2 -(1+np.cos(x))/2\n",
    "y2= (domega*np.sin(delta)/delta + k * np.sin(x) )**2 + (np.cos(delta) + 2*k * np.cos(x/2)**2)**2 -(1+np.cos(x))/2\n",
    "plt.scatter(x,np.abs(y1))\n",
    "plt.title('Theoretical X(phi) error, domega = 0.001, dth=1 degree')\n",
    "plt.xlabel('|Error|')\n",
    "plt.ylabel('phi')"
   ]
  },
  {
   "cell_type": "code",
   "execution_count": 23,
   "metadata": {},
   "outputs": [
    {
     "data": {
      "text/plain": [
       "<matplotlib.collections.PathCollection at 0x25a99f06130>"
      ]
     },
     "execution_count": 23,
     "metadata": {},
     "output_type": "execute_result"
    },
    {
     "data": {
      "image/png": "[encoded data removed]",
      "text/plain": [
       "<Figure size 432x288 with 1 Axes>"
      ]
     },
     "metadata": {
      "needs_background": "light"
     },
     "output_type": "display_data"
    }
   ],
   "source": [
    "plt.scatter(x,y2)"
   ]
  },
  {
   "cell_type": "code",
   "execution_count": null,
   "metadata": {},
   "outputs": [],
   "source": []
  }
 ],
 "metadata": {
  "kernelspec": {
   "display_name": "Python 3",
   "language": "python",
   "name": "python3"
  },
  "language_info": {
   "codemirror_mode": {
    "name": "ipython",
    "version": 3
   },
   "file_extension": ".py",
   "mimetype": "text/x-python",
   "name": "python",
   "nbconvert_exporter": "python",
   "pygments_lexer": "ipython3",
   "version": "3.8.2"
  }
 },
 "nbformat": 4,
 "nbformat_minor": 4
}
