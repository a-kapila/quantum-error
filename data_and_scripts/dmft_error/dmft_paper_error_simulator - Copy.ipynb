{
 "cells": [
  {
   "cell_type": "code",
   "execution_count": 12,
   "metadata": {},
   "outputs": [],
   "source": [
    "%matplotlib inline\n",
    "from qiskit import Aer, IBMQ, execute\n",
    "from qiskit import QuantumCircuit, QuantumRegister, ClassicalRegister\n",
    "from qiskit.tools.visualization import plot_histogram\n",
    "from qiskit.tools.monitor import job_monitor\n",
    "import numpy as np\n",
    "from qiskit.providers.aer.noise import NoiseModel\n",
    "from qiskit.test.mock import FakeYorktown\n",
    "import matplotlib.pyplot as plt\n",
    "import pandas as pd"
   ]
  },
  {
   "cell_type": "code",
   "execution_count": 13,
   "metadata": {},
   "outputs": [],
   "source": [
    "device_backend = FakeYorktown()\n",
    "coupling_map = device_backend.configuration().coupling_map\n",
    "noise_model = NoiseModel.from_backend(device_backend)\n",
    "basis_gates = noise_model.basis_gates"
   ]
  },
  {
   "cell_type": "markdown",
   "metadata": {},
   "source": [
    "Mathematica-optimised angles:\n",
    "$\\theta_0 = -1.5708,\\\\\n",
    "\\theta_1 = 6.75662\\text{e}-9,\\\\\n",
    "\\theta_2 = -0.979924,\\\\\n",
    "\\theta_3 = -3.14159,\\\\\n",
    "\\theta_4 = -1.51454\\text{e}-8,\\\\\n",
    "\\theta_5 = 3.14159,\\\\\n",
    "\\theta_6 = 3.14159,\\\\\n",
    "\\theta_7 = 3.14159$"
   ]
  },
  {
   "cell_type": "code",
   "execution_count": 53,
   "metadata": {},
   "outputs": [],
   "source": [
    "hyperparams = [-np.pi/2, 0, -0.979924, -np.pi, 0, np.pi, np.pi, np.pi]\n",
    "shots = 100000\n",
    "U = 4\n",
    "mu = U/2\n",
    "eps2 = 0\n",
    "V = 0.745356"
   ]
  },
  {
   "cell_type": "code",
   "execution_count": 15,
   "metadata": {},
   "outputs": [],
   "source": [
    "def fresh_circuit(theta):\n",
    "    # Construct quantum circuit\n",
    "    circ = QuantumCircuit(4, 4)\n",
    "    circ.ry(theta[0],0)\n",
    "    circ.ry(theta[1],1)\n",
    "    circ.ry(theta[2],2)\n",
    "    circ.ry(theta[3],3)\n",
    "    circ.cx(0,1)\n",
    "    circ.cx(1,2)\n",
    "    circ.cx(2,3)\n",
    "    circ.ry(theta[4],0)\n",
    "    circ.ry(theta[5],1)\n",
    "    circ.ry(theta[6],2)\n",
    "    circ.ry(theta[7],3)\n",
    "    return circ"
   ]
  },
  {
   "cell_type": "code",
   "execution_count": 16,
   "metadata": {},
   "outputs": [],
   "source": [
    "def get_sigma(basis,index, result_noise):\n",
    "    if basis == 'x':\n",
    "        result = result_noise[0]\n",
    "    elif basis == 'y':\n",
    "        result = result_noise[1]\n",
    "    elif basis == 'z':\n",
    "        result = result_noise[2]\n",
    "\n",
    "    vec = np.array([(-1)**(sum([int(n[i]) for i in index])) for n in result.keys()])\n",
    "    result = np.array(list(result.values()))\n",
    "    return (np.dot(result,vec)/shots)"
   ]
  },
  {
   "cell_type": "code",
   "execution_count": 51,
   "metadata": {},
   "outputs": [],
   "source": [
    "circ_x = QuantumCircuit(2,2)\n",
    "circ_y = QuantumCircuit(2,2)\n",
    "circ_z = QuantumCircuit(2,2)\n",
    "circ_x.x(0)\n",
    "circ_y.x(0)\n",
    "circ_y.h([0,1])\n",
    "circ_z.x(0)\n",
    "circ_z.sdg([0,1])\n",
    "circ_z.h([0,1])\n",
    "circ_x.measure([0,1],[0,1])\n",
    "circ_y.measure([0,1],[0,1])\n",
    "circ_z.measure([0,1],[0,1])\n",
    "simulator = Aer.get_backend('statevector_simulator')\n",
    "result_noise = execute([circ_x, circ_y, circ_z], backend=simulator).result().get_statevector(circ_z)"
   ]
  },
  {
   "cell_type": "code",
   "execution_count": 49,
   "metadata": {},
   "outputs": [
    {
     "data": {
      "text/plain": [
       "array([0.+0.j, 1.+0.j, 0.+0.j, 0.+0.j])"
      ]
     },
     "execution_count": 49,
     "metadata": {},
     "output_type": "execute_result"
    }
   ],
   "source": [
    "result_noise"
   ]
  },
  {
   "cell_type": "code",
   "execution_count": 17,
   "metadata": {},
   "outputs": [],
   "source": [
    "def calc_H(th):\n",
    "    # Select the QasmSimulator from the Aer provider\n",
    "\n",
    "    circ_z = fresh_circuit(th)\n",
    "    circ_z.measure(list(range(4)),list(range(4)))\n",
    "    circ_x = fresh_circuit(th)\n",
    "    circ_x.h([0,1,2,3])\n",
    "    circ_x.measure(list(range(4)),list(range(4)))\n",
    "    circ_y = fresh_circuit(th)\n",
    "    circ_y.sdg([0,1,2,3])\n",
    "    circ_y.h([0,1,2,3])\n",
    "    circ_y.measure(list(range(4)),list(range(4)))\n",
    "    # Execute noisy simulation and get counts\n",
    "    simulator = Aer.get_backend('qasm_simulator')\n",
    "    #result_noise = execute([circ_x, circ_y, circ_z], simulator).result()\n",
    "    #simulator = Aer.get_backend('statevector_simulator')\n",
    "    \n",
    "    result_noise = execute([circ_x, circ_y,circ_z], simulator,\n",
    "                           noise_model=noise_model,\n",
    "                           coupling_map=coupling_map,\n",
    "                           basis_gates=basis_gates,\n",
    "                           shots=shots).result().get_counts()\n",
    "    #reverse the order of qubits to something that makes sense\n",
    "    rn = list(map(lambda x: dict(zip(list(map(lambda y: y[::-1],x.keys())), x.values() )), result_noise))\n",
    "\n",
    "    \n",
    "    H1 = U*get_sigma('z',[0,2],rn)/4 + (mu/2 - U/4)*(get_sigma('z',[0],rn) + get_sigma('z',[2],rn))\n",
    "    #H2 = eps2*(sigma['z'][1]+sigma['z'][3])/2\n",
    "    H2 = 0\n",
    "    H3 = V*(get_sigma('x',[0,1],rn) + get_sigma('y',[0,1],rn))/2\n",
    "    H4 = V*(get_sigma('x',[2,3],rn) + get_sigma('y',[2,3],rn))/2\n",
    "    H = H1-H2+H3+H4\n",
    "    return H"
   ]
  },
  {
   "cell_type": "code",
   "execution_count": 54,
   "metadata": {},
   "outputs": [
    {
     "data": {
      "text/plain": [
       "-1.72892286632"
      ]
     },
     "execution_count": 54,
     "metadata": {},
     "output_type": "execute_result"
    }
   ],
   "source": [
    "calc_H(hyperparams)\n",
    "#BEST: -1.72640848544"
   ]
  },
  {
   "cell_type": "code",
   "execution_count": 30,
   "metadata": {},
   "outputs": [],
   "source": [
    "deg = np.pi/180\n",
    "lb=-1.5*deg\n",
    "ub=1.5*deg\n",
    "deltas = np.mgrid[lb:ub:5j, lb:ub:5j, lb:ub:5j, lb:ub:5j, lb:ub:5j, lb:ub:5j, lb:ub:5j, lb:ub:5j].reshape(8,-1).T\n",
    "params = np.array(list(map( lambda x: x+hyperparams,deltas)))\n",
    "results = np.zeros((len(deltas),1), dtype=np.float64)\n",
    "for i in range(len(deltas)):\n",
    "    results[i] = calc_H(params[i])\n",
    "pd.DataFrame(np.append(deltas, results, axis=1),\n",
    "             columns=['dth'+str(i) for i in range(1,9)]+['H']).to_csv('statevector_results.csv',index=False)\n"
   ]
  },
  {
   "cell_type": "code",
   "execution_count": 68,
   "metadata": {},
   "outputs": [
    {
     "data": {
      "text/plain": [
       "array([[1.25],\n",
       "       [0.  ],\n",
       "       [0.  ],\n",
       "       ...,\n",
       "       [0.  ],\n",
       "       [0.  ],\n",
       "       [0.  ]])"
      ]
     },
     "execution_count": 68,
     "metadata": {},
     "output_type": "execute_result"
    }
   ],
   "source": [
    "results = np.zeros((len(deltas),1), dtype=np.float64)\n",
    "results[0] = 1.25\n",
    "results"
   ]
  },
  {
   "cell_type": "code",
   "execution_count": null,
   "metadata": {},
   "outputs": [],
   "source": [
    "\"\"\"\n",
    "loop time = 1.079375 sec\n",
    "\n",
    "\"\"\"\n",
    "\n",
    "#only with decoherent errors: -1.5969232194799998\n",
    "data = \n",
    "mean = np.mean(data, axis=0)\n",
    "cov = np.cov(data, rowvar=0)"
   ]
  }
 ],
 "metadata": {
  "kernelspec": {
   "display_name": "Python 3",
   "language": "python",
   "name": "python3"
  },
  "language_info": {
   "codemirror_mode": {
    "name": "ipython",
    "version": 3
   },
   "file_extension": ".py",
   "mimetype": "text/x-python",
   "name": "python",
   "nbconvert_exporter": "python",
   "pygments_lexer": "ipython3",
   "version": "3.8.2"
  }
 },
 "nbformat": 4,
 "nbformat_minor": 4
}
