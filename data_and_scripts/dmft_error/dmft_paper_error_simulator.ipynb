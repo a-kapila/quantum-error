{
 "cells": [
  {
   "cell_type": "code",
   "execution_count": 1,
   "metadata": {},
   "outputs": [],
   "source": [
    "%matplotlib inline\n",
    "from qiskit import Aer, IBMQ, execute\n",
    "from qiskit import QuantumCircuit, QuantumRegister, ClassicalRegister\n",
    "from qiskit.tools.visualization import plot_histogram\n",
    "from qiskit.tools.monitor import job_monitor\n",
    "import numpy as np\n",
    "from qiskit.providers.aer.noise import NoiseModel\n",
    "from qiskit.test.mock import FakeYorktown\n",
    "import matplotlib.pyplot as plt"
   ]
  },
  {
   "cell_type": "code",
   "execution_count": 2,
   "metadata": {},
   "outputs": [],
   "source": [
    "device_backend = FakeYorktown()\n",
    "coupling_map = device_backend.configuration().coupling_map\n",
    "noise_model = NoiseModel.from_backend(device_backend)\n",
    "basis_gates = noise_model.basis_gates"
   ]
  },
  {
   "cell_type": "code",
   "execution_count": 3,
   "metadata": {},
   "outputs": [],
   "source": [
    "#hyperparameters\n",
    "th = [0 for i in range(8)]\n",
    "shots = 8192\n",
    "U = 4\n",
    "mu = U/2\n",
    "eps2 = 0\n",
    "V = 0.745356"
   ]
  },
  {
   "cell_type": "code",
   "execution_count": 4,
   "metadata": {},
   "outputs": [],
   "source": [
    "def fresh_circuit(theta):\n",
    "    # Construct quantum circuit\n",
    "    circ = QuantumCircuit(4, 4)\n",
    "    circ.ry(theta[0],0)\n",
    "    circ.ry(theta[1],1)\n",
    "    circ.ry(theta[2],2)\n",
    "    circ.ry(theta[3],3)\n",
    "    circ.cx(0,1)\n",
    "    circ.cx(1,2)\n",
    "    circ.cx(2,3)\n",
    "    circ.ry(theta[4],0)\n",
    "    circ.ry(theta[5],1)\n",
    "    circ.ry(theta[6],2)\n",
    "    circ.ry(theta[7],3)\n",
    "    return circ"
   ]
  },
  {
   "cell_type": "code",
   "execution_count": 13,
   "metadata": {},
   "outputs": [],
   "source": [
    "def calc_H(th):\n",
    "    # Select the QasmSimulator from the Aer provider\n",
    "    simulator = Aer.get_backend('qasm_simulator')\n",
    "    circ_z = fresh_circuit(th)\n",
    "    circ_z.measure(list(range(4)),list(range(4)))\n",
    "    circ_x = fresh_circuit(th)\n",
    "    circ_x.h([0,1,2,3])\n",
    "    circ_x.measure(list(range(4)),list(range(4)))\n",
    "    circ_y = fresh_circuit(th)\n",
    "    circ_y.sdg([0,1,2,3])\n",
    "    circ_y.h([0,1,2,3])\n",
    "    circ_y.measure(list(range(4)),list(range(4)))\n",
    "    # Execute noisy simulation and get counts\n",
    "    result_noise = execute([circ_x, circ_y,circ_z], simulator,\n",
    "                           noise_model=noise_model,\n",
    "                           coupling_map=coupling_map,\n",
    "                           basis_gates=basis_gates,\n",
    "                           shots=shots).result().get_counts()\n",
    "    sigma = {'x': [sum([result_noise[0][key] for key in result_noise[0].keys() if key[i] == '0'])/shots for i in range(4)],\n",
    "             'y': [sum([result_noise[1][key] for key in result_noise[1].keys() if key[i] == '0'])/shots for i in range(4)],\n",
    "             'z': [sum([result_noise[2][key] for key in result_noise[2].keys() if key[i] == '0'])/shots for i in range(4)]}\n",
    "    H1 = U*sigma['z'][0]*sigma['z'][2]/4 + (mu/2 - U/4)*(sigma['z'][0] + sigma['z'][2])\n",
    "    H2 = eps2*(sigma['z'][1]+sigma['z'][3])/2\n",
    "    H3 = V*(sigma['x'][0]*sigma['x'][1] + sigma['y'][0]*sigma['y'][1])/2\n",
    "    H4 = V*(sigma['x'][2]*sigma['x'][3] + sigma['y'][2]*sigma['y'][3])/2\n",
    "    H = H1-H2+H3+H4\n",
    "    return H"
   ]
  },
  {
   "cell_type": "code",
   "execution_count": 36,
   "metadata": {},
   "outputs": [],
   "source": [
    "H_th = list(map(lambda x: calc_H([0,0,0,0,0,0,0, x ]), np.linspace(-0.5, 0.5, 20)))"
   ]
  },
  {
   "cell_type": "code",
   "execution_count": 37,
   "metadata": {},
   "outputs": [
    {
     "data": {
      "text/plain": [
       "Text(0.5, 1.0, 'All other theta = 0')"
      ]
     },
     "execution_count": 37,
     "metadata": {},
     "output_type": "execute_result"
    },
    {
     "data": {
      "image/png": "[encoded data removed]",
      "text/plain": [
       "<Figure size 432x288 with 1 Axes>"
      ]
     },
     "metadata": {
      "needs_background": "light"
     },
     "output_type": "display_data"
    }
   ],
   "source": [
    "plt.scatter(np.linspace(-0.5, 0.5, 20), H_th)\n",
    "plt.xlabel('theta7')\n",
    "plt.ylabel('H')\n",
    "plt.title('All other theta = 0')"
   ]
  }
 ],
 "metadata": {
  "kernelspec": {
   "display_name": "Python 3",
   "language": "python",
   "name": "python3"
  },
  "language_info": {
   "codemirror_mode": {
    "name": "ipython",
    "version": 3
   },
   "file_extension": ".py",
   "mimetype": "text/x-python",
   "name": "python",
   "nbconvert_exporter": "python",
   "pygments_lexer": "ipython3",
   "version": "3.8.2"
  }
 },
 "nbformat": 4,
 "nbformat_minor": 4
}
