{
 "cells": [
  {
   "cell_type": "code",
   "execution_count": 55,
   "metadata": {},
   "outputs": [],
   "source": [
    "%matplotlib inline\n",
    "from qiskit import Aer, IBMQ, execute\n",
    "from qiskit import QuantumCircuit, QuantumRegister, ClassicalRegister\n",
    "from qiskit.tools.visualization import plot_histogram\n",
    "from qiskit.tools.monitor import job_monitor\n",
    "import numpy as np\n",
    "from qiskit.providers.aer.noise import NoiseModel\n",
    "from qiskit.test.mock import FakeYorktown\n",
    "import matplotlib.pyplot as plt\n",
    "import pandas as pd"
   ]
  },
  {
   "cell_type": "code",
   "execution_count": 56,
   "metadata": {},
   "outputs": [],
   "source": [
    "device_backend = FakeYorktown()\n",
    "coupling_map = device_backend.configuration().coupling_map\n",
    "noise_model = NoiseModel.from_backend(device_backend)\n",
    "basis_gates = noise_model.basis_gates"
   ]
  },
  {
   "cell_type": "markdown",
   "metadata": {},
   "source": [
    "Mathematica-optimised angles:\n",
    "$\\theta_0 = -1.5708,\\\\\n",
    "\\theta_1 = 6.75662\\text{e}-9,\\\\\n",
    "\\theta_2 = -0.979924,\\\\\n",
    "\\theta_3 = -3.14159,\\\\\n",
    "\\theta_4 = -1.51454\\text{e}-8,\\\\\n",
    "\\theta_5 = 3.14159,\\\\\n",
    "\\theta_6 = 3.14159,\\\\\n",
    "\\theta_7 = 3.14159$"
   ]
  },
  {
   "cell_type": "code",
   "execution_count": 57,
   "metadata": {},
   "outputs": [],
   "source": [
    "hyperparams = [-np.pi/2, 0, -0.979924, -np.pi, 0, np.pi, np.pi, np.pi]\n",
    "shots = 200000\n",
    "U = 4\n",
    "mu = U/2\n",
    "eps2 = 0\n",
    "V = 0.745356"
   ]
  },
  {
   "cell_type": "code",
   "execution_count": 58,
   "metadata": {},
   "outputs": [],
   "source": [
    "def fresh_circuit(theta):\n",
    "    # Construct quantum circuit\n",
    "    circ = QuantumCircuit(4, 4)\n",
    "    circ.ry(theta[0],0)\n",
    "    circ.ry(theta[1],1)\n",
    "    circ.ry(theta[2],2)\n",
    "    circ.ry(theta[3],3)\n",
    "    circ.cx(0,1)\n",
    "    circ.cx(1,2)\n",
    "    circ.cx(2,3)\n",
    "    circ.ry(theta[4],0)\n",
    "    circ.ry(theta[5],1)\n",
    "    circ.ry(theta[6],2)\n",
    "    circ.ry(theta[7],3)\n",
    "    return circ"
   ]
  },
  {
   "cell_type": "code",
   "execution_count": 59,
   "metadata": {},
   "outputs": [],
   "source": [
    "def get_sigma(basis,index, result_noise):\n",
    "    if basis == 'x':\n",
    "        result = result_noise[0]\n",
    "    elif basis == 'y':\n",
    "        result = result_noise[1]\n",
    "    elif basis == 'z':\n",
    "        result = result_noise[2]\n",
    "\n",
    "    vec = np.array([(-1)**(sum([int(n[i]) for i in index])) for n in result.keys()])\n",
    "    result = np.array(list(result.values()))\n",
    "    return (np.dot(result,vec)/shots)"
   ]
  },
  {
   "cell_type": "code",
   "execution_count": 60,
   "metadata": {},
   "outputs": [],
   "source": [
    "circ_x = QuantumCircuit(2,2)\n",
    "circ_y = QuantumCircuit(2,2)\n",
    "circ_z = QuantumCircuit(2,2)\n",
    "circ_x.x(0)\n",
    "circ_y.x(0)\n",
    "circ_y.h([0,1])\n",
    "circ_z.x(0)\n",
    "circ_z.sdg([0,1])\n",
    "circ_z.h([0,1])\n",
    "circ_x.measure([0,1],[0,1])\n",
    "circ_y.measure([0,1],[0,1])\n",
    "circ_z.measure([0,1],[0,1])\n",
    "simulator = Aer.get_backend('statevector_simulator')\n",
    "result_noise = execute([circ_x, circ_y, circ_z], backend=simulator).result().get_statevector(circ_z)"
   ]
  },
  {
   "cell_type": "code",
   "execution_count": 71,
   "metadata": {},
   "outputs": [],
   "source": [
    "def calc_H(th):\n",
    "    # Select the QasmSimulator from the Aer provider\n",
    "\n",
    "    circ_z = fresh_circuit(th)\n",
    "    circ_z.measure(list(range(4)),list(range(4)))\n",
    "    circ_x = fresh_circuit(th)\n",
    "    circ_x.h([0,1,2,3])\n",
    "    circ_x.measure(list(range(4)),list(range(4)))\n",
    "    circ_y = fresh_circuit(th)\n",
    "    circ_y.sdg([0,1,2,3])\n",
    "    circ_y.h([0,1,2,3])\n",
    "    circ_y.measure(list(range(4)),list(range(4)))\n",
    "    # Execute noisy simulation and get counts\n",
    "    #simulator = Aer.get_backend('qasm_simulator')\n",
    "    simulator = Aer.get_backend('statevector_simulator')\n",
    "    result_noise = execute([circ_x, circ_y, circ_z], simulator).result().get_counts()\n",
    "    \n",
    "    \"\"\"\n",
    "    result_noise = execute([circ_x, circ_y,circ_z], simulator,\n",
    "                           noise_model=noise_model,\n",
    "                           coupling_map=coupling_map,\n",
    "                           basis_gates=basis_gates,\n",
    "                           shots=shots).result().get_counts()\n",
    "    \"\"\"\n",
    "    #reverse the order of qubits to something that makes sense\n",
    "    rn = list(map(lambda x: dict(zip(list(map(lambda y: y[::-1],x.keys())), x.values() )), result_noise))\n",
    "\n",
    "    \n",
    "    H1 = U*get_sigma('z',[0,2],rn)/4 + (mu/2 - U/4)*(get_sigma('z',[0],rn) + get_sigma('z',[2],rn))\n",
    "    #H2 = eps2*(sigma['z'][1]+sigma['z'][3])/2\n",
    "    H2 = 0\n",
    "    H3 = V*(get_sigma('x',[0,1],rn) + get_sigma('y',[0,1],rn))/2\n",
    "    H4 = V*(get_sigma('x',[2,3],rn) + get_sigma('y',[2,3],rn))/2\n",
    "    H = H1-H2+H3+H4\n",
    "    return H"
   ]
  },
  {
   "cell_type": "code",
   "execution_count": 62,
   "metadata": {},
   "outputs": [
    {
     "ename": "KeyboardInterrupt",
     "evalue": "",
     "output_type": "error",
     "traceback": [
      "\u001b[1;31m---------------------------------------------------------------------------\u001b[0m",
      "\u001b[1;31mKeyboardInterrupt\u001b[0m                         Traceback (most recent call last)",
      "\u001b[1;32m<ipython-input-62-a1d9ca683739>\u001b[0m in \u001b[0;36m<module>\u001b[1;34m\u001b[0m\n\u001b[0;32m      6\u001b[0m \u001b[0mresults\u001b[0m \u001b[1;33m=\u001b[0m \u001b[0mnp\u001b[0m\u001b[1;33m.\u001b[0m\u001b[0mzeros\u001b[0m\u001b[1;33m(\u001b[0m\u001b[1;33m(\u001b[0m\u001b[0mlen\u001b[0m\u001b[1;33m(\u001b[0m\u001b[0mdeltas\u001b[0m\u001b[1;33m)\u001b[0m\u001b[1;33m,\u001b[0m\u001b[1;36m1\u001b[0m\u001b[1;33m)\u001b[0m\u001b[1;33m,\u001b[0m \u001b[0mdtype\u001b[0m\u001b[1;33m=\u001b[0m\u001b[0mnp\u001b[0m\u001b[1;33m.\u001b[0m\u001b[0mfloat64\u001b[0m\u001b[1;33m)\u001b[0m\u001b[1;33m\u001b[0m\u001b[1;33m\u001b[0m\u001b[0m\n\u001b[0;32m      7\u001b[0m \u001b[1;32mfor\u001b[0m \u001b[0mi\u001b[0m \u001b[1;32min\u001b[0m \u001b[0mrange\u001b[0m\u001b[1;33m(\u001b[0m\u001b[0mlen\u001b[0m\u001b[1;33m(\u001b[0m\u001b[0mdeltas\u001b[0m\u001b[1;33m)\u001b[0m\u001b[1;33m)\u001b[0m\u001b[1;33m:\u001b[0m\u001b[1;33m\u001b[0m\u001b[1;33m\u001b[0m\u001b[0m\n\u001b[1;32m----> 8\u001b[1;33m     \u001b[0mresults\u001b[0m\u001b[1;33m[\u001b[0m\u001b[0mi\u001b[0m\u001b[1;33m]\u001b[0m \u001b[1;33m=\u001b[0m \u001b[0mcalc_H\u001b[0m\u001b[1;33m(\u001b[0m\u001b[0mparams\u001b[0m\u001b[1;33m[\u001b[0m\u001b[0mi\u001b[0m\u001b[1;33m]\u001b[0m\u001b[1;33m)\u001b[0m\u001b[1;33m\u001b[0m\u001b[1;33m\u001b[0m\u001b[0m\n\u001b[0m\u001b[0;32m      9\u001b[0m pd.DataFrame(np.append(deltas, results, axis=1),\n\u001b[0;32m     10\u001b[0m              columns=['dth'+str(i) for i in range(1,9)]+['H']).to_csv('statevector_results.csv',index=False)\n",
      "\u001b[1;32m<ipython-input-61-b0eb4dfd0404>\u001b[0m in \u001b[0;36mcalc_H\u001b[1;34m(th)\u001b[0m\n\u001b[0;32m     16\u001b[0m     \u001b[1;31m#simulator = Aer.get_backend('statevector_simulator')\u001b[0m\u001b[1;33m\u001b[0m\u001b[1;33m\u001b[0m\u001b[1;33m\u001b[0m\u001b[0m\n\u001b[0;32m     17\u001b[0m \u001b[1;33m\u001b[0m\u001b[0m\n\u001b[1;32m---> 18\u001b[1;33m     result_noise = execute([circ_x, circ_y,circ_z], simulator,\n\u001b[0m\u001b[0;32m     19\u001b[0m                            \u001b[0mnoise_model\u001b[0m\u001b[1;33m=\u001b[0m\u001b[0mnoise_model\u001b[0m\u001b[1;33m,\u001b[0m\u001b[1;33m\u001b[0m\u001b[1;33m\u001b[0m\u001b[0m\n\u001b[0;32m     20\u001b[0m                            \u001b[0mcoupling_map\u001b[0m\u001b[1;33m=\u001b[0m\u001b[0mcoupling_map\u001b[0m\u001b[1;33m,\u001b[0m\u001b[1;33m\u001b[0m\u001b[1;33m\u001b[0m\u001b[0m\n",
      "\u001b[1;32m~\\Anaconda3\\envs\\project\\lib\\site-packages\\qiskit\\providers\\aer\\aerjob.py\u001b[0m in \u001b[0;36m_wrapper\u001b[1;34m(self, *args, **kwargs)\u001b[0m\n\u001b[0;32m     39\u001b[0m         \u001b[1;32mif\u001b[0m \u001b[0mself\u001b[0m\u001b[1;33m.\u001b[0m\u001b[0m_future\u001b[0m \u001b[1;32mis\u001b[0m \u001b[1;32mNone\u001b[0m\u001b[1;33m:\u001b[0m\u001b[1;33m\u001b[0m\u001b[1;33m\u001b[0m\u001b[0m\n\u001b[0;32m     40\u001b[0m             \u001b[1;32mraise\u001b[0m \u001b[0mJobError\u001b[0m\u001b[1;33m(\u001b[0m\u001b[1;34m\"Job not submitted yet!. You have to .submit() first!\"\u001b[0m\u001b[1;33m)\u001b[0m\u001b[1;33m\u001b[0m\u001b[1;33m\u001b[0m\u001b[0m\n\u001b[1;32m---> 41\u001b[1;33m         \u001b[1;32mreturn\u001b[0m \u001b[0mfunc\u001b[0m\u001b[1;33m(\u001b[0m\u001b[0mself\u001b[0m\u001b[1;33m,\u001b[0m \u001b[1;33m*\u001b[0m\u001b[0margs\u001b[0m\u001b[1;33m,\u001b[0m \u001b[1;33m**\u001b[0m\u001b[0mkwargs\u001b[0m\u001b[1;33m)\u001b[0m\u001b[1;33m\u001b[0m\u001b[1;33m\u001b[0m\u001b[0m\n\u001b[0m\u001b[0;32m     42\u001b[0m     \u001b[1;32mreturn\u001b[0m \u001b[0m_wrapper\u001b[0m\u001b[1;33m\u001b[0m\u001b[1;33m\u001b[0m\u001b[0m\n\u001b[0;32m     43\u001b[0m \u001b[1;33m\u001b[0m\u001b[0m\n",
      "\u001b[1;32m~\\Anaconda3\\envs\\project\\lib\\site-packages\\qiskit\\providers\\aer\\aerjob.py\u001b[0m in \u001b[0;36mresult\u001b[1;34m(self, timeout)\u001b[0m\n\u001b[0;32m     92\u001b[0m             \u001b[0mconcurrent\u001b[0m\u001b[1;33m.\u001b[0m\u001b[0mfutures\u001b[0m\u001b[1;33m.\u001b[0m\u001b[0mCancelledError\u001b[0m\u001b[1;33m:\u001b[0m \u001b[1;32mif\u001b[0m \u001b[0mjob\u001b[0m \u001b[0mcancelled\u001b[0m \u001b[0mbefore\u001b[0m \u001b[0mcompleted\u001b[0m\u001b[1;33m.\u001b[0m\u001b[1;33m\u001b[0m\u001b[1;33m\u001b[0m\u001b[0m\n\u001b[0;32m     93\u001b[0m         \"\"\"\n\u001b[1;32m---> 94\u001b[1;33m         \u001b[1;32mreturn\u001b[0m \u001b[0mself\u001b[0m\u001b[1;33m.\u001b[0m\u001b[0m_future\u001b[0m\u001b[1;33m.\u001b[0m\u001b[0mresult\u001b[0m\u001b[1;33m(\u001b[0m\u001b[0mtimeout\u001b[0m\u001b[1;33m=\u001b[0m\u001b[0mtimeout\u001b[0m\u001b[1;33m)\u001b[0m\u001b[1;33m\u001b[0m\u001b[1;33m\u001b[0m\u001b[0m\n\u001b[0m\u001b[0;32m     95\u001b[0m \u001b[1;33m\u001b[0m\u001b[0m\n\u001b[0;32m     96\u001b[0m     \u001b[1;33m@\u001b[0m\u001b[0mrequires_submit\u001b[0m\u001b[1;33m\u001b[0m\u001b[1;33m\u001b[0m\u001b[0m\n",
      "\u001b[1;32m~\\Anaconda3\\envs\\project\\lib\\concurrent\\futures\\_base.py\u001b[0m in \u001b[0;36mresult\u001b[1;34m(self, timeout)\u001b[0m\n\u001b[0;32m    432\u001b[0m                 \u001b[1;32mreturn\u001b[0m \u001b[0mself\u001b[0m\u001b[1;33m.\u001b[0m\u001b[0m__get_result\u001b[0m\u001b[1;33m(\u001b[0m\u001b[1;33m)\u001b[0m\u001b[1;33m\u001b[0m\u001b[1;33m\u001b[0m\u001b[0m\n\u001b[0;32m    433\u001b[0m \u001b[1;33m\u001b[0m\u001b[0m\n\u001b[1;32m--> 434\u001b[1;33m             \u001b[0mself\u001b[0m\u001b[1;33m.\u001b[0m\u001b[0m_condition\u001b[0m\u001b[1;33m.\u001b[0m\u001b[0mwait\u001b[0m\u001b[1;33m(\u001b[0m\u001b[0mtimeout\u001b[0m\u001b[1;33m)\u001b[0m\u001b[1;33m\u001b[0m\u001b[1;33m\u001b[0m\u001b[0m\n\u001b[0m\u001b[0;32m    435\u001b[0m \u001b[1;33m\u001b[0m\u001b[0m\n\u001b[0;32m    436\u001b[0m             \u001b[1;32mif\u001b[0m \u001b[0mself\u001b[0m\u001b[1;33m.\u001b[0m\u001b[0m_state\u001b[0m \u001b[1;32min\u001b[0m \u001b[1;33m[\u001b[0m\u001b[0mCANCELLED\u001b[0m\u001b[1;33m,\u001b[0m \u001b[0mCANCELLED_AND_NOTIFIED\u001b[0m\u001b[1;33m]\u001b[0m\u001b[1;33m:\u001b[0m\u001b[1;33m\u001b[0m\u001b[1;33m\u001b[0m\u001b[0m\n",
      "\u001b[1;32m~\\Anaconda3\\envs\\project\\lib\\threading.py\u001b[0m in \u001b[0;36mwait\u001b[1;34m(self, timeout)\u001b[0m\n\u001b[0;32m    300\u001b[0m         \u001b[1;32mtry\u001b[0m\u001b[1;33m:\u001b[0m    \u001b[1;31m# restore state no matter what (e.g., KeyboardInterrupt)\u001b[0m\u001b[1;33m\u001b[0m\u001b[1;33m\u001b[0m\u001b[0m\n\u001b[0;32m    301\u001b[0m             \u001b[1;32mif\u001b[0m \u001b[0mtimeout\u001b[0m \u001b[1;32mis\u001b[0m \u001b[1;32mNone\u001b[0m\u001b[1;33m:\u001b[0m\u001b[1;33m\u001b[0m\u001b[1;33m\u001b[0m\u001b[0m\n\u001b[1;32m--> 302\u001b[1;33m                 \u001b[0mwaiter\u001b[0m\u001b[1;33m.\u001b[0m\u001b[0macquire\u001b[0m\u001b[1;33m(\u001b[0m\u001b[1;33m)\u001b[0m\u001b[1;33m\u001b[0m\u001b[1;33m\u001b[0m\u001b[0m\n\u001b[0m\u001b[0;32m    303\u001b[0m                 \u001b[0mgotit\u001b[0m \u001b[1;33m=\u001b[0m \u001b[1;32mTrue\u001b[0m\u001b[1;33m\u001b[0m\u001b[1;33m\u001b[0m\u001b[0m\n\u001b[0;32m    304\u001b[0m             \u001b[1;32melse\u001b[0m\u001b[1;33m:\u001b[0m\u001b[1;33m\u001b[0m\u001b[1;33m\u001b[0m\u001b[0m\n",
      "\u001b[1;31mKeyboardInterrupt\u001b[0m: "
     ]
    }
   ],
   "source": [
    "deg = np.pi/180\n",
    "lb=-1.5*deg\n",
    "ub=1.5*deg\n",
    "deltas = np.mgrid[lb:ub:5j, lb:ub:5j, lb:ub:5j, lb:ub:5j, lb:ub:5j, lb:ub:5j, lb:ub:5j, lb:ub:5j].reshape(8,-1).T\n",
    "params = np.array(list(map( lambda x: x+hyperparams,deltas)))\n",
    "results = np.zeros((len(deltas),1), dtype=np.float64)\n",
    "for i in range(len(deltas)):\n",
    "    results[i] = calc_H(params[i])\n",
    "pd.DataFrame(np.append(deltas, results, axis=1),\n",
    "             columns=['dth'+str(i) for i in range(1,9)]+['H']).to_csv('statevector_results.csv',index=False)\n"
   ]
  },
  {
   "cell_type": "code",
   "execution_count": 66,
   "metadata": {},
   "outputs": [],
   "source": [
    "df = pd.DataFrame(np.append(deltas, results, axis=1),columns=['dth'+str(i) for i in range(1,9)]+['H'])"
   ]
  },
  {
   "cell_type": "code",
   "execution_count": 78,
   "metadata": {},
   "outputs": [
    {
     "data": {
      "text/html": [
       "<div>\n",
       "<style scoped>\n",
       "    .dataframe tbody tr th:only-of-type {\n",
       "        vertical-align: middle;\n",
       "    }\n",
       "\n",
       "    .dataframe tbody tr th {\n",
       "        vertical-align: top;\n",
       "    }\n",
       "\n",
       "    .dataframe thead th {\n",
       "        text-align: right;\n",
       "    }\n",
       "</style>\n",
       "<table border=\"1\" class=\"dataframe\">\n",
       "  <thead>\n",
       "    <tr style=\"text-align: right;\">\n",
       "      <th></th>\n",
       "      <th>dth1</th>\n",
       "      <th>dth2</th>\n",
       "      <th>dth3</th>\n",
       "      <th>dth4</th>\n",
       "      <th>dth5</th>\n",
       "      <th>dth6</th>\n",
       "      <th>dth7</th>\n",
       "      <th>dth8</th>\n",
       "      <th>H</th>\n",
       "    </tr>\n",
       "  </thead>\n",
       "  <tbody>\n",
       "    <tr>\n",
       "      <th>0</th>\n",
       "      <td>-0.02618</td>\n",
       "      <td>-0.02618</td>\n",
       "      <td>-0.02618</td>\n",
       "      <td>-0.02618</td>\n",
       "      <td>-0.02618</td>\n",
       "      <td>-0.02618</td>\n",
       "      <td>-0.02618</td>\n",
       "      <td>-0.02618</td>\n",
       "      <td>-1.596575</td>\n",
       "    </tr>\n",
       "    <tr>\n",
       "      <th>1</th>\n",
       "      <td>-0.02618</td>\n",
       "      <td>-0.02618</td>\n",
       "      <td>-0.02618</td>\n",
       "      <td>-0.02618</td>\n",
       "      <td>-0.02618</td>\n",
       "      <td>-0.02618</td>\n",
       "      <td>-0.02618</td>\n",
       "      <td>-0.01309</td>\n",
       "      <td>-1.596522</td>\n",
       "    </tr>\n",
       "    <tr>\n",
       "      <th>2</th>\n",
       "      <td>-0.02618</td>\n",
       "      <td>-0.02618</td>\n",
       "      <td>-0.02618</td>\n",
       "      <td>-0.02618</td>\n",
       "      <td>-0.02618</td>\n",
       "      <td>-0.02618</td>\n",
       "      <td>-0.02618</td>\n",
       "      <td>0.00000</td>\n",
       "      <td>-1.597126</td>\n",
       "    </tr>\n",
       "    <tr>\n",
       "      <th>3</th>\n",
       "      <td>-0.02618</td>\n",
       "      <td>-0.02618</td>\n",
       "      <td>-0.02618</td>\n",
       "      <td>-0.02618</td>\n",
       "      <td>-0.02618</td>\n",
       "      <td>-0.02618</td>\n",
       "      <td>-0.02618</td>\n",
       "      <td>0.01309</td>\n",
       "      <td>-1.602612</td>\n",
       "    </tr>\n",
       "    <tr>\n",
       "      <th>4</th>\n",
       "      <td>-0.02618</td>\n",
       "      <td>-0.02618</td>\n",
       "      <td>-0.02618</td>\n",
       "      <td>-0.02618</td>\n",
       "      <td>-0.02618</td>\n",
       "      <td>-0.02618</td>\n",
       "      <td>-0.02618</td>\n",
       "      <td>0.02618</td>\n",
       "      <td>-1.597657</td>\n",
       "    </tr>\n",
       "    <tr>\n",
       "      <th>...</th>\n",
       "      <td>...</td>\n",
       "      <td>...</td>\n",
       "      <td>...</td>\n",
       "      <td>...</td>\n",
       "      <td>...</td>\n",
       "      <td>...</td>\n",
       "      <td>...</td>\n",
       "      <td>...</td>\n",
       "      <td>...</td>\n",
       "    </tr>\n",
       "    <tr>\n",
       "      <th>17397</th>\n",
       "      <td>-0.02618</td>\n",
       "      <td>-0.01309</td>\n",
       "      <td>-0.02618</td>\n",
       "      <td>0.00000</td>\n",
       "      <td>0.02618</td>\n",
       "      <td>-0.02618</td>\n",
       "      <td>0.02618</td>\n",
       "      <td>0.00000</td>\n",
       "      <td>-1.597317</td>\n",
       "    </tr>\n",
       "    <tr>\n",
       "      <th>17398</th>\n",
       "      <td>-0.02618</td>\n",
       "      <td>-0.01309</td>\n",
       "      <td>-0.02618</td>\n",
       "      <td>0.00000</td>\n",
       "      <td>0.02618</td>\n",
       "      <td>-0.02618</td>\n",
       "      <td>0.02618</td>\n",
       "      <td>0.01309</td>\n",
       "      <td>-1.599958</td>\n",
       "    </tr>\n",
       "    <tr>\n",
       "      <th>17399</th>\n",
       "      <td>-0.02618</td>\n",
       "      <td>-0.01309</td>\n",
       "      <td>-0.02618</td>\n",
       "      <td>0.00000</td>\n",
       "      <td>0.02618</td>\n",
       "      <td>-0.02618</td>\n",
       "      <td>0.02618</td>\n",
       "      <td>0.02618</td>\n",
       "      <td>-1.595969</td>\n",
       "    </tr>\n",
       "    <tr>\n",
       "      <th>17400</th>\n",
       "      <td>-0.02618</td>\n",
       "      <td>-0.01309</td>\n",
       "      <td>-0.02618</td>\n",
       "      <td>0.00000</td>\n",
       "      <td>0.02618</td>\n",
       "      <td>-0.01309</td>\n",
       "      <td>-0.02618</td>\n",
       "      <td>-0.02618</td>\n",
       "      <td>-1.595509</td>\n",
       "    </tr>\n",
       "    <tr>\n",
       "      <th>17401</th>\n",
       "      <td>-0.02618</td>\n",
       "      <td>-0.01309</td>\n",
       "      <td>-0.02618</td>\n",
       "      <td>0.00000</td>\n",
       "      <td>0.02618</td>\n",
       "      <td>-0.01309</td>\n",
       "      <td>-0.02618</td>\n",
       "      <td>-0.01309</td>\n",
       "      <td>-1.594709</td>\n",
       "    </tr>\n",
       "  </tbody>\n",
       "</table>\n",
       "<p>17402 rows × 9 columns</p>\n",
       "</div>"
      ],
      "text/plain": [
       "          dth1     dth2     dth3     dth4     dth5     dth6     dth7     dth8  \\\n",
       "0     -0.02618 -0.02618 -0.02618 -0.02618 -0.02618 -0.02618 -0.02618 -0.02618   \n",
       "1     -0.02618 -0.02618 -0.02618 -0.02618 -0.02618 -0.02618 -0.02618 -0.01309   \n",
       "2     -0.02618 -0.02618 -0.02618 -0.02618 -0.02618 -0.02618 -0.02618  0.00000   \n",
       "3     -0.02618 -0.02618 -0.02618 -0.02618 -0.02618 -0.02618 -0.02618  0.01309   \n",
       "4     -0.02618 -0.02618 -0.02618 -0.02618 -0.02618 -0.02618 -0.02618  0.02618   \n",
       "...        ...      ...      ...      ...      ...      ...      ...      ...   \n",
       "17397 -0.02618 -0.01309 -0.02618  0.00000  0.02618 -0.02618  0.02618  0.00000   \n",
       "17398 -0.02618 -0.01309 -0.02618  0.00000  0.02618 -0.02618  0.02618  0.01309   \n",
       "17399 -0.02618 -0.01309 -0.02618  0.00000  0.02618 -0.02618  0.02618  0.02618   \n",
       "17400 -0.02618 -0.01309 -0.02618  0.00000  0.02618 -0.01309 -0.02618 -0.02618   \n",
       "17401 -0.02618 -0.01309 -0.02618  0.00000  0.02618 -0.01309 -0.02618 -0.01309   \n",
       "\n",
       "              H  \n",
       "0     -1.596575  \n",
       "1     -1.596522  \n",
       "2     -1.597126  \n",
       "3     -1.602612  \n",
       "4     -1.597657  \n",
       "...         ...  \n",
       "17397 -1.597317  \n",
       "17398 -1.599958  \n",
       "17399 -1.595969  \n",
       "17400 -1.595509  \n",
       "17401 -1.594709  \n",
       "\n",
       "[17402 rows x 9 columns]"
      ]
     },
     "execution_count": 78,
     "metadata": {},
     "output_type": "execute_result"
    }
   ],
   "source": [
    "df"
   ]
  },
  {
   "cell_type": "code",
   "execution_count": 99,
   "metadata": {},
   "outputs": [
    {
     "data": {
      "text/plain": [
       "<matplotlib.collections.PathCollection at 0x1c01c322a00>"
      ]
     },
     "execution_count": 99,
     "metadata": {},
     "output_type": "execute_result"
    },
    {
     "data": {
      "image/png": "[encoded data removed]",
      "text/plain": [
       "<Figure size 432x288 with 1 Axes>"
      ]
     },
     "metadata": {
      "needs_background": "light"
     },
     "output_type": "display_data"
    }
   ],
   "source": [
    "plt.scatter(list(range(17402)), df.H)"
   ]
  },
  {
   "cell_type": "code",
   "execution_count": 73,
   "metadata": {},
   "outputs": [],
   "source": [
    "\"\"\"\n",
    "loop time = 1.079375 sec\n",
    "\n",
    "\"\"\"\n",
    "\n",
    "#only with decoherent errors: -1.5969232194799998\n",
    "data = df\n",
    "mean = np.mean(data, axis=0)\n",
    "cov = np.cov(data, rowvar=0)"
   ]
  },
  {
   "cell_type": "code",
   "execution_count": 75,
   "metadata": {},
   "outputs": [
    {
     "data": {
      "text/plain": [
       "array([[ 4.81510156e-35,  1.16877307e-35, -2.18170973e-34,\n",
       "         2.40174012e-34,  1.62919883e-35,  8.12662526e-36,\n",
       "        -6.99908022e-36, -3.84887155e-36, -3.22475116e-34],\n",
       "       [ 1.16877307e-35,  1.57112719e-05, -3.14225438e-05,\n",
       "        -1.65777348e-05, -1.73292588e-06, -4.59755846e-07,\n",
       "        -3.53658343e-08, -2.65243757e-08,  6.74922355e-07],\n",
       "       [-2.18170973e-34, -3.14225438e-05,  3.70563212e-04,\n",
       "         3.31554697e-05,  3.46585176e-06,  9.19511692e-07,\n",
       "         7.07316686e-08,  5.30487515e-08, -6.30026299e-06],\n",
       "       [ 2.40174012e-34, -1.65777348e-05,  3.31554697e-05,\n",
       "         3.36500609e-04, -2.07951106e-07, -5.51707015e-08,\n",
       "        -4.24390012e-09, -3.18292509e-09, -3.51057613e-06],\n",
       "       [ 1.62919883e-35, -1.73292588e-06,  3.46585176e-06,\n",
       "        -2.07951106e-07,  3.40762545e-04, -1.02985310e-06,\n",
       "        -7.92194689e-08, -5.94146016e-08,  1.90593318e-07],\n",
       "       [ 8.12662526e-36, -4.59755846e-07,  9.19511692e-07,\n",
       "        -5.51707015e-08, -1.02985310e-06,  3.43185416e-04,\n",
       "         3.92702224e-08,  2.94526668e-08, -1.05115392e-07],\n",
       "       [-6.99908022e-36, -3.53658343e-08,  7.07316686e-08,\n",
       "        -4.24390012e-09, -7.92194689e-08,  3.92702224e-08,\n",
       "         3.42753670e-04,  5.90750896e-08,  3.18317807e-07],\n",
       "       [-3.84887155e-36, -2.65243757e-08,  5.30487515e-08,\n",
       "        -3.18292509e-09, -5.94146016e-08,  2.94526668e-08,\n",
       "         5.90750896e-08,  3.42724133e-04,  4.84936649e-07],\n",
       "       [-3.22475116e-34,  6.74922355e-07, -6.30026299e-06,\n",
       "        -3.51057613e-06,  1.90593318e-07, -1.05115392e-07,\n",
       "         3.18317807e-07,  4.84936649e-07,  6.10707951e-06]])"
      ]
     },
     "execution_count": 75,
     "metadata": {},
     "output_type": "execute_result"
    }
   ],
   "source": [
    "cov"
   ]
  },
  {
   "cell_type": "code",
   "execution_count": null,
   "metadata": {},
   "outputs": [],
   "source": []
  }
 ],
 "metadata": {
  "kernelspec": {
   "display_name": "Python 3",
   "language": "python",
   "name": "python3"
  },
  "language_info": {
   "codemirror_mode": {
    "name": "ipython",
    "version": 3
   },
   "file_extension": ".py",
   "mimetype": "text/x-python",
   "name": "python",
   "nbconvert_exporter": "python",
   "pygments_lexer": "ipython3",
   "version": "3.8.2"
  }
 },
 "nbformat": 4,
 "nbformat_minor": 4
}
