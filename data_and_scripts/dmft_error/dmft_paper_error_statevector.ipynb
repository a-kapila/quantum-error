{
 "cells": [
  {
   "cell_type": "code",
   "execution_count": 14,
   "metadata": {},
   "outputs": [],
   "source": [
    "%matplotlib inline\n",
    "from qiskit import Aer, IBMQ, execute\n",
    "from qiskit import QuantumCircuit, QuantumRegister, ClassicalRegister\n",
    "import numpy as np\n",
    "import matplotlib.pyplot as plt\n",
    "import pandas as pd"
   ]
  },
  {
   "cell_type": "code",
   "execution_count": 15,
   "metadata": {},
   "outputs": [],
   "source": [
    "hyperparams = [-np.pi/2, 0, -0.979924, -np.pi, 0, np.pi, np.pi, np.pi]\n",
    "simulator = Aer.get_backend('statevector_simulator')"
   ]
  },
  {
   "cell_type": "code",
   "execution_count": 16,
   "metadata": {},
   "outputs": [],
   "source": [
    "def fresh_circuit(theta):\n",
    "    # Construct quantum circuit\n",
    "    circ = QuantumCircuit(4)\n",
    "    circ.ry(theta[0],0)\n",
    "    circ.ry(theta[1],1)\n",
    "    circ.ry(theta[2],2)\n",
    "    circ.ry(theta[3],3)\n",
    "    circ.cx(0,1)\n",
    "    circ.cx(1,2)\n",
    "    circ.cx(2,3)\n",
    "    circ.ry(theta[4],0)\n",
    "    circ.ry(theta[5],1)\n",
    "    circ.ry(theta[6],2)\n",
    "    circ.ry(theta[7],3)\n",
    "    return circ"
   ]
  },
  {
   "cell_type": "code",
   "execution_count": 17,
   "metadata": {},
   "outputs": [],
   "source": [
    "def get_sigma(basis,index, result_noise):\n",
    "    if basis == 'x':\n",
    "        result = result_noise[0]\n",
    "    elif basis == 'y':\n",
    "        result = result_noise[1]\n",
    "    elif basis == 'z':\n",
    "        result = result_noise[2]\n",
    "\n",
    "    vec = np.array([(-1)**(sum([int(n[i]) for i in index])) for n in result.keys()])\n",
    "    result = np.array(list(result.values()))\n",
    "    return (np.dot(result,vec))\n"
   ]
  },
  {
   "cell_type": "code",
   "execution_count": 18,
   "metadata": {},
   "outputs": [],
   "source": [
    "def calc_H(p):\n",
    "    circ_z = fresh_circuit(p)\n",
    "    circ_x = fresh_circuit(p)\n",
    "    circ_x.h([0, 1, 2, 3])\n",
    "    circ_y = fresh_circuit(p)\n",
    "    circ_y.sdg([0, 1, 2, 3])\n",
    "    circ_y.h([0, 1, 2, 3])\n",
    "    # Execute noisy simulation and get counts\n",
    "    result_noise = execute([circ_x, circ_y, circ_z], simulator).result().get_counts()\n",
    "    # reverse the order of qubits to something that makes sense\n",
    "    rn = list(map(lambda x: dict(zip(list(map(lambda y: y[::-1], x.keys())), x.values())), result_noise))\n",
    "    H = get_sigma('z', [0, 2], rn) + 0.372678 * (get_sigma('x', [0, 1], rn) + get_sigma('y', [0, 1], rn) + get_sigma('x', [2, 3], rn) + get_sigma('y',[2, 3],rn))\n",
    "    return (H)\n",
    "    \"\"\"\n",
    "    try:\n",
    "        w.writerow(np.append(deltas[i], [H]))\n",
    "    except:\n",
    "        print(\"Didn't add \" + params[i])\n",
    "    \"\"\""
   ]
  },
  {
   "cell_type": "code",
   "execution_count": 19,
   "metadata": {},
   "outputs": [],
   "source": [
    "deg = np.pi/180\n",
    "lb=-1.5*deg\n",
    "ub=1.5*deg\n",
    "deltas = np.mgrid[lb:ub:5j, lb:ub:5j, lb:ub:5j, lb:ub:5j, lb:ub:5j, lb:ub:5j, lb:ub:5j, lb:ub:5j].reshape(8,-1).T\n",
    "params = np.array(list(map( lambda x: x+hyperparams,deltas)))\n",
    "results = np.zeros((len(deltas),1), dtype=np.float64)\n",
    "for i in range(len(deltas)):\n",
    "    results[i] = calc_H(params[i])\n",
    "df = pd.DataFrame(np.append(deltas, results, axis=1),columns=['dth'+str(i) for i in range(1,9)]+['H'])\n",
    "df.to_csv('statevector_results_real.csv',index=False)"
   ]
  },
  {
   "cell_type": "code",
   "execution_count": 3,
   "metadata": {},
   "outputs": [],
   "source": [
    "df = pd.read_csv('simulator_results.csv')"
   ]
  },
  {
   "cell_type": "code",
   "execution_count": 20,
   "metadata": {},
   "outputs": [
    {
     "data": {
      "text/html": [
       "<div>\n",
       "<style scoped>\n",
       "    .dataframe tbody tr th:only-of-type {\n",
       "        vertical-align: middle;\n",
       "    }\n",
       "\n",
       "    .dataframe tbody tr th {\n",
       "        vertical-align: top;\n",
       "    }\n",
       "\n",
       "    .dataframe thead th {\n",
       "        text-align: right;\n",
       "    }\n",
       "</style>\n",
       "<table border=\"1\" class=\"dataframe\">\n",
       "  <thead>\n",
       "    <tr style=\"text-align: right;\">\n",
       "      <th></th>\n",
       "      <th>dth1</th>\n",
       "      <th>dth2</th>\n",
       "      <th>dth3</th>\n",
       "      <th>dth4</th>\n",
       "      <th>dth5</th>\n",
       "      <th>dth6</th>\n",
       "      <th>dth7</th>\n",
       "      <th>dth8</th>\n",
       "      <th>H</th>\n",
       "    </tr>\n",
       "  </thead>\n",
       "  <tbody>\n",
       "    <tr>\n",
       "      <th>0</th>\n",
       "      <td>-0.02618</td>\n",
       "      <td>-0.02618</td>\n",
       "      <td>-0.02618</td>\n",
       "      <td>-0.02618</td>\n",
       "      <td>-0.02618</td>\n",
       "      <td>-0.02618</td>\n",
       "      <td>-0.02618</td>\n",
       "      <td>-0.02618</td>\n",
       "      <td>-1.793554</td>\n",
       "    </tr>\n",
       "    <tr>\n",
       "      <th>1</th>\n",
       "      <td>-0.02618</td>\n",
       "      <td>-0.02618</td>\n",
       "      <td>-0.02618</td>\n",
       "      <td>-0.02618</td>\n",
       "      <td>-0.02618</td>\n",
       "      <td>-0.02618</td>\n",
       "      <td>-0.02618</td>\n",
       "      <td>-0.01309</td>\n",
       "      <td>-1.793508</td>\n",
       "    </tr>\n",
       "    <tr>\n",
       "      <th>2</th>\n",
       "      <td>-0.02618</td>\n",
       "      <td>-0.02618</td>\n",
       "      <td>-0.02618</td>\n",
       "      <td>-0.02618</td>\n",
       "      <td>-0.02618</td>\n",
       "      <td>-0.02618</td>\n",
       "      <td>-0.02618</td>\n",
       "      <td>0.00000</td>\n",
       "      <td>-1.793407</td>\n",
       "    </tr>\n",
       "    <tr>\n",
       "      <th>3</th>\n",
       "      <td>-0.02618</td>\n",
       "      <td>-0.02618</td>\n",
       "      <td>-0.02618</td>\n",
       "      <td>-0.02618</td>\n",
       "      <td>-0.02618</td>\n",
       "      <td>-0.02618</td>\n",
       "      <td>-0.02618</td>\n",
       "      <td>0.01309</td>\n",
       "      <td>-1.793252</td>\n",
       "    </tr>\n",
       "    <tr>\n",
       "      <th>4</th>\n",
       "      <td>-0.02618</td>\n",
       "      <td>-0.02618</td>\n",
       "      <td>-0.02618</td>\n",
       "      <td>-0.02618</td>\n",
       "      <td>-0.02618</td>\n",
       "      <td>-0.02618</td>\n",
       "      <td>-0.02618</td>\n",
       "      <td>0.02618</td>\n",
       "      <td>-1.793044</td>\n",
       "    </tr>\n",
       "    <tr>\n",
       "      <th>...</th>\n",
       "      <td>...</td>\n",
       "      <td>...</td>\n",
       "      <td>...</td>\n",
       "      <td>...</td>\n",
       "      <td>...</td>\n",
       "      <td>...</td>\n",
       "      <td>...</td>\n",
       "      <td>...</td>\n",
       "      <td>...</td>\n",
       "    </tr>\n",
       "    <tr>\n",
       "      <th>390620</th>\n",
       "      <td>0.02618</td>\n",
       "      <td>0.02618</td>\n",
       "      <td>0.02618</td>\n",
       "      <td>0.02618</td>\n",
       "      <td>0.02618</td>\n",
       "      <td>0.02618</td>\n",
       "      <td>0.02618</td>\n",
       "      <td>-0.02618</td>\n",
       "      <td>-1.792996</td>\n",
       "    </tr>\n",
       "    <tr>\n",
       "      <th>390621</th>\n",
       "      <td>0.02618</td>\n",
       "      <td>0.02618</td>\n",
       "      <td>0.02618</td>\n",
       "      <td>0.02618</td>\n",
       "      <td>0.02618</td>\n",
       "      <td>0.02618</td>\n",
       "      <td>0.02618</td>\n",
       "      <td>-0.01309</td>\n",
       "      <td>-1.793201</td>\n",
       "    </tr>\n",
       "    <tr>\n",
       "      <th>390622</th>\n",
       "      <td>0.02618</td>\n",
       "      <td>0.02618</td>\n",
       "      <td>0.02618</td>\n",
       "      <td>0.02618</td>\n",
       "      <td>0.02618</td>\n",
       "      <td>0.02618</td>\n",
       "      <td>0.02618</td>\n",
       "      <td>0.00000</td>\n",
       "      <td>-1.793355</td>\n",
       "    </tr>\n",
       "    <tr>\n",
       "      <th>390623</th>\n",
       "      <td>0.02618</td>\n",
       "      <td>0.02618</td>\n",
       "      <td>0.02618</td>\n",
       "      <td>0.02618</td>\n",
       "      <td>0.02618</td>\n",
       "      <td>0.02618</td>\n",
       "      <td>0.02618</td>\n",
       "      <td>0.01309</td>\n",
       "      <td>-1.793457</td>\n",
       "    </tr>\n",
       "    <tr>\n",
       "      <th>390624</th>\n",
       "      <td>0.02618</td>\n",
       "      <td>0.02618</td>\n",
       "      <td>0.02618</td>\n",
       "      <td>0.02618</td>\n",
       "      <td>0.02618</td>\n",
       "      <td>0.02618</td>\n",
       "      <td>0.02618</td>\n",
       "      <td>0.02618</td>\n",
       "      <td>-1.793506</td>\n",
       "    </tr>\n",
       "  </tbody>\n",
       "</table>\n",
       "<p>390625 rows × 9 columns</p>\n",
       "</div>"
      ],
      "text/plain": [
       "           dth1     dth2     dth3     dth4     dth5     dth6     dth7  \\\n",
       "0      -0.02618 -0.02618 -0.02618 -0.02618 -0.02618 -0.02618 -0.02618   \n",
       "1      -0.02618 -0.02618 -0.02618 -0.02618 -0.02618 -0.02618 -0.02618   \n",
       "2      -0.02618 -0.02618 -0.02618 -0.02618 -0.02618 -0.02618 -0.02618   \n",
       "3      -0.02618 -0.02618 -0.02618 -0.02618 -0.02618 -0.02618 -0.02618   \n",
       "4      -0.02618 -0.02618 -0.02618 -0.02618 -0.02618 -0.02618 -0.02618   \n",
       "...         ...      ...      ...      ...      ...      ...      ...   \n",
       "390620  0.02618  0.02618  0.02618  0.02618  0.02618  0.02618  0.02618   \n",
       "390621  0.02618  0.02618  0.02618  0.02618  0.02618  0.02618  0.02618   \n",
       "390622  0.02618  0.02618  0.02618  0.02618  0.02618  0.02618  0.02618   \n",
       "390623  0.02618  0.02618  0.02618  0.02618  0.02618  0.02618  0.02618   \n",
       "390624  0.02618  0.02618  0.02618  0.02618  0.02618  0.02618  0.02618   \n",
       "\n",
       "           dth8         H  \n",
       "0      -0.02618 -1.793554  \n",
       "1      -0.01309 -1.793508  \n",
       "2       0.00000 -1.793407  \n",
       "3       0.01309 -1.793252  \n",
       "4       0.02618 -1.793044  \n",
       "...         ...       ...  \n",
       "390620 -0.02618 -1.792996  \n",
       "390621 -0.01309 -1.793201  \n",
       "390622  0.00000 -1.793355  \n",
       "390623  0.01309 -1.793457  \n",
       "390624  0.02618 -1.793506  \n",
       "\n",
       "[390625 rows x 9 columns]"
      ]
     },
     "execution_count": 20,
     "metadata": {},
     "output_type": "execute_result"
    }
   ],
   "source": [
    "df"
   ]
  },
  {
   "cell_type": "code",
   "execution_count": 30,
   "metadata": {},
   "outputs": [
    {
     "data": {
      "text/plain": [
       "array([[<AxesSubplot:title={'center':'H'}>]], dtype=object)"
      ]
     },
     "execution_count": 30,
     "metadata": {},
     "output_type": "execute_result"
    },
    {
     "data": {
      "image/png": "[encoded data removed]",
      "text/plain": [
       "<Figure size 864x576 with 1 Axes>"
      ]
     },
     "metadata": {
      "needs_background": "light"
     },
     "output_type": "display_data"
    }
   ],
   "source": [
    "df.hist(column='H', bins=20, grid=True, figsize=(12,8), density=True)"
   ]
  },
  {
   "cell_type": "code",
   "execution_count": 29,
   "metadata": {},
   "outputs": [
    {
     "data": {
      "text/plain": [
       "<BarContainer object of 20 artists>"
      ]
     },
     "execution_count": 29,
     "metadata": {},
     "output_type": "execute_result"
    },
    {
     "data": {
      "image/png": "[encoded data removed]",
      "text/plain": [
       "<Figure size 720x288 with 1 Axes>"
      ]
     },
     "metadata": {
      "needs_background": "light"
     },
     "output_type": "display_data"
    }
   ],
   "source": [
    "fig, ax = plt.subplots(1,1,figsize=(10,4))\n",
    "hist, bins = np.histogram(df.H, bins=20)\n",
    "ax.bar(bins[:-1], hist.astype(np.float32) / hist.sum(), width=(bins[1]-bins[0]), color='blue')\n"
   ]
  },
  {
   "cell_type": "code",
   "execution_count": null,
   "metadata": {},
   "outputs": [],
   "source": [
    "import numdifftools as nd\n",
    "Hfun = nd.Hessian(calc_H)\n",
    "x = Hfun(hyperparams)\n",
    "evals, evecs = np.linalg.eig(x)"
   ]
  },
  {
   "cell_type": "code",
   "execution_count": null,
   "metadata": {},
   "outputs": [],
   "source": []
  }
 ],
 "metadata": {
  "kernelspec": {
   "display_name": "Python 3",
   "language": "python",
   "name": "python3"
  },
  "language_info": {
   "codemirror_mode": {
    "name": "ipython",
    "version": 3
   },
   "file_extension": ".py",
   "mimetype": "text/x-python",
   "name": "python",
   "nbconvert_exporter": "python",
   "pygments_lexer": "ipython3",
   "version": "3.8.2"
  }
 },
 "nbformat": 4,
 "nbformat_minor": 4
}
