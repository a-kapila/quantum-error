{
 "cells": [
  {
   "cell_type": "code",
   "execution_count": 1,
   "metadata": {},
   "outputs": [],
   "source": [
    "from qiskit import *\n",
    "import pandas as pd\n",
    "import numpy as np\n",
    "import matplotlib.pyplot as plt\n",
    "import datetime\n",
    "IBMQ.load_account()\n",
    "provider = IBMQ.get_provider(hub='ibm-q')\n",
    "backend = provider.get_backend('ibmq_burlington')\n",
    "from qiskit.ignis.characterization.gates import *\n",
    "from qiskit.ignis.mitigation.measurement import (complete_meas_cal, CompleteMeasFitter)"
   ]
  },
  {
   "cell_type": "code",
   "execution_count": 2,
   "metadata": {},
   "outputs": [],
   "source": [
    "qubits = [0]\n",
    "controls = [1]"
   ]
  },
  {
   "cell_type": "code",
   "execution_count": null,
   "metadata": {},
   "outputs": [],
   "source": [
    "meas_calibs, state_labels = complete_meas_cal(qubit_list=qubits, qr=5, circlabel='mcal')\n",
    "cal_job = qiskit.execute(meas_calibs, backend=backend, shots=8192)\n",
    "cal_results = cal_job.result()\n",
    "meas_fitter = CompleteMeasFitter(cal_results, state_labels, circlabel='mcal')\n",
    "\n",
    "#Calibration matrix for result C\n",
    "raw_counts = job.result().get_counts()\n",
    "\n",
    "# Get the filter object\n",
    "meas_filter = meas_fitter.filter\n",
    "\n",
    "# Results with mitigation\n",
    "mitigated_results = meas_filter.apply(job.result())\n",
    "mitigated_counts = mitigated_results.get_counts(0)"
   ]
  },
  {
   "cell_type": "code",
   "execution_count": 3,
   "metadata": {
    "scrolled": false
   },
   "outputs": [
    {
     "data": {
      "text/plain": [
       "<Figure size 720x432 with 0 Axes>"
      ]
     },
     "metadata": {},
     "output_type": "display_data"
    }
   ],
   "source": [
    "\"\"\"\n",
    "Taken from https://qiskit.org/documentation/apidoc/characterization.html\n",
    "1 Qubit Amplitude Cal\n",
    "\"\"\"\n",
    "\n",
    "circuit, xdata = ampcal_1Q_circuits(75, qubits)\n",
    "job = qiskit.execute(circuit, backend=backend, shots=8192)\n",
    "plt.figure(figsize=(10, 6))\n",
    "initial_theta = 0.02\n",
    "initial_c = 0.5\n",
    "initial_phi = 0.1\n",
    "\n",
    "\n"
   ]
  },
  {
   "cell_type": "code",
   "execution_count": 4,
   "metadata": {},
   "outputs": [
    {
     "data": {
      "text/plain": [
       "[{'0': 4344, '1': 3848},\n",
       " {'0': 4167, '1': 4025},\n",
       " {'0': 4336, '1': 3856},\n",
       " {'0': 4097, '1': 4095},\n",
       " {'0': 4307, '1': 3885},\n",
       " {'0': 4123, '1': 4069},\n",
       " {'0': 4265, '1': 3927},\n",
       " {'0': 4151, '1': 4041},\n",
       " {'0': 4258, '1': 3934},\n",
       " {'0': 4153, '1': 4039},\n",
       " {'0': 4301, '1': 3891},\n",
       " {'0': 4234, '1': 3958},\n",
       " {'0': 4248, '1': 3944},\n",
       " {'0': 4263, '1': 3929},\n",
       " {'0': 4255, '1': 3937},\n",
       " {'0': 4233, '1': 3959},\n",
       " {'0': 4145, '1': 4047},\n",
       " {'0': 4319, '1': 3873},\n",
       " {'0': 4130, '1': 4062},\n",
       " {'0': 4163, '1': 4029},\n",
       " {'0': 4188, '1': 4004},\n",
       " {'0': 4310, '1': 3882},\n",
       " {'0': 4114, '1': 4078},\n",
       " {'0': 4325, '1': 3867},\n",
       " {'0': 4083, '1': 4109},\n",
       " {'0': 4316, '1': 3876},\n",
       " {'0': 4028, '1': 4164},\n",
       " {'0': 4385, '1': 3807},\n",
       " {'0': 4195, '1': 3997},\n",
       " {'0': 4328, '1': 3864},\n",
       " {'0': 4149, '1': 4043},\n",
       " {'0': 4318, '1': 3874},\n",
       " {'0': 4164, '1': 4028},\n",
       " {'0': 4302, '1': 3890},\n",
       " {'0': 4121, '1': 4071},\n",
       " {'0': 4405, '1': 3787},\n",
       " {'0': 4078, '1': 4114},\n",
       " {'0': 4403, '1': 3789},\n",
       " {'0': 4010, '1': 4182},\n",
       " {'0': 4352, '1': 3840},\n",
       " {'0': 4045, '1': 4147},\n",
       " {'0': 4396, '1': 3796},\n",
       " {'0': 4084, '1': 4108},\n",
       " {'0': 4374, '1': 3818},\n",
       " {'0': 4052, '1': 4140},\n",
       " {'0': 4351, '1': 3841},\n",
       " {'0': 4127, '1': 4065},\n",
       " {'0': 4311, '1': 3881},\n",
       " {'0': 4103, '1': 4089},\n",
       " {'0': 4301, '1': 3891},\n",
       " {'0': 4000, '1': 4192},\n",
       " {'0': 4350, '1': 3842},\n",
       " {'0': 3993, '1': 4199},\n",
       " {'0': 4399, '1': 3793},\n",
       " {'0': 4006, '1': 4186},\n",
       " {'0': 4357, '1': 3835},\n",
       " {'0': 4030, '1': 4162},\n",
       " {'0': 4434, '1': 3758},\n",
       " {'0': 4042, '1': 4150},\n",
       " {'0': 4385, '1': 3807},\n",
       " {'0': 4033, '1': 4159},\n",
       " {'0': 4376, '1': 3816},\n",
       " {'0': 3875, '1': 4317},\n",
       " {'0': 4536, '1': 3656},\n",
       " {'0': 3959, '1': 4233},\n",
       " {'0': 4460, '1': 3732},\n",
       " {'0': 3979, '1': 4213},\n",
       " {'0': 4504, '1': 3688},\n",
       " {'0': 3909, '1': 4283},\n",
       " {'0': 4517, '1': 3675},\n",
       " {'0': 3827, '1': 4365},\n",
       " {'0': 4602, '1': 3590},\n",
       " {'0': 3871, '1': 4321},\n",
       " {'0': 4587, '1': 3605},\n",
       " {'0': 3920, '1': 4272}]"
      ]
     },
     "execution_count": 4,
     "metadata": {},
     "output_type": "execute_result"
    }
   ],
   "source": [
    "job.result().get_counts()"
   ]
  },
  {
   "cell_type": "code",
   "execution_count": null,
   "metadata": {},
   "outputs": [],
   "source": [
    "fit = AmpCalFitter(job.result(), xdata, qubits,\n",
    "                   fit_p0=[initial_theta, initial_c],\n",
    "                   fit_bounds=([-np.pi, -1],\n",
    "                               [np.pi, 1]))\n",
    "\n",
    "# plot the result for the number 1 indexed qubit.\n",
    "# In this case that refers to Q2 since we passed in as [4, 2])\n",
    "plt.figure(figsize=(10, 6))\n",
    "fit.plot(0, ax=plt.gca())\n",
    "\n",
    "print(\"Mitigated Rotation Error on U2(0,0): %f rads\"%(fit.angle_err()[0]))\n",
    "plt.show()"
   ]
  },
  {
   "cell_type": "code",
   "execution_count": null,
   "metadata": {
    "scrolled": false
   },
   "outputs": [],
   "source": [
    "# 1 Qubit Angle Cal\n",
    "circuit, xdata = anglecal_1Q_circuits(75, qubits)\n",
    "job = qiskit.execute(circuit, backend=backend, shots=8192)\n",
    "plt.figure(figsize=(10, 6))\n",
    "initial_theta = 0.02\n",
    "initial_c = 0.5\n",
    "initial_phi = 0.01\n",
    "\n",
    "\n",
    "fit = AngleCalFitter(job.result(), xdata, qubits,\n",
    "                   fit_p0=[initial_theta, initial_c],\n",
    "                   fit_bounds=([-np.pi, -1],\n",
    "                               [np.pi, 1]))\n",
    "\n",
    "fit.plot(0, ax=plt.gca())\n",
    "\n",
    "print(\"Angle error between X and Y: %f rads\"%(fit.angle_err()[0]))\n",
    "plt.show()"
   ]
  },
  {
   "cell_type": "code",
   "execution_count": null,
   "metadata": {},
   "outputs": [],
   "source": [
    "circs, xdata = ampcal_cx_circuits(150, qubits, controls)\n",
    "batch1 = circs[:75]\n",
    "batch2 = circs[75:]\n",
    "shots = 8192\n",
    "backend_result1 = qiskit.execute(batch1, backend, shots=shots).result()\n",
    "backend_result2 = qiskit.execute(batch2, backend, shots=shots).result()\n",
    "\n"
   ]
  },
  {
   "cell_type": "code",
   "execution_count": null,
   "metadata": {},
   "outputs": [],
   "source": [
    "#concats the results\n",
    "trunc_parameter = 150\n",
    "\n",
    "total_result = result.Result.from_dict({'job_id': '5f0769f8c794e4001abdd9ea',\n",
    "'date': '2020-07-09T19:09:03+00:00',\n",
    "'backend_version': '2.0.6',\n",
    "'header': {'backend_name': 'ibmqx2', 'backend_version': '2.0.6',},\n",
    "'qobj_id': '3c5712aa-4503-4a86-8266-c2c8de128a52',\n",
    "'success': True,\n",
    "'backend_name': 'ibmqx2',\n",
    "'results': [*backend_result1.to_dict()['results'], *backend_result2.to_dict()['results']][:trunc_parameter]})\n",
    "prob1 = list(map(lambda x: (x['10'] + x['11'])/8192, total_result.get_counts()))"
   ]
  },
  {
   "cell_type": "code",
   "execution_count": null,
   "metadata": {},
   "outputs": [],
   "source": [
    "#Normal Processing of results\n",
    "\n",
    "temp = total_result.to_dict()['results'].copy()\n",
    "temp = list(map(lambda x: {'0x1': x['data']['counts']['0x1'] + x['data']['counts']['0x3'], \n",
    "                           '0x0': x['data']['counts']['0x0'] + x['data']['counts']['0x2']}, temp))\n",
    "res = total_result.to_dict()['results']\n",
    "real_results = total_result.to_dict().copy()\n",
    "for i in range(len(res)):\n",
    "    real_results['results'][i]['data']['counts'] = temp[i]\n",
    "    \n",
    "real_results = result.Result.from_dict(real_results)"
   ]
  },
  {
   "cell_type": "code",
   "execution_count": null,
   "metadata": {},
   "outputs": [],
   "source": [
    "#Get rid of any results where control qubit is not 1\n",
    "temp = total_result.to_dict()['results'].copy()\n",
    "temp = list(map(lambda x: {'0x1': x['data']['counts']['0x3'], \n",
    "                           '0x0': x['data']['counts']['0x2']}, temp))\n",
    "res = total_result.to_dict()['results']\n",
    "real_results = total_result.to_dict().copy()\n",
    "for i in range(len(res)):\n",
    "    real_results['results'][i]['data']['counts'] = temp[i]\n",
    "for i in range(len(res)):\n",
    "    real_results['results'][i]['shots'] = real_results['results'][i]['data']['counts']['0x1'] + \\\n",
    "    real_results['results'][i]['data']['counts']['0x0']\n",
    "real_results = result.Result.from_dict(real_results)"
   ]
  },
  {
   "cell_type": "code",
   "execution_count": null,
   "metadata": {},
   "outputs": [],
   "source": [
    "\n",
    "plt.figure(figsize=(15, 8))\n",
    "initial_theta = 0.02\n",
    "initial_c = 0.5\n",
    "initial_phi = 0.01\n",
    "\n",
    "\n",
    "fit = AmpCalCXFitter(real_results, xdata[:trunc_parameter], qubits,\n",
    "                   fit_p0=[initial_theta, initial_c],\n",
    "                   fit_bounds=([-np.pi, -1],\n",
    "                               [np.pi, 1]))\n",
    "\n",
    "fit.plot(0, ax=plt.gca())\n",
    "plt.scatter(xdata[:trunc_parameter], prob1)\n",
    "plt.title('AmpCal for C0X1 | q0 = 1')\n",
    "print(\"Rotation Error on C0X1: %f rads\"%(fit.angle_err()[0]))\n",
    "plt.show()"
   ]
  },
  {
   "cell_type": "code",
   "execution_count": null,
   "metadata": {},
   "outputs": [],
   "source": []
  }
 ],
 "metadata": {
  "kernelspec": {
   "display_name": "Python 3",
   "language": "python",
   "name": "python3"
  },
  "language_info": {
   "codemirror_mode": {
    "name": "ipython",
    "version": 3
   },
   "file_extension": ".py",
   "mimetype": "text/x-python",
   "name": "python",
   "nbconvert_exporter": "python",
   "pygments_lexer": "ipython3",
   "version": "3.8.2"
  }
 },
 "nbformat": 4,
 "nbformat_minor": 4
}
