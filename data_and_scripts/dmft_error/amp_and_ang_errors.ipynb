{
 "cells": [
  {
   "cell_type": "code",
   "execution_count": 1,
   "metadata": {},
   "outputs": [],
   "source": [
    "from qiskit import *\n",
    "import pandas as pd\n",
    "import numpy as np\n",
    "import matplotlib.pyplot as plt\n",
    "import datetime\n",
    "IBMQ.load_account()\n",
    "provider = IBMQ.get_provider(hub='ibm-q')\n",
    "backend = provider.get_backend('ibmq_burlington')\n",
    "from qiskit.ignis.characterization.gates import *\n",
    "from qiskit.ignis.mitigation.measurement import (complete_meas_cal, CompleteMeasFitter)"
   ]
  },
  {
   "cell_type": "code",
   "execution_count": 2,
   "metadata": {},
   "outputs": [],
   "source": [
    "qubits = [0]\n",
    "controls = [1]"
   ]
  },
  {
   "cell_type": "code",
   "execution_count": null,
   "metadata": {},
   "outputs": [],
   "source": [
    "meas_calibs, state_labels = complete_meas_cal(qubit_list=qubits, qr=5, circlabel='mcal')\n",
    "cal_job = qiskit.execute(meas_calibs, backend=backend, shots=8192)\n",
    "cal_results = cal_job.result()\n",
    "meas_fitter = CompleteMeasFitter(cal_results, state_labels, circlabel='mcal')\n",
    "\n",
    "#Calibration matrix for result C\n",
    "raw_counts = job.result().get_counts()\n",
    "\n",
    "# Get the filter object\n",
    "meas_filter = meas_fitter.filter\n",
    "\n",
    "# Results with mitigation\n",
    "mitigated_results = meas_filter.apply(job.result())\n",
    "mitigated_counts = mitigated_results.get_counts(0)"
   ]
  },
  {
   "cell_type": "code",
   "execution_count": 3,
   "metadata": {
    "scrolled": false
   },
   "outputs": [
    {
     "data": {
      "text/plain": [
       "<Figure size 720x432 with 0 Axes>"
      ]
     },
     "metadata": {},
     "output_type": "display_data"
    }
   ],
   "source": [
    "\"\"\"\n",
    "Taken from https://qiskit.org/documentation/apidoc/characterization.html\n",
    "1 Qubit Amplitude Cal\n",
    "\"\"\"\n",
    "\n",
    "circuit, xdata = ampcal_1Q_circuits(75, qubits)\n",
    "job = qiskit.execute(circuit, backend=backend, shots=8192)\n",
    "plt.figure(figsize=(10, 6))\n",
    "initial_theta = 0.02\n",
    "initial_c = 0.5\n",
    "initial_phi = 0.1\n",
    "\n",
    "\n"
   ]
  },
  {
   "cell_type": "code",
   "execution_count": null,
   "metadata": {},
   "outputs": [],
   "source": [
    "fit = AmpCalFitter(job.result(), xdata, qubits,\n",
    "                   fit_p0=[initial_theta, initial_c],\n",
    "                   fit_bounds=([-np.pi, -1],\n",
    "                               [np.pi, 1]))\n",
    "\n",
    "# plot the result for the number 1 indexed qubit.\n",
    "# In this case that refers to Q2 since we passed in as [4, 2])\n",
    "plt.figure(figsize=(10, 6))\n",
    "fit.plot(0, ax=plt.gca())\n",
    "\n",
    "print(\"Mitigated Rotation Error on U2(0,0): %f rads\"%(fit.angle_err()[0]))\n",
    "plt.show()"
   ]
  },
  {
   "cell_type": "code",
   "execution_count": null,
   "metadata": {
    "scrolled": false
   },
   "outputs": [],
   "source": [
    "# 1 Qubit Angle Cal\n",
    "circuit, xdata = anglecal_1Q_circuits(75, qubits)\n",
    "job = qiskit.execute(circuit, backend=backend, shots=8192)\n",
    "plt.figure(figsize=(10, 6))\n",
    "initial_theta = 0.02\n",
    "initial_c = 0.5\n",
    "initial_phi = 0.01\n",
    "\n",
    "\n",
    "fit = AngleCalFitter(job.result(), xdata, qubits,\n",
    "                   fit_p0=[initial_theta, initial_c],\n",
    "                   fit_bounds=([-np.pi, -1],\n",
    "                               [np.pi, 1]))\n",
    "\n",
    "fit.plot(0, ax=plt.gca())\n",
    "\n",
    "print(\"Angle error between X and Y: %f rads\"%(fit.angle_err()[0]))\n",
    "plt.show()"
   ]
  },
  {
   "cell_type": "code",
   "execution_count": null,
   "metadata": {},
   "outputs": [],
   "source": [
    "circs, xdata = ampcal_cx_circuits(150, qubits, controls)\n",
    "batch1 = circs[:75]\n",
    "batch2 = circs[75:]\n",
    "shots = 8192\n",
    "backend_result1 = qiskit.execute(batch1, backend, shots=shots).result()\n",
    "backend_result2 = qiskit.execute(batch2, backend, shots=shots).result()\n",
    "\n"
   ]
  },
  {
   "cell_type": "code",
   "execution_count": null,
   "metadata": {},
   "outputs": [],
   "source": [
    "#concats the results\n",
    "trunc_parameter = 150\n",
    "\n",
    "total_result = result.Result.from_dict({'job_id': '5f0769f8c794e4001abdd9ea',\n",
    "'date': '2020-07-09T19:09:03+00:00',\n",
    "'backend_version': '2.0.6',\n",
    "'header': {'backend_name': 'ibmqx2', 'backend_version': '2.0.6',},\n",
    "'qobj_id': '3c5712aa-4503-4a86-8266-c2c8de128a52',\n",
    "'success': True,\n",
    "'backend_name': 'ibmqx2',\n",
    "'results': [*backend_result1.to_dict()['results'], *backend_result2.to_dict()['results']][:trunc_parameter]})\n",
    "prob1 = list(map(lambda x: (x['10'] + x['11'])/8192, total_result.get_counts()))"
   ]
  },
  {
   "cell_type": "code",
   "execution_count": null,
   "metadata": {},
   "outputs": [],
   "source": [
    "#Normal Processing of results\n",
    "\n",
    "temp = total_result.to_dict()['results'].copy()\n",
    "temp = list(map(lambda x: {'0x1': x['data']['counts']['0x1'] + x['data']['counts']['0x3'], \n",
    "                           '0x0': x['data']['counts']['0x0'] + x['data']['counts']['0x2']}, temp))\n",
    "res = total_result.to_dict()['results']\n",
    "real_results = total_result.to_dict().copy()\n",
    "for i in range(len(res)):\n",
    "    real_results['results'][i]['data']['counts'] = temp[i]\n",
    "    \n",
    "real_results = result.Result.from_dict(real_results)"
   ]
  },
  {
   "cell_type": "code",
   "execution_count": null,
   "metadata": {},
   "outputs": [],
   "source": [
    "#Get rid of any results where control qubit is not 1\n",
    "temp = total_result.to_dict()['results'].copy()\n",
    "temp = list(map(lambda x: {'0x1': x['data']['counts']['0x3'], \n",
    "                           '0x0': x['data']['counts']['0x2']}, temp))\n",
    "res = total_result.to_dict()['results']\n",
    "real_results = total_result.to_dict().copy()\n",
    "for i in range(len(res)):\n",
    "    real_results['results'][i]['data']['counts'] = temp[i]\n",
    "for i in range(len(res)):\n",
    "    real_results['results'][i]['shots'] = real_results['results'][i]['data']['counts']['0x1'] + \\\n",
    "    real_results['results'][i]['data']['counts']['0x0']\n",
    "real_results = result.Result.from_dict(real_results)"
   ]
  },
  {
   "cell_type": "code",
   "execution_count": null,
   "metadata": {},
   "outputs": [],
   "source": [
    "\n",
    "plt.figure(figsize=(15, 8))\n",
    "initial_theta = 0.02\n",
    "initial_c = 0.5\n",
    "initial_phi = 0.01\n",
    "\n",
    "\n",
    "fit = AmpCalCXFitter(real_results, xdata[:trunc_parameter], qubits,\n",
    "                   fit_p0=[initial_theta, initial_c],\n",
    "                   fit_bounds=([-np.pi, -1],\n",
    "                               [np.pi, 1]))\n",
    "\n",
    "fit.plot(0, ax=plt.gca())\n",
    "plt.scatter(xdata[:trunc_parameter], prob1)\n",
    "plt.title('AmpCal for C0X1 | q0 = 1')\n",
    "print(\"Rotation Error on C0X1: %f rads\"%(fit.angle_err()[0]))\n",
    "plt.show()"
   ]
  },
  {
   "cell_type": "code",
   "execution_count": null,
   "metadata": {},
   "outputs": [],
   "source": []
  }
 ],
 "metadata": {
  "kernelspec": {
   "display_name": "Python 3",
   "language": "python",
   "name": "python3"
  },
  "language_info": {
   "codemirror_mode": {
    "name": "ipython",
    "version": 3
   },
   "file_extension": ".py",
   "mimetype": "text/x-python",
   "name": "python",
   "nbconvert_exporter": "python",
   "pygments_lexer": "ipython3",
   "version": "3.8.2"
  }
 },
 "nbformat": 4,
 "nbformat_minor": 4
}
