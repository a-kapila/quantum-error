{
 "cells": [
  {
   "cell_type": "code",
   "execution_count": 1,
   "metadata": {},
   "outputs": [],
   "source": [
    "from qiskit import *\n",
    "import pandas as pd\n",
    "import numpy as np\n",
    "import matplotlib.pyplot as plt\n",
    "import datetime\n",
    "from qiskit.ignis.mitigation.measurement import (complete_meas_cal, CompleteMeasFitter)\n",
    "IBMQ.load_account()\n",
    "provider = IBMQ.get_provider(hub='ibm-q')\n",
    "backend = provider.get_backend('ibmqx2')"
   ]
  },
  {
   "cell_type": "markdown",
   "metadata": {},
   "source": [
    "**Corrollary 2** For any $m$ quantum channels $\\chi_i$ such that\n",
    "$$\\sum^m_{i=1}\\text{arccos}\\sqrt{\\chi_{00}^{\\chi_i}} \\leq \\frac{\\pi}{2},$$\n",
    "the $\\chi_{00}$ element of the composite channel satisfies\n",
    "$$\\chi_{00}^{\\chi_{1:m}} \\geq \\text{cos}^2\\left( \\sum^m_{i=1}\\text{arccos}\\sqrt{\\chi_{00}^{\\chi_i}}\\right).$$\n",
    "Here, $\\chi_{00} = \\frac{(d+1)F - 1}{d}$ is an affine function of the fidelity $F$."
   ]
  },
  {
   "cell_type": "code",
   "execution_count": 13,
   "metadata": {},
   "outputs": [],
   "source": [
    "def chi(F, d=2):\n",
    "    \"\"\"\n",
    "    Returns chi_00; d initialised for 1 qubit systems\n",
    "    \"\"\"\n",
    "    return ((d+1)*F -1)/d\n",
    "\n",
    "def cossquare(x):\n",
    "    \"\"\"\n",
    "    Calculates the quantity above\n",
    "    expects x to be a real or list of reals \n",
    "    \"\"\"\n",
    "    if type(x) == int or type(x) == float or (type(x) == list and [type(i) == float or type(i) == int for i in x] == [1 for i in x]):\n",
    "        if type(x) != list:\n",
    "            x = [x]\n",
    "        return np.cos(sum([np.arccos(np.sqrt(i)) for i in x]))**2\n",
    "    else:\n",
    "        raise TypeError ('arg needs to be a real or list of reals')"
   ]
  },
  {
   "cell_type": "code",
   "execution_count": 7,
   "metadata": {},
   "outputs": [
    {
     "data": {
      "text/plain": [
       "[Gate(gate='id', name='id_0', parameters=[Nduv(datetime.datetime(2019, 12, 14, 10, 12, 41, tzinfo=tzutc()), gate_error, , 0.0006060840592594316), Nduv(datetime.datetime(2019, 12, 14, 11, 4, 6, tzinfo=tzutc()), gate_length, ns, 35.55555555555556)], qubits=[0]),\n",
       " Gate(gate='u1', name='u1_0', parameters=[Nduv(datetime.datetime(2019, 12, 14, 10, 12, 41, tzinfo=tzutc()), gate_error, , 0), Nduv(datetime.datetime(2019, 12, 14, 11, 4, 6, tzinfo=tzutc()), gate_length, ns, 0)], qubits=[0]),\n",
       " Gate(gate='u2', name='u2_0', parameters=[Nduv(datetime.datetime(2019, 12, 14, 10, 12, 41, tzinfo=tzutc()), gate_error, , 0.0006060840592594316), Nduv(datetime.datetime(2019, 12, 14, 11, 4, 6, tzinfo=tzutc()), gate_length, ns, 35.55555555555556)], qubits=[0]),\n",
       " Gate(gate='u3', name='u3_0', parameters=[Nduv(datetime.datetime(2019, 12, 14, 10, 12, 41, tzinfo=tzutc()), gate_error, , 0.0012121681185188631), Nduv(datetime.datetime(2019, 12, 14, 11, 4, 6, tzinfo=tzutc()), gate_length, ns, 71.11111111111111)], qubits=[0]),\n",
       " Gate(gate='id', name='id_1', parameters=[Nduv(datetime.datetime(2019, 12, 14, 10, 14, 9, tzinfo=tzutc()), gate_error, , 0.0003146048819464823), Nduv(datetime.datetime(2019, 12, 14, 11, 4, 6, tzinfo=tzutc()), gate_length, ns, 35.55555555555556)], qubits=[1]),\n",
       " Gate(gate='u1', name='u1_1', parameters=[Nduv(datetime.datetime(2019, 12, 14, 10, 14, 9, tzinfo=tzutc()), gate_error, , 0), Nduv(datetime.datetime(2019, 12, 14, 11, 4, 6, tzinfo=tzutc()), gate_length, ns, 0)], qubits=[1]),\n",
       " Gate(gate='u2', name='u2_1', parameters=[Nduv(datetime.datetime(2019, 12, 14, 10, 14, 9, tzinfo=tzutc()), gate_error, , 0.0003146048819464823), Nduv(datetime.datetime(2019, 12, 14, 11, 4, 6, tzinfo=tzutc()), gate_length, ns, 35.55555555555556)], qubits=[1]),\n",
       " Gate(gate='u3', name='u3_1', parameters=[Nduv(datetime.datetime(2019, 12, 14, 10, 14, 9, tzinfo=tzutc()), gate_error, , 0.0006292097638929645), Nduv(datetime.datetime(2019, 12, 14, 11, 4, 6, tzinfo=tzutc()), gate_length, ns, 71.11111111111111)], qubits=[1]),\n",
       " Gate(gate='id', name='id_2', parameters=[Nduv(datetime.datetime(2019, 12, 14, 10, 15, 37, tzinfo=tzutc()), gate_error, , 0.00038315098908459224), Nduv(datetime.datetime(2019, 12, 14, 11, 4, 6, tzinfo=tzutc()), gate_length, ns, 35.55555555555556)], qubits=[2]),\n",
       " Gate(gate='u1', name='u1_2', parameters=[Nduv(datetime.datetime(2019, 12, 14, 10, 15, 37, tzinfo=tzutc()), gate_error, , 0), Nduv(datetime.datetime(2019, 12, 14, 11, 4, 6, tzinfo=tzutc()), gate_length, ns, 0)], qubits=[2]),\n",
       " Gate(gate='u2', name='u2_2', parameters=[Nduv(datetime.datetime(2019, 12, 14, 10, 15, 37, tzinfo=tzutc()), gate_error, , 0.00038315098908459224), Nduv(datetime.datetime(2019, 12, 14, 11, 4, 6, tzinfo=tzutc()), gate_length, ns, 35.55555555555556)], qubits=[2]),\n",
       " Gate(gate='u3', name='u3_2', parameters=[Nduv(datetime.datetime(2019, 12, 14, 10, 15, 37, tzinfo=tzutc()), gate_error, , 0.0007663019781691845), Nduv(datetime.datetime(2019, 12, 14, 11, 4, 6, tzinfo=tzutc()), gate_length, ns, 71.11111111111111)], qubits=[2]),\n",
       " Gate(gate='id', name='id_3', parameters=[Nduv(datetime.datetime(2019, 12, 14, 10, 17, 5, tzinfo=tzutc()), gate_error, , 0.000542494391021575), Nduv(datetime.datetime(2019, 12, 14, 11, 4, 6, tzinfo=tzutc()), gate_length, ns, 35.55555555555556)], qubits=[3]),\n",
       " Gate(gate='u1', name='u1_3', parameters=[Nduv(datetime.datetime(2019, 12, 14, 10, 17, 5, tzinfo=tzutc()), gate_error, , 0), Nduv(datetime.datetime(2019, 12, 14, 11, 4, 6, tzinfo=tzutc()), gate_length, ns, 0)], qubits=[3]),\n",
       " Gate(gate='u2', name='u2_3', parameters=[Nduv(datetime.datetime(2019, 12, 14, 10, 17, 5, tzinfo=tzutc()), gate_error, , 0.000542494391021575), Nduv(datetime.datetime(2019, 12, 14, 11, 4, 6, tzinfo=tzutc()), gate_length, ns, 35.55555555555556)], qubits=[3]),\n",
       " Gate(gate='u3', name='u3_3', parameters=[Nduv(datetime.datetime(2019, 12, 14, 10, 17, 5, tzinfo=tzutc()), gate_error, , 0.00108498878204315), Nduv(datetime.datetime(2019, 12, 14, 11, 4, 6, tzinfo=tzutc()), gate_length, ns, 71.11111111111111)], qubits=[3]),\n",
       " Gate(gate='id', name='id_4', parameters=[Nduv(datetime.datetime(2019, 12, 14, 10, 18, 53, tzinfo=tzutc()), gate_error, , 0.0017029147856323092), Nduv(datetime.datetime(2019, 12, 14, 11, 4, 6, tzinfo=tzutc()), gate_length, ns, 35.55555555555556)], qubits=[4]),\n",
       " Gate(gate='u1', name='u1_4', parameters=[Nduv(datetime.datetime(2019, 12, 14, 10, 18, 53, tzinfo=tzutc()), gate_error, , 0), Nduv(datetime.datetime(2019, 12, 14, 11, 4, 6, tzinfo=tzutc()), gate_length, ns, 0)], qubits=[4]),\n",
       " Gate(gate='u2', name='u2_4', parameters=[Nduv(datetime.datetime(2019, 12, 14, 10, 18, 53, tzinfo=tzutc()), gate_error, , 0.0017029147856323092), Nduv(datetime.datetime(2019, 12, 14, 11, 4, 6, tzinfo=tzutc()), gate_length, ns, 35.55555555555556)], qubits=[4]),\n",
       " Gate(gate='u3', name='u3_4', parameters=[Nduv(datetime.datetime(2019, 12, 14, 10, 18, 53, tzinfo=tzutc()), gate_error, , 0.0034058295712646185), Nduv(datetime.datetime(2019, 12, 14, 11, 4, 6, tzinfo=tzutc()), gate_length, ns, 71.11111111111111)], qubits=[4]),\n",
       " Gate(gate='cx', name='cx0_1', parameters=[Nduv(datetime.datetime(2019, 12, 14, 10, 25, 3, tzinfo=tzutc()), gate_error, , 0.010686492657786567), Nduv(datetime.datetime(2019, 12, 14, 11, 4, 6, tzinfo=tzutc()), gate_length, ns, 362.66666666666663)], qubits=[0, 1]),\n",
       " Gate(gate='cx', name='cx0_2', parameters=[Nduv(datetime.datetime(2019, 12, 14, 10, 30, tzinfo=tzutc()), gate_error, , 0.014438804123716231), Nduv(datetime.datetime(2019, 12, 14, 11, 4, 6, tzinfo=tzutc()), gate_length, ns, 490.66666666666663)], qubits=[0, 2]),\n",
       " Gate(gate='cx', name='cx1_0', parameters=[Nduv(datetime.datetime(2019, 12, 14, 10, 25, 3, tzinfo=tzutc()), gate_error, , 0.010686492657786567), Nduv(datetime.datetime(2019, 12, 14, 11, 4, 6, tzinfo=tzutc()), gate_length, ns, 362.66666666666663)], qubits=[1, 0]),\n",
       " Gate(gate='cx', name='cx1_2', parameters=[Nduv(datetime.datetime(2019, 12, 14, 10, 44, 56, tzinfo=tzutc()), gate_error, , 0.013687050510625659), Nduv(datetime.datetime(2019, 12, 14, 11, 4, 6, tzinfo=tzutc()), gate_length, ns, 512)], qubits=[1, 2]),\n",
       " Gate(gate='cx', name='cx2_0', parameters=[Nduv(datetime.datetime(2019, 12, 14, 10, 30, tzinfo=tzutc()), gate_error, , 0.014438804123716231), Nduv(datetime.datetime(2019, 12, 14, 11, 4, 6, tzinfo=tzutc()), gate_length, ns, 490.66666666666663)], qubits=[2, 0]),\n",
       " Gate(gate='cx', name='cx2_1', parameters=[Nduv(datetime.datetime(2019, 12, 14, 10, 44, 56, tzinfo=tzutc()), gate_error, , 0.013687050510625659), Nduv(datetime.datetime(2019, 12, 14, 11, 4, 6, tzinfo=tzutc()), gate_length, ns, 512)], qubits=[2, 1]),\n",
       " Gate(gate='cx', name='cx2_3', parameters=[Nduv(datetime.datetime(2019, 12, 14, 10, 50, 2, tzinfo=tzutc()), gate_error, , 0.013598353741707286), Nduv(datetime.datetime(2019, 12, 14, 11, 4, 6, tzinfo=tzutc()), gate_length, ns, 391.1111111111111)], qubits=[2, 3]),\n",
       " Gate(gate='cx', name='cx2_4', parameters=[Nduv(datetime.datetime(2019, 12, 14, 11, 4, 6, tzinfo=tzutc()), gate_error, , 0.017960100479679303), Nduv(datetime.datetime(2019, 12, 14, 11, 4, 6, tzinfo=tzutc()), gate_length, ns, 312.88888888888886)], qubits=[2, 4]),\n",
       " Gate(gate='cx', name='cx3_2', parameters=[Nduv(datetime.datetime(2019, 12, 14, 10, 50, 2, tzinfo=tzutc()), gate_error, , 0.013598353741707286), Nduv(datetime.datetime(2019, 12, 14, 11, 4, 6, tzinfo=tzutc()), gate_length, ns, 391.1111111111111)], qubits=[3, 2]),\n",
       " Gate(gate='cx', name='cx3_4', parameters=[Nduv(datetime.datetime(2019, 12, 14, 10, 58, 5, tzinfo=tzutc()), gate_error, , 0.042808010833564), Nduv(datetime.datetime(2019, 12, 14, 11, 4, 6, tzinfo=tzutc()), gate_length, ns, 405.3333333333333)], qubits=[3, 4]),\n",
       " Gate(gate='cx', name='cx4_2', parameters=[Nduv(datetime.datetime(2019, 12, 14, 11, 4, 6, tzinfo=tzutc()), gate_error, , 0.017960100479679303), Nduv(datetime.datetime(2019, 12, 14, 11, 4, 6, tzinfo=tzutc()), gate_length, ns, 312.88888888888886)], qubits=[4, 2]),\n",
       " Gate(gate='cx', name='cx4_3', parameters=[Nduv(datetime.datetime(2019, 12, 14, 10, 58, 5, tzinfo=tzutc()), gate_error, , 0.042808010833564), Nduv(datetime.datetime(2019, 12, 14, 11, 4, 6, tzinfo=tzutc()), gate_length, ns, 405.3333333333333)], qubits=[4, 3])]"
      ]
     },
     "execution_count": 7,
     "metadata": {},
     "output_type": "execute_result"
    }
   ],
   "source": [
    "\"\"\"\n",
    "DMFT Paper Circuit 2a\n",
    "\"\"\"\n",
    "\n",
    "backend.properties(datetime=datetime.datetime(2019,12,15), refresh=True).gates\n",
    "\n"
   ]
  },
  {
   "cell_type": "code",
   "execution_count": 15,
   "metadata": {},
   "outputs": [
    {
     "name": "stderr",
     "output_type": "stream",
     "text": [
      "<ipython-input-13-52111aa49d92>:15: RuntimeWarning: invalid value encountered in sqrt\n",
      "  return np.cos(sum([np.arccos(np.sqrt(i)) for i in x]))**2\n"
     ]
    },
    {
     "data": {
      "text/plain": [
       "nan"
      ]
     },
     "execution_count": 15,
     "metadata": {},
     "output_type": "execute_result"
    }
   ],
   "source": [
    "cossquare(list(map(chi,[0.0006060840592594316, 0.0006060840592594316, 0.0003146048819464823,0.0003146048819464823, 0.00038315098908459224, 0.00038315098908459224, 0.000542494391021575,0.000542494391021575,0.010686492657786567,0.013687050510625659,0.013598353741707286])))"
   ]
  },
  {
   "cell_type": "code",
   "execution_count": null,
   "metadata": {},
   "outputs": [],
   "source": []
  }
 ],
 "metadata": {
  "kernelspec": {
   "display_name": "Python 3",
   "language": "python",
   "name": "python3"
  },
  "language_info": {
   "codemirror_mode": {
    "name": "ipython",
    "version": 3
   },
   "file_extension": ".py",
   "mimetype": "text/x-python",
   "name": "python",
   "nbconvert_exporter": "python",
   "pygments_lexer": "ipython3",
   "version": "3.8.2"
  }
 },
 "nbformat": 4,
 "nbformat_minor": 4
}
