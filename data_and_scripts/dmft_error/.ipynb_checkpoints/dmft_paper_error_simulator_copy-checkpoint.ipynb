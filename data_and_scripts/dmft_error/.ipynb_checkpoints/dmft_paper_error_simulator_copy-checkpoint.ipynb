{
 "cells": [
  {
   "cell_type": "code",
   "execution_count": 1,
   "metadata": {},
   "outputs": [],
   "source": [
    "from qiskit import Aer, IBMQ, execute\n",
    "from qiskit import QuantumCircuit, QuantumRegister, ClassicalRegister\n",
    "import numpy as np\n",
    "from qiskit.providers.aer.noise import NoiseModel\n",
    "from qiskit.test.mock import FakeYorktown\n",
    "import os\n",
    "import csv\n",
    "import time\n",
    "device_backend = FakeYorktown()\n",
    "coupling_map = device_backend.configuration().coupling_map\n",
    "noise_model = NoiseModel.from_backend(device_backend)\n",
    "basis_gates = noise_model.basis_gates\n",
    "hyperparams = [-np.pi/2, 0, -0.979924, -np.pi, 0, np.pi, np.pi, np.pi]\n",
    "shots = 200000\n",
    "def fresh_circuit(theta):\n",
    "    # Construct quantum circuit\n",
    "    circ = QuantumCircuit(4, 4)\n",
    "    circ.ry(theta[0], 0)\n",
    "    circ.ry(theta[1], 1)\n",
    "    circ.ry(theta[2], 2)\n",
    "    circ.ry(theta[3], 3)\n",
    "    circ.cx(0, 1)\n",
    "    circ.cx(1, 2)\n",
    "    circ.cx(2, 3)\n",
    "    circ.ry(theta[4], 0)\n",
    "    circ.ry(theta[5], 1)\n",
    "    circ.ry(theta[6], 2)\n",
    "    circ.ry(theta[7], 3)\n",
    "    return circ\n",
    "def get_sigma(basis, index, result_noise):\n",
    "    if basis == 'x':\n",
    "        result = result_noise[0]\n",
    "    elif basis == 'y':\n",
    "        result = result_noise[1]\n",
    "    elif basis == 'z':\n",
    "        result = result_noise[2]\n",
    "    vec = np.array([(-1) ** (sum([int(n[i]) for i in index])) for n in result.keys()])\n",
    "    result = np.array(list(result.values()))\n",
    "    return (np.dot(result, vec) / shots)\n",
    "def calc_H(i):\n",
    "    # Select the QasmSimulator from the Aer provider\n",
    "    circ_z = fresh_circuit(i)\n",
    "    circ_z.measure(list(range(4)), list(range(4)))\n",
    "    circ_x = fresh_circuit(i)\n",
    "    circ_x.h([0, 1, 2, 3])\n",
    "    circ_x.measure(list(range(4)), list(range(4)))\n",
    "    circ_y = fresh_circuit(i)\n",
    "    circ_y.sdg([0, 1, 2, 3])\n",
    "    circ_y.h([0, 1, 2, 3])\n",
    "    circ_y.measure(list(range(4)), list(range(4)))\n",
    "    # Execute noisy simulation and get counts\n",
    "    simulator = Aer.get_backend('qasm_simulator')\n",
    "    result_noise = execute([circ_x, circ_y, circ_z], simulator,\n",
    "                           noise_model=noise_model,\n",
    "                           coupling_map=coupling_map,\n",
    "                           basis_gates=basis_gates,\n",
    "                           shots=shots).result().get_counts()\n",
    "    # reverse the order of qubits to something that makes sense\n",
    "    rn = list(map(lambda x: dict(zip(list(map(lambda y: y[::-1], x.keys())), x.values())), result_noise))\n",
    "    H = get_sigma('z', [0, 2], rn) + 0.372678 * (get_sigma('x', [0, 1], rn) + get_sigma('y', [0, 1], rn) + get_sigma('x', [2, 3], rn) + get_sigma('y',[2, 3],rn))\n",
    "    return (H)\n",
    "\n",
    "\n",
    "import numdifftools as nd\n",
    "Hfun = nd.Hessian(calc_H)\n",
    "x = Hfun(hyperparams)\n",
    "evals, evecs = np.linalg.eig(x)"
   ]
  },
  {
   "cell_type": "code",
   "execution_count": 2,
   "metadata": {},
   "outputs": [],
   "source": [
    "np.savetxt(\"1.csv\", x, delimiter=\",\")\n",
    "np.savetxt(\"2.csv\", evals, delimiter=\",\")\n",
    "np.savetxt(\"3.csv\", evecs, delimiter=\",\")"
   ]
  },
  {
   "cell_type": "code",
   "execution_count": null,
   "metadata": {},
   "outputs": [],
   "source": []
  }
 ],
 "metadata": {
  "kernelspec": {
   "display_name": "Python 3",
   "language": "python",
   "name": "python3"
  },
  "language_info": {
   "codemirror_mode": {
    "name": "ipython",
    "version": 3
   },
   "file_extension": ".py",
   "mimetype": "text/x-python",
   "name": "python",
   "nbconvert_exporter": "python",
   "pygments_lexer": "ipython3",
   "version": "3.8.2"
  }
 },
 "nbformat": 4,
 "nbformat_minor": 4
}
