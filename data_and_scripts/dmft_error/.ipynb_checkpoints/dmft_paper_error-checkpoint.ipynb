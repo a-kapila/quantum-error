{
 "cells": [
  {
   "cell_type": "code",
   "execution_count": 1,
   "metadata": {},
   "outputs": [],
   "source": [
    "from qiskit import *\n",
    "import pandas as pd\n",
    "import numpy as np\n",
    "import matplotlib.pyplot as plt\n",
    "import datetime\n",
    "from qiskit.ignis.mitigation.measurement import (complete_meas_cal, CompleteMeasFitter)"
   ]
  },
  {
   "cell_type": "code",
   "execution_count": 2,
   "metadata": {},
   "outputs": [],
   "source": [
    "IBMQ.load_account()\n",
    "provider = IBMQ.get_provider(hub='ibm-q')\n",
    "backend = provider.get_backend('ibmqx2')"
   ]
  },
  {
   "cell_type": "code",
   "execution_count": 3,
   "metadata": {},
   "outputs": [],
   "source": [
    "#initialize \n",
    "U = 4\n",
    "V = 0.745356\n",
    "theta_c = -2.50107\n",
    "theta_b = [1.5708, -2.16167, 0]\n"
   ]
  },
  {
   "cell_type": "markdown",
   "metadata": {},
   "source": [
    "**From the paper**, the optimal values of $\\theta$ for the $\\vert00\\rangle$ in Fig.2b are:\n",
    "$$\\theta_0=1.5708 \\\\\n",
    "\\theta_1=-2.16167 \\\\\n",
    "\\theta_2=0$$\n",
    "Want to calculate $\\langle H \\rangle = \\frac{U}{4}\\langle \\sigma^0_z \\sigma^1_z \\rangle + V(\\langle \\sigma^0_x \\rangle + \\langle\\sigma^1_x\\rangle)$.\n"
   ]
  },
  {
   "cell_type": "code",
   "execution_count": 4,
   "metadata": {},
   "outputs": [],
   "source": [
    "q_b = QuantumRegister(2)\n",
    "c_b = ClassicalRegister(2)\n",
    "circuit_b = QuantumCircuit(q_b, c_b)\n",
    "\n",
    "#initialise and measure in Pauli z basis\n",
    "circuit_b.u3(theta_b[0],0,0,q_b[0])\n",
    "circuit_b.u3(theta_b[1],0,0,q_b[1])\n",
    "circuit_b.cx(q_b[0],q_b[1])\n",
    "\n",
    "\"\"\"\n",
    "REMOVE THIS PART FOR OPTIMISED MMT\n",
    "\n",
    "circuit_b.barrier()\n",
    "circuit_b.id(q_b)\n",
    "\"\"\"\n",
    "circuit_b.measure(q_b, c_b)\n",
    "circuit_b.draw(output='mpl')\n",
    "job_bz1= execute(circuit_b, backend=backend, initial_layout=[0,1], shots=8192)"
   ]
  },
  {
   "cell_type": "code",
   "execution_count": 5,
   "metadata": {},
   "outputs": [],
   "source": [
    "#initialise and measure in Pauli X basis\n",
    "q_b = QuantumRegister(2)\n",
    "c_b = ClassicalRegister(2)\n",
    "circuit_b = QuantumCircuit(q_b, c_b)\n",
    "\n",
    "circuit_b.u3(theta_b[0],0,0,q_b[0])\n",
    "circuit_b.u3(theta_b[1],0,0,q_b[1])\n",
    "circuit_b.cx(q_b[0],q_b[1])\n",
    "\n",
    "\"\"\"\n",
    "REMOVE THIS PART FOR OPTIMISED MMT\n",
    "\n",
    "circuit_b.barrier()\n",
    "\"\"\"\n",
    "circuit_b.h(q_b)\n",
    "circuit_b.measure(q_b, c_b)\n",
    "circuit_b.draw(output='mpl')\n",
    "job_bx1= execute(circuit_b, backend=backend, initial_layout=[0,1], shots=8192)"
   ]
  },
  {
   "cell_type": "code",
   "execution_count": 12,
   "metadata": {},
   "outputs": [
    {
     "data": {
      "text/plain": [
       "<JobStatus.DONE: 'job has successfully run'>"
      ]
     },
     "execution_count": 12,
     "metadata": {},
     "output_type": "execute_result"
    }
   ],
   "source": [
    "job_cz1.status()"
   ]
  },
  {
   "cell_type": "code",
   "execution_count": 7,
   "metadata": {},
   "outputs": [
    {
     "data": {
      "image/png": "[encoded data removed]",
      "text/plain": [
       "<Figure size 550.228x204.68 with 1 Axes>"
      ]
     },
     "execution_count": 7,
     "metadata": {},
     "output_type": "execute_result"
    }
   ],
   "source": [
    "circuit_b.draw(output='mpl')"
   ]
  },
  {
   "cell_type": "code",
   "execution_count": null,
   "metadata": {},
   "outputs": [],
   "source": [
    "\"\"\"\n",
    "#initialise and measure in Pauli Y basis\n",
    "q_b = QuantumRegister(2)\n",
    "c_b = ClassicalRegister(2)\n",
    "circuit_b = QuantumCircuit(q_b, c_b)\n",
    "\n",
    "circuit_b.u3(theta_b[0],0,0,q_b[0])\n",
    "circuit_b.u3(theta_b[1],0,0,q_b[1])\n",
    "circuit_b.cx(q_b[0],q_b[1])\n",
    "\n",
    "\n",
    "#REMOVE THIS PART FOR OPTIMISED MMT\n",
    "\n",
    "#circuit_b.barrier()\n",
    "\n",
    "circuit_b.sdg(q_b)\n",
    "circuit_b.h(q_b)\n",
    "circuit_b.measure(q_b, c_b)\n",
    "circuit_b.draw(output='mpl')\n",
    "job_by1= execute(circuit_b, backend=backend, initial_layout=[0,1], shots=8192)\n",
    "\"\"\""
   ]
  },
  {
   "cell_type": "code",
   "execution_count": null,
   "metadata": {
    "scrolled": true
   },
   "outputs": [],
   "source": [
    "print(job_cz.job_id())\n",
    "print(job_cz.result().get_counts())\n",
    "\n",
    "print(job_cz.qobj())\n",
    "job_cz.time_per_step()"
   ]
  },
  {
   "cell_type": "markdown",
   "metadata": {},
   "source": [
    "The optimal value of $\\theta$ for Fig.2c is $\\theta_0=-2.50107$, giving $E_0 = -1.24722$.\n",
    "\n",
    "We want to calculate $\\langle H \\rangle = \\frac{U}{4}\\langle\\sigma_z\\rangle + V\\langle\\sigma_x\\rangle$"
   ]
  },
  {
   "cell_type": "code",
   "execution_count": 6,
   "metadata": {
    "scrolled": true
   },
   "outputs": [],
   "source": [
    "#Pauli Z basis\n",
    "q_c = QuantumRegister(1)\n",
    "c_c = ClassicalRegister(1)\n",
    "circuit_c = QuantumCircuit(q_c,c_c)\n",
    "circuit_c.u3(theta_c,0,0,q_c)\n",
    "\n",
    "\"\"\"\n",
    "Remove this for optimised run\n",
    "\n",
    "circuit_c.barrier()\n",
    "circuit_c.id(q_c)\n",
    "\"\"\"\n",
    "circuit_c.measure(q_c,c_c)\n",
    "circuit_c.draw(output='mpl')\n",
    "job_cz1 = execute(circuit_c, backend=backend, initial_layout=[0], shots=8192)"
   ]
  },
  {
   "cell_type": "code",
   "execution_count": 7,
   "metadata": {},
   "outputs": [],
   "source": [
    "#initialise and measure in Pauli X basis\n",
    "q_c = QuantumRegister(1)\n",
    "c_c = ClassicalRegister(1)\n",
    "circuit_c = QuantumCircuit(q_c,c_c)\n",
    "circuit_c.u3(theta_c,0,0,q_c)\n",
    "\n",
    "\n",
    "circuit_c.h(q_c)\n",
    "circuit_c.measure(q_c,c_c)\n",
    "circuit_c.draw(output='mpl')\n",
    "job_cx1 = execute(circuit_c, backend=backend, initial_layout=[0], shots=8192)"
   ]
  },
  {
   "cell_type": "code",
   "execution_count": null,
   "metadata": {},
   "outputs": [],
   "source": [
    "\"\"\"\n",
    "#initialise and measure in Pauli Y basis\n",
    "q_c = QuantumRegister(1)\n",
    "c_c = ClassicalRegister(1)\n",
    "circuit_c = QuantumCircuit(q_c,c_c)\n",
    "circuit_c.u3(theta_c,0,0,q_c)\n",
    "\n",
    "#Remove this one for optimised mmt\n",
    "\n",
    "#circuit_c.barrier()\n",
    "\n",
    "circuit_c.sdg(q_c)\n",
    "circuit_c.h(q_c)\n",
    "circuit_c.measure(q_c, c_c)\n",
    "circuit_c.draw(output='mpl')\n",
    "job_cy1 = execute(circuit_c, backend=backend, initial_layout=[0], shots=8192)\n",
    "\"\"\""
   ]
  },
  {
   "cell_type": "code",
   "execution_count": 31,
   "metadata": {},
   "outputs": [],
   "source": [
    "meas_calibs, state_labels = complete_meas_cal(qubit_list=[0,1], qr=5, circlabel='mcal')\n",
    "job = qiskit.execute(meas_calibs, backend=backend, shots=8192)\n",
    "cal_results = job.result()\n",
    "meas_fitter = CompleteMeasFitter(cal_results, state_labels, circlabel='mcal')\n",
    "#Calibration matrix for result C"
   ]
  },
  {
   "cell_type": "code",
   "execution_count": 35,
   "metadata": {
    "scrolled": true
   },
   "outputs": [
    {
     "data": {
      "image/png": "[encoded data removed]",
      "text/plain": [
       "<Figure size 504x360 with 1 Axes>"
      ]
     },
     "execution_count": 35,
     "metadata": {},
     "output_type": "execute_result"
    }
   ],
   "source": [
    "raw_counts = job_bz1.result().get_counts()\n",
    "\n",
    "# Get the filter object\n",
    "meas_filter = meas_fitter.filter\n",
    "\n",
    "# Results with mitigation\n",
    "mitigated_results = meas_filter.apply(job_bz1.result())\n",
    "mitigated_counts = mitigated_results.get_counts(0)\n",
    "from qiskit.tools.visualization import *\n",
    "plot_histogram([raw_counts, mitigated_counts], legend=['raw', 'mitigated'])"
   ]
  },
  {
   "cell_type": "code",
   "execution_count": 36,
   "metadata": {},
   "outputs": [
    {
     "data": {
      "text/plain": [
       "{'00': 826.546816825626,\n",
       " '10': 3178.223896865138,\n",
       " '01': 3498.796068698491,\n",
       " '11': 688.4332176107454}"
      ]
     },
     "execution_count": 36,
     "metadata": {},
     "output_type": "execute_result"
    }
   ],
   "source": [
    "mitigated_counts"
   ]
  },
  {
   "cell_type": "code",
   "execution_count": null,
   "metadata": {},
   "outputs": [],
   "source": [
    "\"\"\"\n",
    "How long does it take to run the job?\n",
    "\"\"\"\n",
    "\n",
    "job = list(range(3000))\n",
    "for shots in range(3000):\n",
    "    job[shots] = execute(circuit_c, backend=backend, initial_layout=[0], shots=shots)\n",
    "job = job[:list(map(lambda x: type(x) == int, job)).index(1)]\n",
    "job = [i for i in job if i.status().name == 'DONE']\n",
    "times = [i.time_per_step()['COMPLETED'] - i.time_per_step()['RUNNING'] for i in job]\n",
    "plt.scatter([i.qobj().config.shots for i in job], list(map( lambda x: x.total_seconds(),times)))\n",
    "plt.xlabel('shots')\n",
    "plt.ylabel('s')\n",
    "plt.show()"
   ]
  }
 ],
 "metadata": {
  "kernelspec": {
   "display_name": "Python 3",
   "language": "python",
   "name": "python3"
  },
  "language_info": {
   "codemirror_mode": {
    "name": "ipython",
    "version": 3
   },
   "file_extension": ".py",
   "mimetype": "text/x-python",
   "name": "python",
   "nbconvert_exporter": "python",
   "pygments_lexer": "ipython3",
   "version": "3.8.2"
  }
 },
 "nbformat": 4,
 "nbformat_minor": 4
}
