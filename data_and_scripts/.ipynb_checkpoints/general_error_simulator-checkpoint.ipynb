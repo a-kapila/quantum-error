{
 "cells": [
  {
   "cell_type": "code",
   "execution_count": 2,
   "metadata": {},
   "outputs": [],
   "source": [
    "from qiskit import *\n",
    "import pandas as pd\n",
    "import numpy as np\n",
    "import matplotlib.pyplot as plt\n",
    "import datetime\n",
    "from qiskit.ignis.characterization.gates import *\n",
    "from qiskit.providers.aer import *\n",
    "from qiskit.tools.visualization import plot_histogram\n",
    "\n",
    "# Import from Qiskit Aer noise module\n",
    "from qiskit.providers.aer.noise import *\n"
   ]
  },
  {
   "cell_type": "code",
   "execution_count": null,
   "metadata": {},
   "outputs": [],
   "source": [
    "def ampcal_circuits(max_reps, qubits, dth=0.01):\n",
    "    \"\"\"\n",
    "    Generates circuit for measuring the amplitude error of\n",
    "    the single qubit gates\n",
    "\n",
    "    The U2 gate is repeatedly applied (in groups of 2)\n",
    "    and we look at the population of the\n",
    "    qubit in the xy axis (amplitude erorr amplification sequence)\n",
    "\n",
    "    Y90-(Y90-Y90)^n\n",
    "\n",
    "    Args:\n",
    "        max_reps (int): the maximum number of repetitions. Circuits will\n",
    "            increment by 1 rep up to max_rep\n",
    "        qubits (list): a list of integers indices of the qubits to perform the\n",
    "            calibration on\n",
    "    Returns:\n",
    "        tuple: A tuple of the form (``circuits``, ``xdata``) where\n",
    "            ``circuits`` is a list of QuantumCircuit and ``xdata`` is a list of\n",
    "            gate repetitions (number of u2 gates)\n",
    "    \"\"\"\n",
    "    #change this as required to *2\n",
    "    xdata = np.arange(max_reps)\n",
    "    qr = qiskit.QuantumRegister(max(qubits)+1)\n",
    "    cr = qiskit.ClassicalRegister(len(qubits))\n",
    "    circuits = []\n",
    "    #Now using X90's RAW\n",
    "    for circ_index, circ_length in enumerate(xdata):\n",
    "        circ = qiskit.QuantumCircuit(qr, cr)\n",
    "        circ.name = 'ampcal1Qcircuit_' + str(circ_index) + '_0'\n",
    "        for qind, qubit in enumerate(qubits):\n",
    "            circ.rx(np.pi/2 + dth, qr[qubit])\n",
    "            for _ in range(circ_length):\n",
    "                circ.barrier(qr[qubit])\n",
    "                circ.rx(np.pi/2 + dth, qr[qubit])\n",
    "\n",
    "        for qind, qubit in enumerate(qubits):\n",
    "            circ.measure(qr[qubit], cr[qind])\n",
    "        circuits.append(circ)\n",
    "\n",
    "    return circuits, xdata\n"
   ]
  },
  {
   "cell_type": "code",
   "execution_count": null,
   "metadata": {},
   "outputs": [],
   "source": [
    "circs, xdata = ampcal_circuits(300, [0], 0.01)\n",
    "    "
   ]
  },
  {
   "cell_type": "code",
   "execution_count": null,
   "metadata": {},
   "outputs": [],
   "source": [
    "# Set the simulator\n",
    "# Add a rotation error\n",
    "qubits=[0]\n",
    "max_reps_sim = 75\n",
    "angle_err = 0.1\n",
    "\n",
    "err_unitary = np.zeros([2,2],dtype=complex)\n",
    "\n",
    "for i in range(2):\n",
    "    err_unitary[i,i] = np.cos(angle_err)\n",
    "    err_unitary[i,(i+1) % 2] = np.sin(angle_err)\n",
    "err_unitary[0,1] *= -1.0\n",
    "\n",
    "error = coherent_unitary_error(err_unitary)\n",
    "noise_model = NoiseModel()\n",
    "noise_model.add_all_qubit_quantum_error(error, 'u2')\n",
    "circs, xdata = ampcal_1Q_circuits(max_reps_sim, qubits)\n"
   ]
  },
  {
   "cell_type": "code",
   "execution_count": null,
   "metadata": {},
   "outputs": [],
   "source": [
    "shots = 8192\n",
    "circ_batch = [circs[75*i:75*(i+1)] for i in range(int(max_reps_sim/75))]\n",
    "backend_result=[]\n",
    "for i in circ_batch:\n",
    "    backend_result.append(qiskit.execute(i, backend=QasmSimulator(), shots=shots).result())"
   ]
  },
  {
   "cell_type": "code",
   "execution_count": null,
   "metadata": {},
   "outputs": [],
   "source": [
    "total_results = [item for sublist in map(lambda x: x.get_counts(), backend_result) for item in sublist]\n",
    "prob1 = []\n",
    "for i in total_results:\n",
    "    try:\n",
    "        prob1.append(i['1']/8192)\n",
    "    except:\n",
    "        prob1.append(0)\n",
    "fft = np.fft.fft(prob1)\n",
    "#plt.scatter(np.fft.fftfreq(len(fft)), list(map(np.abs, fft)))\n",
    "plt.scatter(xdata, prob1)"
   ]
  },
  {
   "cell_type": "code",
   "execution_count": null,
   "metadata": {},
   "outputs": [],
   "source": [
    "dict(zip(np.fft.fftfreq(len(fft)), list(map(np.abs, fft))))"
   ]
  }
 ],
 "metadata": {
  "kernelspec": {
   "display_name": "Python 3",
   "language": "python",
   "name": "python3"
  },
  "language_info": {
   "codemirror_mode": {
    "name": "ipython",
    "version": 3
   },
   "file_extension": ".py",
   "mimetype": "text/x-python",
   "name": "python",
   "nbconvert_exporter": "python",
   "pygments_lexer": "ipython3",
   "version": "3.8.2"
  }
 },
 "nbformat": 4,
 "nbformat_minor": 4
}
