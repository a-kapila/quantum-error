{
 "cells": [
  {
   "cell_type": "code",
   "execution_count": 4,
   "metadata": {},
   "outputs": [],
   "source": [
    "from qiskit import *\n",
    "import pandas as pd\n",
    "import numpy as np\n",
    "import matplotlib.pyplot as plt\n",
    "import datetime"
   ]
  },
  {
   "cell_type": "code",
   "execution_count": 2,
   "metadata": {},
   "outputs": [],
   "source": [
    "IBMQ.load_account()\n",
    "provider = IBMQ.get_provider(hub='ibm-q')\n",
    "backend = provider.get_backend('ibmqx2')"
   ]
  },
  {
   "cell_type": "code",
   "execution_count": 8,
   "metadata": {},
   "outputs": [],
   "source": [
    "#initialize \n",
    "U = 4\n",
    "V = 0.745356\n",
    "qubits = [3,4]\n",
    "theta_c = -2.50107\n",
    "theta_b = [1.5708, -2.16167, 0]\n"
   ]
  },
  {
   "cell_type": "markdown",
   "metadata": {},
   "source": [
    "**From the paper**, the optimal values of $\\theta$ for the $\\vert00\\rangle$ in Fig.2b are:\n",
    "$$\\theta_0=1.5708 \\\\\n",
    "\\theta_1=-2.16167 \\\\\n",
    "\\theta_2=0$$\n",
    "Want to calculate $\\langle H \\rangle = \\frac{U}{4}\\langle \\sigma^0_z \\sigma^1_z \\rangle + V(\\langle \\sigma^0_x \\rangle + \\langle\\sigma^1_x\\rangle)$.\n"
   ]
  },
  {
   "cell_type": "code",
   "execution_count": 22,
   "metadata": {},
   "outputs": [],
   "source": [
    "q_b = QuantumRegister(2)\n",
    "c_b = ClassicalRegister(2)\n",
    "circuit_b = QuantumCircuit(q_b, c_b)\n",
    "\n",
    "#initialise and measure in Pauli z basis\n",
    "circuit_b.u3(theta_b[0],0,0,q_b[0])\n",
    "circuit_b.u3(theta_b[1],0,0,q_b[1])\n",
    "circuit_b.cx(q_b[0],q_b[1])\n",
    "\n",
    "\"\"\"\n",
    "REMOVE THIS PART FOR OPTIMISED MMT\n",
    "\n",
    "circuit_b.barrier()\n",
    "circuit_b.id(q_b)\n",
    "\"\"\"\n",
    "circuit_b.measure(q_b, c_b)\n",
    "circuit_b.draw(output='mpl')\n",
    "job_bz1= execute(circuit_b, backend=backend, initial_layout=[0,1], shots=8192)"
   ]
  },
  {
   "cell_type": "code",
   "execution_count": 23,
   "metadata": {},
   "outputs": [],
   "source": [
    "#initialise and measure in Pauli X basis\n",
    "q_b = QuantumRegister(2)\n",
    "c_b = ClassicalRegister(2)\n",
    "circuit_b = QuantumCircuit(q_b, c_b)\n",
    "\n",
    "circuit_b.u3(theta_b[0],0,0,q_b[0])\n",
    "circuit_b.u3(theta_b[1],0,0,q_b[1])\n",
    "circuit_b.cx(q_b[0],q_b[1])\n",
    "\n",
    "\"\"\"\n",
    "REMOVE THIS PART FOR OPTIMISED MMT\n",
    "\n",
    "circuit_b.barrier()\n",
    "\"\"\"\n",
    "circuit_b.h(q_b)\n",
    "circuit_b.measure(q_b, c_b)\n",
    "circuit_b.draw(output='mpl')\n",
    "job_bx1= execute(circuit_b, backend=backend, initial_layout=[0,1], shots=8192)"
   ]
  },
  {
   "cell_type": "code",
   "execution_count": 35,
   "metadata": {},
   "outputs": [
    {
     "data": {
      "image/png": "[encoded data removed]",
      "text/plain": [
       "<Figure size 621.264x204.68 with 1 Axes>"
      ]
     },
     "execution_count": 35,
     "metadata": {},
     "output_type": "execute_result"
    }
   ],
   "source": [
    "circuit_b.draw(output='mpl')"
   ]
  },
  {
   "cell_type": "code",
   "execution_count": 24,
   "metadata": {},
   "outputs": [],
   "source": [
    "#initialise and measure in Pauli Z basis\n",
    "q_b = QuantumRegister(2)\n",
    "c_b = ClassicalRegister(2)\n",
    "circuit_b = QuantumCircuit(q_b, c_b)\n",
    "\n",
    "circuit_b.u3(theta_b[0],0,0,q_b[0])\n",
    "circuit_b.u3(theta_b[1],0,0,q_b[1])\n",
    "circuit_b.cx(q_b[0],q_b[1])\n",
    "\n",
    "\"\"\"\n",
    "REMOVE THIS PART FOR OPTIMISED MMT\n",
    "\n",
    "circuit_b.barrier()\n",
    "\"\"\"\n",
    "circuit_b.sdg(q_b)\n",
    "circuit_b.h(q_b)\n",
    "circuit_b.measure(q_b, c_b)\n",
    "circuit_b.draw(output='mpl')\n",
    "job_by1= execute(circuit_b, backend=backend, initial_layout=[0,1], shots=8192)"
   ]
  },
  {
   "cell_type": "code",
   "execution_count": 50,
   "metadata": {
    "scrolled": true
   },
   "outputs": [
    {
     "name": "stdout",
     "output_type": "stream",
     "text": [
      "5ef1c68409d23f0014d6c6f8\n",
      "{'0': 736, '1': 7456}\n",
      "QASM Qobj: deb60acf-a42d-4c1b-8092-4ce28d029a85:\n",
      "Config: {'max_credits': 10,\n",
      " 'memory': False,\n",
      " 'memory_slots': 1,\n",
      " 'n_qubits': 5,\n",
      " 'parameter_binds': [],\n",
      " 'shots': 8192}\n",
      "Header: {'backend_name': 'ibmqx2', 'backend_version': '2.0.6'}\n",
      "Experiments:\n",
      "\n",
      "QASM Experiment:\n",
      "Header:\n",
      "{'clbit_labels': [['c5', 0]],\n",
      " 'creg_sizes': [['c5', 1]],\n",
      " 'memory_slots': 1,\n",
      " 'n_qubits': 5,\n",
      " 'name': 'circuit16',\n",
      " 'qreg_sizes': [['q', 5]],\n",
      " 'qubit_labels': [['q', 0], ['q', 1], ['q', 2], ['q', 3], ['q', 4]]}\n",
      "Config:\n",
      "{'memory_slots': 1, 'n_qubits': 5}\n",
      "\n",
      "\tInstruction: u3\n",
      "\t\tparams: [-2.50107, 0.0, 0.0]\n",
      "\t\tqubits: [0]\n",
      "\n",
      "\tInstruction: barrier\n",
      "\t\tqubits: [0]\n",
      "\n",
      "\tInstruction: id\n",
      "\t\tqubits: [0]\n",
      "\n",
      "\tInstruction: measure\n",
      "\t\tqubits: [0]\n",
      "\t\tmemory: [0]\n",
      "\n",
      "\n"
     ]
    },
    {
     "name": "stderr",
     "output_type": "stream",
     "text": [
      "<ipython-input-50-0f93ad73e369>:5: UserWarning: The time per step date and time information is returned in local time now, rather than UTC.\n",
      "  job_cz.time_per_step()\n"
     ]
    },
    {
     "data": {
      "text/plain": [
       "{'CREATING': datetime.datetime(2020, 6, 23, 10, 8, 20, 136000, tzinfo=tzlocal()),\n",
       " 'CREATED': datetime.datetime(2020, 6, 23, 10, 8, 21, 269000, tzinfo=tzlocal()),\n",
       " 'VALIDATING': datetime.datetime(2020, 6, 23, 10, 8, 21, 290000, tzinfo=tzlocal()),\n",
       " 'VALIDATED': datetime.datetime(2020, 6, 23, 10, 8, 21, 752000, tzinfo=tzlocal()),\n",
       " 'QUEUED': datetime.datetime(2020, 6, 23, 10, 8, 21, 912000, tzinfo=tzlocal()),\n",
       " 'RUNNING': datetime.datetime(2020, 6, 23, 10, 9, 31, 462000, tzinfo=tzlocal()),\n",
       " 'COMPLETED': datetime.datetime(2020, 6, 23, 10, 9, 56, 875000, tzinfo=tzlocal())}"
      ]
     },
     "execution_count": 50,
     "metadata": {},
     "output_type": "execute_result"
    }
   ],
   "source": [
    "print(job_cz.job_id())\n",
    "print(job_cz.result().get_counts())\n",
    "\n",
    "print(job_cz.qobj())\n",
    "job_cz.time_per_step()"
   ]
  },
  {
   "cell_type": "markdown",
   "metadata": {},
   "source": [
    "The optimal value of $\\theta$ for Fig.2c is $\\theta_0=-2.50107$, giving $E_0 = -1.24722$.\n",
    "\n",
    "We want to calculate $\\langle H \\rangle = \\frac{U}{4}\\langle\\sigma_z\\rangle + V\\langle\\sigma_x\\rangle$"
   ]
  },
  {
   "cell_type": "code",
   "execution_count": 25,
   "metadata": {
    "scrolled": true
   },
   "outputs": [],
   "source": [
    "#Pauli Z basis\n",
    "q_c = QuantumRegister(1)\n",
    "c_c = ClassicalRegister(1)\n",
    "circuit_c = QuantumCircuit(q_c,c_c)\n",
    "circuit_c.u3(theta_c,0,0,q_c)\n",
    "\n",
    "\"\"\"\n",
    "Remove this for optimised run\n",
    "\n",
    "circuit_c.barrier()\n",
    "circuit_c.id(q_c)\n",
    "\"\"\"\n",
    "circuit_c.measure(q_c,c_c)\n",
    "circuit_c.draw(output='mpl')\n",
    "job_cz1 = execute(circuit_c, backend=backend, initial_layout=[0], shots=8192)"
   ]
  },
  {
   "cell_type": "code",
   "execution_count": 26,
   "metadata": {},
   "outputs": [],
   "source": [
    "#initialise and measure in Pauli X basis\n",
    "q_c = QuantumRegister(1)\n",
    "c_c = ClassicalRegister(1)\n",
    "circuit_c = QuantumCircuit(q_c,c_c)\n",
    "circuit_c.u3(theta_c,0,0,q_c)\n",
    "\n",
    "\"\"\"\n",
    "Remove this for optimised run\n",
    "\n",
    "circuit_c.barrier()\n",
    "\"\"\"\n",
    "circuit_c.h(q_c)\n",
    "circuit_c.measure(q_c,c_c)\n",
    "circuit_c.draw(output='mpl')\n",
    "job_cx1 = execute(circuit_c, backend=backend, initial_layout=[0], shots=8192)"
   ]
  },
  {
   "cell_type": "code",
   "execution_count": 27,
   "metadata": {},
   "outputs": [],
   "source": [
    "#initialise and measure in Pauli Y basis\n",
    "q_c = QuantumRegister(1)\n",
    "c_c = ClassicalRegister(1)\n",
    "circuit_c = QuantumCircuit(q_c,c_c)\n",
    "circuit_c.u3(theta_c,0,0,q_c)\n",
    "\n",
    "\"\"\"\n",
    "Remove this one for optimised mmt\n",
    "\n",
    "circuit_c.barrier()\n",
    "\"\"\"\n",
    "circuit_c.sdg(q_c)\n",
    "circuit_c.h(q_c)\n",
    "circuit_c.measure(q_c, c_c)\n",
    "circuit_c.draw(output='mpl')\n",
    "job_cy1 = execute(circuit_c, backend=backend, initial_layout=[0], shots=8192)"
   ]
  },
  {
   "cell_type": "code",
   "execution_count": 28,
   "metadata": {},
   "outputs": [
    {
     "data": {
      "text/plain": [
       "<JobStatus.DONE: 'job has successfully run'>"
      ]
     },
     "execution_count": 28,
     "metadata": {},
     "output_type": "execute_result"
    }
   ],
   "source": [
    "job_cx.status()"
   ]
  },
  {
   "cell_type": "code",
   "execution_count": null,
   "metadata": {},
   "outputs": [],
   "source": []
  }
 ],
 "metadata": {
  "kernelspec": {
   "display_name": "Python 3",
   "language": "python",
   "name": "python3"
  },
  "language_info": {
   "codemirror_mode": {
    "name": "ipython",
    "version": 3
   },
   "file_extension": ".py",
   "mimetype": "text/x-python",
   "name": "python",
   "nbconvert_exporter": "python",
   "pygments_lexer": "ipython3",
   "version": "3.8.2"
  }
 },
 "nbformat": 4,
 "nbformat_minor": 4
}
