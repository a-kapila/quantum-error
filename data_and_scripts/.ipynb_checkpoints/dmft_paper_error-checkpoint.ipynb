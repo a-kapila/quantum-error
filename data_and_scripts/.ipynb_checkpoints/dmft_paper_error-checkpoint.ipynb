{
 "cells": [
  {
   "cell_type": "code",
   "execution_count": 1,
   "metadata": {},
   "outputs": [],
   "source": [
    "from qiskit import *\n",
    "import pandas as pd\n",
    "import numpy as np\n",
    "import matplotlib.pyplot as plt\n"
   ]
  },
  {
   "cell_type": "code",
   "execution_count": 2,
   "metadata": {},
   "outputs": [],
   "source": [
    "IBMQ.load_account()\n",
    "provider = IBMQ.get_provider(hub='ibm-q')\n",
    "backend = provider.get_backend('ibmqx2')"
   ]
  },
  {
   "cell_type": "markdown",
   "metadata": {},
   "source": [
    "**From the paper**, the optimal values of $\\theta$ for the $\\vert00\\rangle$ in Fig.2b are:\n",
    "$$\\theta_0=1.5708 \\\\\n",
    "\\theta_1=-2.16167 \\\\\n",
    "\\theta_2=0$$\n",
    "We want to calculate "
   ]
  },
  {
   "cell_type": "code",
   "execution_count": 3,
   "metadata": {},
   "outputs": [],
   "source": [
    "#initialize \n",
    "U = 4\n",
    "V = 0.745356"
   ]
  },
  {
   "cell_type": "code",
   "execution_count": 26,
   "metadata": {},
   "outputs": [],
   "source": [
    "theta_b = [1.5708, -2.16167, 0]\n",
    "q_b = QuantumRegister(4)\n",
    "c_b = ClassicalRegister(4)\n",
    "circuit_b = QuantumCircuit(q_b, c_b)\n",
    "\n",
    "circuit_b.u3(theta_b[0],0,0,[q_b[0],q_b[2]])\n",
    "circuit_b.u3(theta_b[1],0,0,[q_b[1], q_b[3]])\n",
    "circuit_b.cx(q_b[0],q_b[1])\n",
    "circuit_b.cx(q_b[2],q_b[3])\n",
    "circuit_b.u3(theta_b[2],0,0,[q_b[1],q_b[3]])\n",
    "circuit_b.barrier()\n",
    "circuit_b.h([q_b[2],q_b[3]])\n",
    "circuit_b.measure(q_b, c_b)\n",
    "circuit_b.draw(output='mpl')\n",
    "job = execute(circuit_b, backend=backend, shots=8192)\n",
    "\n",
    "results_b = job.result()\n",
    "times_b = job.time_per_step()\n",
    "qobj_b = job.qobj()"
   ]
  },
  {
   "cell_type": "code",
   "execution_count": 13,
   "metadata": {},
   "outputs": [
    {
     "name": "stderr",
     "output_type": "stream",
     "text": [
      "<ipython-input-13-566eef1b4c4c>:13: UserWarning: The time per step date and time information is returned in local time now, rather than UTC.\n",
      "  times = job.time_per_step()\n"
     ]
    }
   ],
   "source": [
    "theta_c = -2.50107\n",
    "q_c = QuantumRegister(2)\n",
    "c_c = ClassicalRegister(2)\n",
    "circuit_c = QuantumCircuit(q_c,c_c)\n",
    "circuit_c.u3(theta_c,0,0,q_c)\n",
    "circuit_c.measure(q_c[0],c_c[0])\n",
    "circuit_c.h(q_c[1]) #rotate axes\n",
    "circuit_c.measure(q_c[1],c_c[1])\n",
    "circuit_c.draw(output='mpl')\n",
    "job = execute(circuit_c, backend=backend, shots=4096)\n",
    "\n",
    "results_c = job.result()\n",
    "times_c = job.time_per_step()\n",
    "qobj_c = job.qobj()"
   ]
  },
  {
   "cell_type": "code",
   "execution_count": null,
   "metadata": {},
   "outputs": [],
   "source": [
    "term1 = (results['0'] - results['1'])/4096\n",
    "\n",
    "term2 = \n",
    "#E = U*term1/4 + V*"
   ]
  },
  {
   "cell_type": "code",
   "execution_count": null,
   "metadata": {},
   "outputs": [],
   "source": []
  }
 ],
 "metadata": {
  "kernelspec": {
   "display_name": "Python 3",
   "language": "python",
   "name": "python3"
  },
  "language_info": {
   "codemirror_mode": {
    "name": "ipython",
    "version": 3
   },
   "file_extension": ".py",
   "mimetype": "text/x-python",
   "name": "python",
   "nbconvert_exporter": "python",
   "pygments_lexer": "ipython3",
   "version": "3.8.2"
  }
 },
 "nbformat": 4,
 "nbformat_minor": 4
}
