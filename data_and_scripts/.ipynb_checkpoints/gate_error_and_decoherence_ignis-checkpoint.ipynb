{
 "cells": [
  {
   "cell_type": "code",
   "execution_count": null,
   "metadata": {},
   "outputs": [],
   "source": [
    "#based on Qiskit Textbook's tutorial\n",
    "from qiskit.tools.jupyter import *\n",
    "from qiskit import *\n",
    "IBMQ.load_account()\n",
    "import numpy as np\n",
    "import pandas as pd\n",
    "import matplotlib.pyplot as plt\n",
    "%matplotlib inline\n",
    "provider = IBMQ.get_provider(hub='ibm-q', group='open', project='main')"
   ]
  },
  {
   "cell_type": "code",
   "execution_count": null,
   "metadata": {},
   "outputs": [],
   "source": [
    "#ONLY ARMONK SUPPORTS OPEN_PULSE\n",
    "backend = provider.get_backend('ibmq_armonk')"
   ]
  },
  {
   "cell_type": "code",
   "execution_count": null,
   "metadata": {},
   "outputs": [],
   "source": [
    "\"\"\"\n",
    "Experiment 1 - measure T1 (characteristic amplitude dampening time)\n",
    "using OpenQASM and IDENTITY GATES to create the delays\n",
    "\"\"\"\n",
    "#get this from Yael's backend properties getter (units of us)\n",
    "gate_time = 0.14222222222\n",
    "\n",
    "\n",
    "# Note that it is possible to measure several qubits in parallel\n",
    "qubits = [0]"
   ]
  },
  {
   "cell_type": "code",
   "execution_count": null,
   "metadata": {},
   "outputs": [],
   "source": [
    "\n",
    "from qiskit.ignis.characterization.coherence import t1_circuits\n",
    "\n",
    "num_of_gates = np.linspace(10, 5000, 50, dtype='int')\n",
    "\n",
    "\n",
    "#INSERT GATE_TIME FROM THE BACKEND CONFIG OBJECT\n",
    "t1_circs, t1_xdata = t1_circuits(num_of_gates, gate_time, qubits)\n",
    "shots = 1024\n",
    "\n",
    "# Let the simulator simulate the following times for qubits 0 and 2:\n",
    "\n",
    "t1_backend_result = qiskit.execute(t1_circs, backend, shots=shots,\n",
    "                                   \n",
    "                                   optimization_level=0).result()"
   ]
  },
  {
   "cell_type": "code",
   "execution_count": null,
   "metadata": {},
   "outputs": [],
   "source": [
    "from qiskit.ignis.characterization.coherence import T1Fitter\n",
    "\n",
    "plt.figure(figsize=(15, 6))\n",
    "\n",
    "#this fits to prob_1(t) = Aexp(-t/T) + B UNITS IN MICRO S\n",
    "t1_fit = T1Fitter(t1_backend_result, t1_xdata, qubits,\n",
    "                  fit_p0=[1, 200, 0],\n",
    "                  fit_bounds=([0, 0, -1], [2, 500, 1]))\n",
    "print(t1_fit.time())\n",
    "print(t1_fit.time_err())\n",
    "print(t1_fit.params)\n",
    "print(t1_fit.params_err)\n",
    "\n",
    "for i in range(1):\n",
    "    ax = plt.subplot(1, 2, i+1)\n",
    "    t1_fit.plot(i, ax=ax)\n",
    "plt.show()\n"
   ]
  },
  {
   "cell_type": "code",
   "execution_count": null,
   "metadata": {},
   "outputs": [],
   "source": [
    "\"\"\"\n",
    "Experiment 2 - measure errors of Pauli gates\n",
    "\"\"\"\n"
   ]
  }
 ],
 "metadata": {
  "kernelspec": {
   "display_name": "Python 3",
   "language": "python",
   "name": "python3"
  },
  "language_info": {
   "codemirror_mode": {
    "name": "ipython",
    "version": 3
   },
   "file_extension": ".py",
   "mimetype": "text/x-python",
   "name": "python",
   "nbconvert_exporter": "python",
   "pygments_lexer": "ipython3",
   "version": "3.8.2"
  }
 },
 "nbformat": 4,
 "nbformat_minor": 4
}
