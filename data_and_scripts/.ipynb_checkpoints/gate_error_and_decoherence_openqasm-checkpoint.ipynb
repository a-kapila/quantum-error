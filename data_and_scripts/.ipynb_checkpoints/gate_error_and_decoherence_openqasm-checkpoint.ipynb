{
 "cells": [
  {
   "cell_type": "code",
   "execution_count": 1,
   "metadata": {},
   "outputs": [],
   "source": [
    "#based on Qiskit Textbook's tutorial\n",
    "from qiskit.tools.jupyter import *\n",
    "from qiskit import *\n",
    "IBMQ.load_account()\n",
    "import numpy as np\n",
    "import pandas as pd\n",
    "import matplotlib.pyplot as plt\n",
    "import datetime\n",
    "%matplotlib inline\n",
    "provider = IBMQ.get_provider(hub='ibm-q', group='open', project='main')"
   ]
  },
  {
   "cell_type": "code",
   "execution_count": 11,
   "metadata": {},
   "outputs": [],
   "source": [
    "#ONLY ARMONK SUPPORTS OPEN_PULSE\n",
    "backend = provider.get_backend('ibmqx2')\n",
    "n = 1e-9\n",
    "u = 1e-6\n",
    "m = 1e-3"
   ]
  },
  {
   "cell_type": "code",
   "execution_count": 12,
   "metadata": {},
   "outputs": [],
   "source": [
    "def get_gate_property(qubits, gate ,property, time = datetime.datetime.now()):\n",
    "    \"\"\"\n",
    "    Gets gate property (one of 'gate_length' or 'gate_error') for a certain\n",
    "    timestamped calibration (default is now)\n",
    "    \"\"\"\n",
    "    for j in qubits:\n",
    "        try:\n",
    "            gate = [i for i in backend.properties(refresh=True, datetime = time).gates if i.gate == gate and j in i.qubits][0]\n",
    "            nduv = [p for p in gate.parameters if p.name==property][0]\n",
    "            if property == 'gate_error':\n",
    "                return (nduv.value)\n",
    "            elif property == 'gate_length':\n",
    "                \n",
    "                #return everything in us (seems to be common currency of Qiskit-Ignis)\n",
    "                if nduv.unit == 'ns':\n",
    "                    return (nduv.value * 1e-3)\n",
    "                elif nduv.unit == 'us':\n",
    "                    return (nduv.value)\n",
    "                elif nduv.unit == 'ms':\n",
    "                    return (nduv.value *1e3)\n",
    "                else:\n",
    "                    print ('Error, unable to parse unit')\n",
    "            else:\n",
    "                pass\n",
    "        except Exception as e:\n",
    "            print ('Error, unable to get property', e)"
   ]
  },
  {
   "cell_type": "code",
   "execution_count": 24,
   "metadata": {},
   "outputs": [
    {
     "data": {
      "text/plain": [
       "0.0"
      ]
     },
     "execution_count": 24,
     "metadata": {},
     "output_type": "execute_result"
    }
   ],
   "source": [
    "get_gate_property([0], 'u1', 'gate_length')"
   ]
  },
  {
   "cell_type": "code",
   "execution_count": 3,
   "metadata": {},
   "outputs": [],
   "source": [
    "\"\"\"\n",
    "Experiment 1 - measure T1 (characteristic amplitude dampening time)\n",
    "using OpenQASM and IDENTITY GATES to create the delays\n",
    "\"\"\"\n",
    "\n",
    "# T1 experiment should only be done 1 qubit at a time.\n",
    "# (Check meas_map)\n",
    "qubits = [3]"
   ]
  },
  {
   "cell_type": "code",
   "execution_count": 13,
   "metadata": {},
   "outputs": [],
   "source": [
    "\n",
    "from qiskit.ignis.characterization.coherence import t1_circuits\n",
    "\n",
    "num_of_gates = np.linspace(10, 5000, 50, dtype='int')\n",
    "\n",
    "\n",
    "#INSERT GATE_TIME FROM THE BACKEND CONFIG OBJECT\n",
    "t1_circs, t1_xdata = t1_circuits(num_of_gates, get_gate_property(qubits, 'id', 'gate_length'), qubits)\n",
    "shots = 4096\n",
    "\n",
    "# Let the simulator simulate the following times for qubits 0 and 2:\n",
    "\n",
    "t1_backend_result = qiskit.execute(t1_circs, backend=backend, shots=shots,\n",
    "                                   \n",
    "                                   optimization_level=0).result()"
   ]
  },
  {
   "cell_type": "code",
   "execution_count": 14,
   "metadata": {},
   "outputs": [
    {
     "name": "stdout",
     "output_type": "stream",
     "text": [
      "[54.13749895206527]\n",
      "[0.625123726033052]\n",
      "{'0': [array([9.22958244e-01, 5.41374990e+01, 2.96945485e-02])]}\n",
      "{'0': [array([0.00344238, 0.62512373, 0.00274618])]}\n"
     ]
    },
    {
     "data": {
      "image/png": "[encoded data removed]",
      "text/plain": [
       "<Figure size 1080x432 with 1 Axes>"
      ]
     },
     "metadata": {
      "needs_background": "light"
     },
     "output_type": "display_data"
    }
   ],
   "source": [
    "from qiskit.ignis.characterization.coherence import T1Fitter\n",
    "\n",
    "plt.figure(figsize=(15, 6))\n",
    "\n",
    "#this fits to prob_1(t) = Aexp(-t/T) + B UNITS IN MICRO S\n",
    "t1_fit = T1Fitter(t1_backend_result, t1_xdata, qubits,\n",
    "                  fit_p0=[1, 100, 0],\n",
    "                  fit_bounds=([0, 0, -1], [2, 500, 1]))\n",
    "print(t1_fit.time())\n",
    "print(t1_fit.time_err())\n",
    "print(t1_fit.params)\n",
    "print(t1_fit.params_err)\n",
    "\n",
    "for i in range(1):\n",
    "    ax = plt.subplot(1, 2, i+1)\n",
    "    t1_fit.plot(i, ax=ax)\n",
    "plt.show()\n"
   ]
  },
  {
   "cell_type": "code",
   "execution_count": 16,
   "metadata": {},
   "outputs": [
    {
     "data": {
      "text/plain": [
       "[[Nduv(datetime.datetime(2020, 6, 22, 8, 22, 8, tzinfo=tzutc()), T1, µs, 59.56170887494117),\n",
       "  Nduv(datetime.datetime(2020, 6, 22, 8, 22, 40, tzinfo=tzutc()), T2, µs, 73.30115722889721),\n",
       "  Nduv(datetime.datetime(2020, 6, 22, 8, 57, 26, tzinfo=tzutc()), frequency, GHz, 5.286391584983048),\n",
       "  Nduv(datetime.datetime(2020, 6, 22, 8, 21, 50, tzinfo=tzutc()), readout_error, , 0.019500000000000073),\n",
       "  Nduv(datetime.datetime(2020, 6, 22, 8, 21, 50, tzinfo=tzutc()), prob_meas0_prep1, , 0.020000000000000018),\n",
       "  Nduv(datetime.datetime(2020, 6, 22, 8, 21, 50, tzinfo=tzutc()), prob_meas1_prep0, , 0.019)],\n",
       " [Nduv(datetime.datetime(2020, 6, 22, 8, 22, 8, tzinfo=tzutc()), T1, µs, 60.00524210088298),\n",
       "  Nduv(datetime.datetime(2020, 6, 22, 8, 23, 27, tzinfo=tzutc()), T2, µs, 63.01685701376054),\n",
       "  Nduv(datetime.datetime(2020, 6, 22, 8, 57, 26, tzinfo=tzutc()), frequency, GHz, 5.238264209543555),\n",
       "  Nduv(datetime.datetime(2020, 6, 22, 8, 21, 50, tzinfo=tzutc()), readout_error, , 0.013500000000000068),\n",
       "  Nduv(datetime.datetime(2020, 6, 22, 8, 21, 50, tzinfo=tzutc()), prob_meas0_prep1, , 0.02100000000000002),\n",
       "  Nduv(datetime.datetime(2020, 6, 22, 8, 21, 50, tzinfo=tzutc()), prob_meas1_prep0, , 0.006)],\n",
       " [Nduv(datetime.datetime(2020, 6, 22, 8, 22, 8, tzinfo=tzutc()), T1, µs, 55.70318038269818),\n",
       "  Nduv(datetime.datetime(2020, 6, 22, 8, 24, 3, tzinfo=tzutc()), T2, µs, 53.56836700748058),\n",
       "  Nduv(datetime.datetime(2020, 6, 22, 8, 57, 26, tzinfo=tzutc()), frequency, GHz, 5.0305008977668795),\n",
       "  Nduv(datetime.datetime(2020, 6, 22, 8, 21, 50, tzinfo=tzutc()), readout_error, , 0.021500000000000075),\n",
       "  Nduv(datetime.datetime(2020, 6, 22, 8, 21, 50, tzinfo=tzutc()), prob_meas0_prep1, , 0.030000000000000027),\n",
       "  Nduv(datetime.datetime(2020, 6, 22, 8, 21, 50, tzinfo=tzutc()), prob_meas1_prep0, , 0.013)],\n",
       " [Nduv(datetime.datetime(2020, 6, 22, 8, 22, 8, tzinfo=tzutc()), T1, µs, 65.73954270883014),\n",
       "  Nduv(datetime.datetime(2020, 6, 22, 8, 22, 40, tzinfo=tzutc()), T2, µs, 49.41169734941752),\n",
       "  Nduv(datetime.datetime(2020, 6, 22, 8, 57, 26, tzinfo=tzutc()), frequency, GHz, 5.295608025163926),\n",
       "  Nduv(datetime.datetime(2020, 6, 22, 8, 21, 50, tzinfo=tzutc()), readout_error, , 0.02950000000000008),\n",
       "  Nduv(datetime.datetime(2020, 6, 22, 8, 21, 50, tzinfo=tzutc()), prob_meas0_prep1, , 0.03300000000000003),\n",
       "  Nduv(datetime.datetime(2020, 6, 22, 8, 21, 50, tzinfo=tzutc()), prob_meas1_prep0, , 0.026)],\n",
       " [Nduv(datetime.datetime(2020, 6, 22, 8, 22, 8, tzinfo=tzutc()), T1, µs, 62.32714969521209),\n",
       "  Nduv(datetime.datetime(2020, 6, 22, 8, 23, 27, tzinfo=tzutc()), T2, µs, 70.36439071951645),\n",
       "  Nduv(datetime.datetime(2020, 6, 22, 8, 57, 26, tzinfo=tzutc()), frequency, GHz, 5.084384757994581),\n",
       "  Nduv(datetime.datetime(2020, 6, 22, 8, 21, 50, tzinfo=tzutc()), readout_error, , 0.02200000000000002),\n",
       "  Nduv(datetime.datetime(2020, 6, 22, 8, 21, 50, tzinfo=tzutc()), prob_meas0_prep1, , 0.038000000000000034),\n",
       "  Nduv(datetime.datetime(2020, 6, 22, 8, 21, 50, tzinfo=tzutc()), prob_meas1_prep0, , 0.006)]]"
      ]
     },
     "execution_count": 16,
     "metadata": {},
     "output_type": "execute_result"
    }
   ],
   "source": [
    "backend.properties(refresh=True).qubits"
   ]
  },
  {
   "cell_type": "code",
   "execution_count": null,
   "metadata": {},
   "outputs": [],
   "source": [
    "\"\"\"\n",
    "Experiment 2 - measure errors of Pauli gates\n",
    "\"\"\"\n"
   ]
  }
 ],
 "metadata": {
  "kernelspec": {
   "display_name": "Python 3",
   "language": "python",
   "name": "python3"
  },
  "language_info": {
   "codemirror_mode": {
    "name": "ipython",
    "version": 3
   },
   "file_extension": ".py",
   "mimetype": "text/x-python",
   "name": "python",
   "nbconvert_exporter": "python",
   "pygments_lexer": "ipython3",
   "version": "3.8.2"
  }
 },
 "nbformat": 4,
 "nbformat_minor": 4
}
