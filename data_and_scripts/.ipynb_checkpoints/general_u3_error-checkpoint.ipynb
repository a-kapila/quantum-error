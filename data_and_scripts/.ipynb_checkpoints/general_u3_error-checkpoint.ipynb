{
 "cells": [
  {
   "cell_type": "code",
   "execution_count": 3,
   "metadata": {},
   "outputs": [
    {
     "name": "stderr",
     "output_type": "stream",
     "text": [
      "ibmqfactory.load_account:WARNING:2020-07-21 17:33:47,284: Credentials are already in use. The existing account in the session will be replaced.\n"
     ]
    }
   ],
   "source": [
    "from qiskit import *\n",
    "import pandas as pd\n",
    "import numpy as np\n",
    "import matplotlib.pyplot as plt\n",
    "import datetime\n",
    "IBMQ.load_account()\n",
    "provider = IBMQ.get_provider(hub='ibm-q')\n",
    "from qiskit.ignis.characterization.gates import *\n",
    "from qiskit.providers.aer.noise.errors.standard_errors import coherent_unitary_error\n",
    "from qiskit.providers.aer.noise import NoiseModel\n",
    "backend = provider.get_backend('ibmq_burlington')\n",
    "k=100"
   ]
  },
  {
   "cell_type": "code",
   "execution_count": 2,
   "metadata": {},
   "outputs": [],
   "source": [
    "def ampcal_circuits(max_reps, qubits, th, phi, lam):\n",
    "\n",
    "    #change this as required to *2\n",
    "    xdata = np.arange(max_reps)*1\n",
    "\n",
    "    qr = qiskit.QuantumRegister(max(qubits)+1)\n",
    "    cr = qiskit.ClassicalRegister(len(qubits))\n",
    "    circuits = []\n",
    "    for circ_index, circ_length in enumerate(xdata):\n",
    "        circ = qiskit.QuantumCircuit(qr, cr)\n",
    "        circ.name = 'ampcal1Qcircuit_' + str(circ_index) + '_0'\n",
    "        for qind, qubit in enumerate(qubits):\n",
    "            #circ.u2(-np.pi/2, np.pi/2, qr[qubit])\n",
    "            for _ in range(circ_length):\n",
    "                circ.barrier(qr[qubit])\n",
    "                circ.u3(th, phi, lam, qr[qubit])\n",
    "\n",
    "        for qind, qubit in enumerate(qubits):\n",
    "            circ.measure(qr[qubit], cr[qind])\n",
    "        circuits.append(circ)\n",
    "\n",
    "    return circuits, xdata"
   ]
  },
  {
   "cell_type": "code",
   "execution_count": 5,
   "metadata": {},
   "outputs": [],
   "source": [
    "max_reps = 150\n",
    "qubits = [0]\n",
    "circs_x, xdata = ampcal_circuits(max_reps, qubits, np.pi, 0, np.pi)\n",
    "circs_r, xdata = ampcal_circuits(max_reps, qubits, np.pi, -1*np.pi/2, np.pi/2)"
   ]
  },
  {
   "cell_type": "code",
   "execution_count": null,
   "metadata": {},
   "outputs": [],
   "source": [
    "job_x1 = qiskit.execute(circs_x[:75],backend=backend,shots=8192)\n",
    "job_x2 = qiskit.execute(circs_x[75:],backend=backend,shots=8192)\n",
    "job_r1 = qiskit.execute(circs_r[:75],backend=backend,shots=8192)\n",
    "job_r2 = qiskit.execute(circs_r[75:],backend=backend,shots=8192)"
   ]
  },
  {
   "cell_type": "code",
   "execution_count": null,
   "metadata": {},
   "outputs": [],
   "source": [
    "job_x = [*backend.jobs(limit = k, job_name='sigma_x_1')[0].result().get_counts(),\n",
    "         *backend.jobs(limit = k, job_name='sigma_x_2')[0].result().get_counts()]\n",
    "job_r = [*backend.jobs(limit = k, job_name='x_pi_1')[0].result().get_counts(),\n",
    "         *backend.jobs(limit = k, job_name='x_pi_2')[0].result().get_counts()]\n",
    "job_x = list(map(lambda x: x['1']/8192, job_x))\n",
    "job_r = list(map(lambda x: x['1']/8192, job_r))"
   ]
  },
  {
   "cell_type": "code",
   "execution_count": null,
   "metadata": {},
   "outputs": [],
   "source": [
    "job_ampcal = [*backend.jobs(limit = k, job_name='ampcal_1')[0].result().get_counts(),\n",
    "             *backend.jobs(limit = k, job_name='ampcal_2')[0].result().get_counts(),\n",
    "             *backend.jobs(limit = k, job_name='ampcal_3')[0].result().get_counts(),\n",
    "             *backend.jobs(limit = k, job_name='ampcal_4')[0].result().get_counts()]\n",
    "job_ampcal = list(map(lambda x: x['1']/8192, job_ampcal))"
   ]
  },
  {
   "cell_type": "code",
   "execution_count": null,
   "metadata": {},
   "outputs": [],
   "source": [
    "from scipy.optimize import curve_fit\n",
    "\n",
    "def f(x, A, B): # this is your 'straight line' y=f(x)\n",
    "    return A*x + B\n",
    "x = xdata[::2]\n",
    "y = job_r[::2]\n",
    "popt, pcov = curve_fit(f, x,y) # your data x, y to fit\n",
    "\n",
    "residuals = y- f(x, *popt)\n",
    "ss_res = np.sum(residuals**2)\n",
    "ss_tot = np.sum((y-np.mean(y))**2)\n",
    "r_squared = 1 - (ss_res / ss_tot)\n"
   ]
  },
  {
   "cell_type": "code",
   "execution_count": null,
   "metadata": {},
   "outputs": [],
   "source": [
    "backend.jobs(limit = k, job_name='ampcal_1')[0].qobj().experiments[0].instructions"
   ]
  },
  {
   "cell_type": "code",
   "execution_count": null,
   "metadata": {
    "scrolled": true
   },
   "outputs": [],
   "source": [
    "fig, ax = plt.subplots()\n",
    "plt.scatter(xdata, job_x, color='g', label='sigma_x')\n",
    "plt.scatter(xdata, job_r, color='b', label = 'rx_pi')\n",
    "plt.scatter(list(map(lambda x:x+1,xdata))[:-1],job_ampcal[1:-1:2], color='r', label='ampcal')\n",
    "plt.title('ibmq_burlington')\n",
    "plt.legend()\n",
    "plt.show()"
   ]
  },
  {
   "cell_type": "code",
   "execution_count": 6,
   "metadata": {},
   "outputs": [],
   "source": [
    "# Set the simulator\n",
    "# Add a rotation error\n",
    "max_reps_sim = 1200\n",
    "angle_err = 0.01\n",
    "\n",
    "err_unitary = np.zeros([2,2],dtype=complex)\n",
    "\n",
    "for i in range(2):\n",
    "    err_unitary[i,i] = np.cos(angle_err)\n",
    "    err_unitary[i,(i+1) % 2] = np.sin(angle_err)\n",
    "err_unitary[0,1] *= -1.0\n",
    "\n",
    "error = coherent_unitary_error(err_unitary)\n",
    "noise_model = NoiseModel()\n",
    "noise_model.add_all_qubit_quantum_error(error, 'u2')\n",
    "circs, xdata = ampcal_1Q_circuits(max_reps_sim, qubits)\n",
    "backend = qiskit.Aer.get_backend('qasm_simulator')"
   ]
  },
  {
   "cell_type": "code",
   "execution_count": 7,
   "metadata": {},
   "outputs": [],
   "source": [
    "shots = 8192\n",
    "circ_batch = [circs[75*i:75*(i+1)] for i in range(int(max_reps_sim/75))]\n",
    "backend_result=[]\n",
    "for i in circ_batch:\n",
    "    backend_result.append(qiskit.execute(i, backend=backend, shots=shots).result())"
   ]
  },
  {
   "cell_type": "code",
   "execution_count": 8,
   "metadata": {},
   "outputs": [
    {
     "data": {
      "text/plain": [
       "<matplotlib.collections.PathCollection at 0x14af3f8e160>"
      ]
     },
     "execution_count": 8,
     "metadata": {},
     "output_type": "execute_result"
    },
    {
     "data": {
      "image/png": "[encoded data removed]",
      "text/plain": [
       "<Figure size 432x288 with 1 Axes>"
      ]
     },
     "metadata": {
      "needs_background": "light"
     },
     "output_type": "display_data"
    }
   ],
   "source": [
    "total_results = [item for sublist in map(lambda x: x.get_counts(), backend_result) for item in sublist]\n",
    "prob1 = []\n",
    "for i in total_results:\n",
    "    try:\n",
    "        prob1.append(i['1']/8192)\n",
    "    except:\n",
    "        prob1.append(0)\n",
    "fft = np.fft.fft(prob1)\n",
    "#plt.scatter(np.fft.fftfreq(len(fft)), list(map(np.abs, fft)))\n",
    "plt.scatter(xdata, prob1)"
   ]
  },
  {
   "cell_type": "code",
   "execution_count": null,
   "metadata": {},
   "outputs": [],
   "source": [
    "dict(zip(np.fft.fftfreq(len(fft)), list(map(np.abs, fft))))"
   ]
  },
  {
   "cell_type": "code",
   "execution_count": null,
   "metadata": {},
   "outputs": [],
   "source": [
    "%matplotlib inline\n",
    "# Fit the data to an oscillation\n",
    "\n",
    "plt.figure(figsize=(15, 9))\n",
    "initial_theta = 0.02\n",
    "initial_c = 0.5\n",
    "initial_phi = 0.1\n",
    "\n",
    "\n",
    "fit = AmpCalFitter(backend_result1, xdata, qubits,\n",
    "                   fit_p0=[initial_theta, initial_c],\n",
    "                   fit_bounds=([-np.pi, -1],\n",
    "                               [np.pi, 1]))\n",
    "\n",
    "fit.plot(0, ax=plt.gca())\n",
    "\n",
    "#plot analytic function\n",
    "\n",
    "print(\"Rotation Error on U2: %f rads\"%(fit.angle_err()[0]))\n",
    "plt.show()"
   ]
  },
  {
   "cell_type": "code",
   "execution_count": null,
   "metadata": {},
   "outputs": [],
   "source": [
    "circs, xdata = anglecal_1Q_circuits(20, qubits, angleerr=0.05)\n",
    "# Set the simulator\n",
    "# Run the simulator\n",
    "backend = qiskit.Aer.get_backend('qasm_simulator')\n",
    "shots = 8192\n",
    "backend_result2 = qiskit.execute(circs, backend, shots=shots).result()"
   ]
  },
  {
   "cell_type": "code",
   "execution_count": null,
   "metadata": {},
   "outputs": [],
   "source": [
    "# Fit the data to an oscillation\n",
    "\n",
    "plt.figure(figsize=(10, 6))\n",
    "initial_theta = 0.02\n",
    "initial_c = 0.5\n",
    "initial_phi = 0.01\n",
    "\n",
    "\n",
    "fit = AngleCalFitter(backend_result2, xdata, qubits,\n",
    "                   fit_p0=[initial_theta, initial_c],\n",
    "                   fit_bounds=([-np.pi, -1],\n",
    "                               [np.pi, 1]))\n",
    "\n",
    "fit.plot(0, ax=plt.gca())\n",
    "print (\"Angle error between X and Y: \" + str(fit.angle_err()[0]))\n",
    "\n",
    "plt.show()\n"
   ]
  },
  {
   "cell_type": "code",
   "execution_count": null,
   "metadata": {},
   "outputs": [],
   "source": [
    "\n",
    "from qiskit.circuit.library import RZGate, RXGate, U3Gate, U2Gate\n",
    "phi = 0.2\n",
    "lam = 0.3\n",
    "\n",
    "u2 = quantum_info.Operator(U2Gate(phi, lam))\n",
    "\n",
    "from qiskit.quantum_info.synthesis import OneQubitEulerDecomposer\n",
    "print(OneQubitEulerDecomposer('U1X')(u2))"
   ]
  },
  {
   "cell_type": "code",
   "execution_count": null,
   "metadata": {},
   "outputs": [],
   "source": []
  }
 ],
 "metadata": {
  "kernelspec": {
   "display_name": "Python 3",
   "language": "python",
   "name": "python3"
  },
  "language_info": {
   "codemirror_mode": {
    "name": "ipython",
    "version": 3
   },
   "file_extension": ".py",
   "mimetype": "text/x-python",
   "name": "python",
   "nbconvert_exporter": "python",
   "pygments_lexer": "ipython3",
   "version": "3.8.2"
  }
 },
 "nbformat": 4,
 "nbformat_minor": 2
}
