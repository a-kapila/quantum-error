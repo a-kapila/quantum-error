{
 "cells": [
  {
   "cell_type": "code",
   "execution_count": 1,
   "metadata": {},
   "outputs": [
    {
     "name": "stderr",
     "output_type": "stream",
     "text": [
      "C:\\Users\\Annanay\\Anaconda3\\envs\\project\\lib\\site-packages\\qiskit\\providers\\ibmq\\ibmqfactory.py:192: UserWarning: Timestamps in IBMQ backend properties, jobs, and job results are all now in local time instead of UTC.\n",
      "  warnings.warn('Timestamps in IBMQ backend properties, jobs, and job results '\n"
     ]
    }
   ],
   "source": [
    "from qiskit import *\n",
    "import pandas as pd\n",
    "import numpy as np\n",
    "import matplotlib.pyplot as plt\n",
    "import datetime\n",
    "IBMQ.load_account()\n",
    "provider = IBMQ.get_provider(hub='ibm-q')\n",
    "from qiskit.ignis.characterization.gates import *\n",
    "from qiskit.providers.aer.noise.errors.standard_errors import coherent_unitary_error\n",
    "from qiskit.providers.aer.noise import NoiseModel\n"
   ]
  },
  {
   "cell_type": "markdown",
   "metadata": {},
   "source": [
    "https://qiskit.org/documentation/stubs/qiskit.qobj.PulseQobjInstruction.html?highlight=pulseqobjinstruction#qiskit.qobj.PulseQobjInstruction"
   ]
  },
  {
   "cell_type": "code",
   "execution_count": 2,
   "metadata": {},
   "outputs": [],
   "source": [
    "def ampcal_circuits(max_reps, qubits, th, phi, lam):\n",
    "\n",
    "    #change this as required to *2\n",
    "    xdata = np.arange(max_reps)*1\n",
    "\n",
    "    qr = qiskit.QuantumRegister(max(qubits)+1)\n",
    "    cr = qiskit.ClassicalRegister(len(qubits))\n",
    "    circuits = []\n",
    "    for circ_index, circ_length in enumerate(xdata):\n",
    "        circ = qiskit.QuantumCircuit(qr, cr)\n",
    "        circ.name = 'ampcal1Qcircuit_' + str(circ_index) + '_0'\n",
    "        for qind, qubit in enumerate(qubits):\n",
    "            #circ.u2(-np.pi/2, np.pi/2, qr[qubit])\n",
    "            for _ in range(circ_length):\n",
    "                circ.barrier(qr[qubit])\n",
    "                circ.u3(th, phi, lam, qr[qubit])\n",
    "\n",
    "        for qind, qubit in enumerate(qubits):\n",
    "            circ.measure(qr[qubit], cr[qind])\n",
    "        circuits.append(circ)\n",
    "\n",
    "    return circuits, xdata"
   ]
  },
  {
   "cell_type": "code",
   "execution_count": 3,
   "metadata": {},
   "outputs": [],
   "source": [
    "def ampcal_u2_circuits(max_reps, qubits, phi, lam):\n",
    "\n",
    "    #change this as required to *2\n",
    "    xdata = np.arange(max_reps)*1\n",
    "\n",
    "    qr = qiskit.QuantumRegister(max(qubits)+1)\n",
    "    cr = qiskit.ClassicalRegister(len(qubits))\n",
    "    circuits = []\n",
    "    for circ_index, circ_length in enumerate(xdata):\n",
    "        circ = qiskit.QuantumCircuit(qr, cr)\n",
    "        circ.name = 'ampcal1Qcircuit_' + str(circ_index) + '_0'\n",
    "        for qind, qubit in enumerate(qubits):\n",
    "            #circ.u2(-np.pi/2, np.pi/2, qr[qubit])\n",
    "            for _ in range(circ_length):\n",
    "                circ.barrier(qr[qubit])\n",
    "                circ.u2(phi,lam, qr[qubit])\n",
    "\n",
    "        for qind, qubit in enumerate(qubits):\n",
    "            circ.measure(qr[qubit], cr[qind])\n",
    "        circuits.append(circ)\n",
    "\n",
    "    return circuits, xdata"
   ]
  },
  {
   "cell_type": "code",
   "execution_count": 4,
   "metadata": {},
   "outputs": [],
   "source": [
    "max_reps = 300\n",
    "qubits = [0]\n",
    "circs_x, xdata = ampcal_circuits(max_reps, qubits, np.pi, 0, np.pi)\n",
    "circs_r180, xdata = ampcal_circuits(max_reps, qubits, np.pi, -1*np.pi/2, np.pi/2)\n",
    "circs_r360, xdata = ampcal_circuits(max_reps, qubits, 6.283185307179585, -1*np.pi/2, np.pi/2)"
   ]
  },
  {
   "cell_type": "code",
   "execution_count": 5,
   "metadata": {},
   "outputs": [],
   "source": [
    "circs_x90, xdata = ampcal_u2_circuits(max_reps, qubits, -np.pi/2, np.pi/2)\n",
    "circs_y90, xdata = ampcal_u2_circuits(max_reps, qubits, 0, 0)"
   ]
  },
  {
   "cell_type": "code",
   "execution_count": 6,
   "metadata": {},
   "outputs": [],
   "source": [
    "backends = ['ibmqx2', 'ibmq_ourense', 'ibmq_valencia', 'ibmq_16_melbourne', 'ibmq_vigo']\n",
    "backends = list(map(lambda x: provider.get_backend(x), backends))"
   ]
  },
  {
   "cell_type": "code",
   "execution_count": 7,
   "metadata": {},
   "outputs": [],
   "source": [
    "#executing in this way ensures we max out the queues and don't\n",
    "#get anything cancelled!\n",
    "job = {i: [qiskit.execute(circs_x[75*j:75*(j+1)],backend=i,shots=8192, initial_layout=[0]) for j in range(4)] for i in backends}\n",
    "result_x = {i: list(map(lambda x: x.result().get_counts(), job[i])) for i in backends}"
   ]
  },
  {
   "cell_type": "code",
   "execution_count": null,
   "metadata": {},
   "outputs": [],
   "source": [
    "job = {i: [qiskit.execute(circs_r360[75*j:75*(j+1)],backend=i,shots=8192, initial_layout=[0]) for j in range(4)] for i in backends}\n",
    "result_r360 = {i: list(map(lambda x: x.result().get_counts(), job[i])) for i in backends}\n",
    "job = {i: [qiskit.execute(circs_r180[75*j:75*(j+1)],backend=i,shots=8192, initial_layout=[0]) for j in range(4)] for i in backends}\n",
    "result_r180 = {i: list(map(lambda x: x.result().get_counts(), job[i])) for i in backends}\n",
    "job = {i: [qiskit.execute(circs_x90[75*j:75*(j+1)],backend=i,shots=8192, initial_layout=[0]) for j in range(4)] for i in backends}\n",
    "result_x90 = {i: list(map(lambda x: x.result().get_counts(), job[i])) for i in backends}\n",
    "job = {i: [qiskit.execute(circs_y90[75*j:75*(j+1)],backend=i,shots=8192, initial_layout=[0]) for j in range(4)] for i in backends}\n",
    "result_y90 = {i: list(map(lambda x: x.result().get_counts(), job[i])) for i in backends}"
   ]
  },
  {
   "cell_type": "code",
   "execution_count": null,
   "metadata": {},
   "outputs": [],
   "source": [
    "result_r360 = dict(zip(list(map(lambda x: x.name(), result_r360.keys())), result_r360.values()))\n",
    "result_r180 = dict(zip(list(map(lambda x: x.name(), result_r180.keys())), result_r180.values()))\n",
    "result_x = dict(zip(list(map(lambda x: x.name(), result_x.keys())), result_x.values()))\n",
    "result_x90 = dict(zip(list(map(lambda x: x.name(), result_x90.keys())), result_x90.values()))\n",
    "result_y90 = dict(zip(list(map(lambda x: x.name(), result_y90.keys())), result_y90.values()))"
   ]
  },
  {
   "cell_type": "code",
   "execution_count": null,
   "metadata": {},
   "outputs": [],
   "source": [
    "from functools import reduce\n",
    "for i in result_r360.keys():\n",
    "    result_r360[i] = reduce(lambda x,y: x+y,result_r360[i])\n",
    "    result_r180[i] = reduce(lambda x,y: x+y,result_r180[i])\n",
    "    result_x90[i] = reduce(lambda x,y: x+y,result_x90[i])\n",
    "    result_y90[i] = reduce(lambda x,y: x+y,result_y90[i])\n",
    "    result_x[i] = reduce(lambda x,y: x+y,result_x[i])"
   ]
  },
  {
   "cell_type": "code",
   "execution_count": null,
   "metadata": {},
   "outputs": [],
   "source": [
    "for i in result_r360.keys():\n",
    "    result_r360[i] = list(map(lambda x: x['0'],result_r360[i]))\n",
    "    result_r180[i] = list(map(lambda x: x['0'],result_r180[i]))\n",
    "    result_x90[i] = list(map(lambda x: x['0'],result_x90[i]))\n",
    "    result_y90[i] = list(map(lambda x: x['0'],result_y90[i]))\n",
    "    result_x[i] = list(map(lambda x: x['0'],result_x[i]))"
   ]
  },
  {
   "cell_type": "code",
   "execution_count": null,
   "metadata": {},
   "outputs": [],
   "source": [
    "pd.DataFrame(result_r360).to_csv('result_r360.csv')\n",
    "pd.DataFrame(result_r180).to_csv('result_r180.csv')\n",
    "pd.DataFrame(result_x90).to_csv('result_x90.csv')\n",
    "pd.DataFrame(result_y90).to_csv('result_y90.csv')\n",
    "pd.DataFrame(result_x).to_csv('result_x.csv')"
   ]
  },
  {
   "cell_type": "code",
   "execution_count": null,
   "metadata": {},
   "outputs": [],
   "source": [
    "#Only run this cell for retrieving jobs.\n",
    "k=20\n",
    "job_x = [*backend.jobs(limit = k, job_name='sigma_x_1')[0].result().get_counts(),\n",
    "         *backend.jobs(limit = k, job_name='sigma_x_2')[0].result().get_counts()]\n",
    "job_r = [*backend.jobs(limit = k, job_name='x_180_1')[0].result().get_counts(),\n",
    "         *backend.jobs(limit = k, job_name='x_180_2')[0].result().get_counts()]\n",
    "job_ry90 = [*backend.jobs(limit = k, job_name='y_90_1')[0].result().get_counts(),\n",
    "            *backend.jobs(limit = k, job_name='y_90_2')[0].result().get_counts()]\n",
    "job_rx90 = [*backend.jobs(limit = k, job_name='x_90_1')[0].result().get_counts(),\n",
    "            *backend.jobs(limit = k, job_name='x_90_2')[0].result().get_counts()]\n",
    "#Only for 4 job \n",
    "job_ampcal = [*backend.jobs(limit = k, job_name='ampcal_1')[0].result().get_counts(),\n",
    "             *backend.jobs(limit = k, job_name='ampcal_2')[0].result().get_counts(),\n",
    "             *backend.jobs(limit = k, job_name='ampcal_3')[0].result().get_counts(),\n",
    "             *backend.jobs(limit = k, job_name='ampcal_4')[0].result().get_counts()]\n",
    "job_ampcal = list(map(lambda x: x['1']/8192, job_ampcal))\n",
    "job_x = list(map(lambda x: x['1']/8192, job_x))\n",
    "job_r = list(map(lambda x: x['1']/8192, job_r))\n",
    "job_rx90 = list(map(lambda x: x['1']/8192, job_rx90))\n",
    "job_ry90 = list(map(lambda x: x['1']/8192, job_ry90))"
   ]
  },
  {
   "cell_type": "code",
   "execution_count": null,
   "metadata": {},
   "outputs": [],
   "source": [
    "from scipy.optimize import curve_fit\n",
    "\n",
    "def f(x, A, B): # this is your 'straight line' y=f(x)\n",
    "    return A*x + B\n",
    "x = xdata[::2]\n",
    "y = job_r[::2]\n",
    "popt, pcov = curve_fit(f, x,y) # your data x, y to fit\n",
    "\n",
    "residuals = y- f(x, *popt)\n",
    "ss_res = np.sum(residuals**2)\n",
    "ss_tot = np.sum((y-np.mean(y))**2)\n",
    "r_squared = 1 - (ss_res / ss_tot)\n"
   ]
  },
  {
   "cell_type": "code",
   "execution_count": null,
   "metadata": {
    "scrolled": true
   },
   "outputs": [],
   "source": [
    "fig, ax = plt.subplots()\n",
    "plt.scatter(xdata, job_x, color='g', label='sigma_x')\n",
    "plt.scatter(xdata, job_r, color='b', label = 'rxpi')\n",
    "plt.scatter(xdata[:75],job_rx90[::2], color='r', label='rx90')\n",
    "plt.scatter(xdata[:75],job_ry90[::2], color='k', label='ry90')\n",
    "plt.title('ibmq_armonk')\n",
    "plt.legend()\n",
    "plt.show()"
   ]
  },
  {
   "cell_type": "code",
   "execution_count": null,
   "metadata": {},
   "outputs": [],
   "source": [
    "fig, ax = plt.subplots()\n",
    "plt.scatter(xdata, job_x, color='g', label='sigma_x')\n",
    "plt.scatter(xdata, job_r, color='b', label = 'rxpi')\n",
    "plt.scatter(xdata[:75],job_rx90[1::2], color='r', label='rx90')\n",
    "plt.scatter(xdata[:75],job_ry90[1::2], color='k', label='ry90')\n",
    "plt.title('ibmq_armonk starting at 1')\n",
    "plt.legend()\n",
    "plt.show()"
   ]
  },
  {
   "cell_type": "code",
   "execution_count": null,
   "metadata": {},
   "outputs": [],
   "source": [
    "dict(zip(np.fft.fftfreq(len(fft)), list(map(np.abs, fft))))"
   ]
  },
  {
   "cell_type": "code",
   "execution_count": null,
   "metadata": {},
   "outputs": [],
   "source": [
    "%matplotlib inline\n",
    "# Fit the data to an oscillation\n",
    "\n",
    "plt.figure(figsize=(15, 9))\n",
    "initial_theta = 0.02\n",
    "initial_c = 0.5\n",
    "initial_phi = 0.1\n",
    "\n",
    "\n",
    "fit = AmpCalFitter(backend_result, xdata, qubits,\n",
    "                   fit_p0=[initial_theta, initial_c],\n",
    "                   fit_bounds=([-np.pi, -1],\n",
    "                               [np.pi, 1]))\n",
    "\n",
    "fit.plot(0, ax=plt.gca())\n",
    "\n",
    "#plot analytic function\n",
    "\n",
    "print(\"Rotation Error on U2: %f rads\"%(fit.angle_err()[0]))\n",
    "plt.show()"
   ]
  },
  {
   "cell_type": "code",
   "execution_count": null,
   "metadata": {},
   "outputs": [],
   "source": [
    "backend = provider.get_backend('ibmqx2')"
   ]
  },
  {
   "cell_type": "code",
   "execution_count": null,
   "metadata": {},
   "outputs": [],
   "source": [
    "circ = [0]*75\n",
    "for i in range(75):\n",
    "    circ[i] = QuantumCircuit(2,2)\n",
    "    circ[i].x(0)\n",
    "    for n in range(i):\n",
    "        circ[i].cx(0,1)\n",
    "    circ[i].measure([0,1],[0,1])\n",
    "\n",
    "shots = 8192\n",
    "backend_result2 = qiskit.execute(circ, backend, shots=shots).result()"
   ]
  },
  {
   "cell_type": "code",
   "execution_count": null,
   "metadata": {},
   "outputs": [],
   "source": [
    "circ[0].draw(output='mpl')"
   ]
  },
  {
   "cell_type": "code",
   "execution_count": null,
   "metadata": {},
   "outputs": [],
   "source": []
  },
  {
   "cell_type": "code",
   "execution_count": null,
   "metadata": {},
   "outputs": [],
   "source": [
    "res = backend_result2.get_counts()\n",
    "content = {'both 0': [i['00'] for i in res], 'control 1, other 0': [i['01'] for i in res],'control 0, other 1': [i['10'] for i in res],'both 1': [i['11'] for i in res]}\n",
    "pd.DataFrame(content).to_csv('ibmqx2_cx.csv')"
   ]
  },
  {
   "cell_type": "code",
   "execution_count": null,
   "metadata": {},
   "outputs": [],
   "source": [
    "# Fit the data to an oscillation\n",
    "\n",
    "plt.figure(figsize=(10, 6))\n",
    "initial_theta = 0.02\n",
    "initial_c = 0.5\n",
    "initial_phi = 0.01\n",
    "\n",
    "\n",
    "fit = AmpcalCalFitter(backend_result2, xdata, qubits,\n",
    "                   fit_p0=[initial_theta, initial_c],\n",
    "                   fit_bounds=([-np.pi, -1],\n",
    "                               [np.pi, 1]))\n",
    "\n",
    "fit.plot(0, ax=plt.gca())\n",
    "print (\"Angle error between X and Y: \" + str(fit.angle_err()[0]))\n",
    "\n",
    "plt.show()\n"
   ]
  }
 ],
 "metadata": {
  "kernelspec": {
   "display_name": "Python 3",
   "language": "python",
   "name": "python3"
  },
  "language_info": {
   "codemirror_mode": {
    "name": "ipython",
    "version": 3
   },
   "file_extension": ".py",
   "mimetype": "text/x-python",
   "name": "python",
   "nbconvert_exporter": "python",
   "pygments_lexer": "ipython3",
   "version": "3.8.2"
  }
 },
 "nbformat": 4,
 "nbformat_minor": 2
}
