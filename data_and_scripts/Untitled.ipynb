{
 "cells": [
  {
   "cell_type": "code",
   "execution_count": 1,
   "metadata": {},
   "outputs": [],
   "source": [
    "from qiskit import *\n",
    "import pandas as pd\n",
    "import numpy as np\n",
    "import matplotlib.pyplot as plt\n",
    "import datetime\n",
    "IBMQ.load_account()\n",
    "provider = IBMQ.get_provider(hub='ibm-q')\n",
    "backend = provider.get_backend('ibmq_armonk')"
   ]
  },
  {
   "cell_type": "code",
   "execution_count": 2,
   "metadata": {},
   "outputs": [
    {
     "data": {
      "text/plain": [
       "[namespace(name='id',\n",
       "           qubits=[0],\n",
       "           sequence=[PulseQobjInstruction(name='QId_d0', t0=0, ch=\"d0\")]),\n",
       " namespace(name='measure',\n",
       "           qubits=[0],\n",
       "           sequence=[PulseQobjInstruction(name='M_m0', t0=0, ch=\"m0\"),\n",
       "                     PulseQobjInstruction(name='acquire', t0=0, duration=16000, qubits=[0], memory_slot=[0])]),\n",
       " namespace(name='u1',\n",
       "           qubits=[0],\n",
       "           sequence=[PulseQobjInstruction(name='fc', t0=0, ch=\"d0\", phase=\"-(P0)\")]),\n",
       " namespace(name='u2',\n",
       "           qubits=[0],\n",
       "           sequence=[PulseQobjInstruction(name='fc', t0=0, ch=\"d0\", phase=\"-(P1)\"),\n",
       "                     PulseQobjInstruction(name='Y90p_d0', t0=0, ch=\"d0\"),\n",
       "                     PulseQobjInstruction(name='fc', t0=640, ch=\"d0\", phase=\"-(P0)\")]),\n",
       " namespace(name='u3',\n",
       "           qubits=[0],\n",
       "           sequence=[PulseQobjInstruction(name='fc', t0=0, ch=\"d0\", phase=\"-(P2)\"),\n",
       "                     PulseQobjInstruction(name='X90p_d0', t0=0, ch=\"d0\"),\n",
       "                     PulseQobjInstruction(name='fc', t0=640, ch=\"d0\", phase=\"-(P0)\"),\n",
       "                     PulseQobjInstruction(name='X90m_d0', t0=640, ch=\"d0\"),\n",
       "                     PulseQobjInstruction(name='fc', t0=1280, ch=\"d0\", phase=\"-(P1)\")]),\n",
       " namespace(name='x',\n",
       "           qubits=[0],\n",
       "           sequence=[PulseQobjInstruction(name='Xp_d0', t0=0, ch=\"d0\")])]"
      ]
     },
     "execution_count": 2,
     "metadata": {},
     "output_type": "execute_result"
    }
   ],
   "source": [
    "backend.defaults().cmd_def"
   ]
  },
  {
   "cell_type": "code",
   "execution_count": null,
   "metadata": {},
   "outputs": [],
   "source": []
  }
 ],
 "metadata": {
  "kernelspec": {
   "display_name": "Python 3",
   "language": "python",
   "name": "python3"
  },
  "language_info": {
   "codemirror_mode": {
    "name": "ipython",
    "version": 3
   },
   "file_extension": ".py",
   "mimetype": "text/x-python",
   "name": "python",
   "nbconvert_exporter": "python",
   "pygments_lexer": "ipython3",
   "version": "3.8.2"
  }
 },
 "nbformat": 4,
 "nbformat_minor": 4
}
