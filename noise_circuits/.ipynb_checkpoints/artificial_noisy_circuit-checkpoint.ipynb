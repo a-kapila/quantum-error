{
 "cells": [
  {
   "cell_type": "code",
   "execution_count": null,
   "metadata": {},
   "outputs": [],
   "source": [
    "import qiskit\n",
    "from qiskit import QuantumCircuit\n",
    "from qiskit.visualization import plot_histogram, plot_state_city\n",
    "import qiskit.quantum_info as qi\n",
    "\n",
    "import numpy as np"
   ]
  },
  {
   "cell_type": "code",
   "execution_count": null,
   "metadata": {},
   "outputs": [],
   "source": [
    "def ghz_circuit_noise(num_qubits, error_h=None, error_cx=None):\n",
    "    \"\"\"Generate a noisy GHZ preparation circuit\"\"\"\n",
    "    from qiskit.extensions import HGate, CXGate\n",
    "\n",
    "    # Noisy H-gate\n",
    "    if error_h is None:\n",
    "        h_gate = HGate()\n",
    "    else:\n",
    "        h_gate = qiskit.QuantumCircuit(1, name='h_noise')\n",
    "        h_gate.append(HGate(), [0])\n",
    "        h_gate.append(error_h, [0])\n",
    "        h_gate = h_gate.to_instruction()\n",
    "\n",
    "    # Noisy CX-gate\n",
    "    if error_cx is None:\n",
    "        cx_gate = CXGate()\n",
    "    else:\n",
    "        cx_gate = qiskit.QuantumCircuit(2, name='cx_noise')\n",
    "        cx_gate.append(CXGate(), [0, 1])\n",
    "        cx_gate.append(error_cx, [0, 1])\n",
    "        cx_gate = cx_gate.to_instruction()\n",
    "        \n",
    "    # Make noisy circuit\n",
    "    circ = qiskit.QuantumCircuit(num_qubits)\n",
    "    circ.append(h_gate, [0])\n",
    "    for j in range(1, num_qubits):\n",
    "        circ.append(cx_gate, [0, j])\n",
    "    return circ\n",
    "    "
   ]
  },
  {
   "cell_type": "code",
   "execution_count": null,
   "metadata": {},
   "outputs": [],
   "source": [
    "\"\"\"\n",
    "ERROR MODEL\n",
    "Bit flip errors after the H gate and on each qubit after a CX gate\n",
    "all iid Bernoulli(p) errors\n",
    "\"\"\"\n",
    "\n",
    "# Error parameters\n",
    "I = qi.Operator.from_label('I') #identity gate\n",
    "X = qi.Operator.from_label('X')\n",
    "p_error = 0.1\n",
    "\n",
    "# H error term\n",
    "chan1 = (1 - p_error) * qi.SuperOp(I) + p_error * qi.SuperOp(X)\n",
    "\n",
    "# CX error term\n",
    "chan2 = chan1.tensor(chan1)"
   ]
  },
  {
   "cell_type": "code",
   "execution_count": null,
   "metadata": {},
   "outputs": [],
   "source": [
    "#transpiling noisy circuit gives original gates and noise terms\n",
    "circ_noise = ghz_circuit_noise(3, error_h=chan1, error_cx=chan2)\n",
    "circ_noise.draw()"
   ]
  }
 ],
 "metadata": {
  "kernelspec": {
   "display_name": "Python 3",
   "language": "python",
   "name": "python3"
  },
  "language_info": {
   "codemirror_mode": {
    "name": "ipython",
    "version": 3
   },
   "file_extension": ".py",
   "mimetype": "text/x-python",
   "name": "python",
   "nbconvert_exporter": "python",
   "pygments_lexer": "ipython3",
   "version": "3.8.2"
  }
 },
 "nbformat": 4,
 "nbformat_minor": 4
}
